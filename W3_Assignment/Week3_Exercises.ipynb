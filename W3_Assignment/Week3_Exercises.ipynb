{
 "cells": [
  {
   "cell_type": "markdown",
   "metadata": {},
   "source": [
    "# Week 3: Probabilistic Reasoning\n",
    "\n",
    "\n",
    "\n",
    "<br><br>\n",
    "<span style=\"color: red; font-size: large;\">\n",
    "A passing grade for this assignment requires correctly answering all questions.<br>\n",
    "Ensure the correctness of your responses by comparing them with the notebook's outputs.<br>\n",
    "</span>\n",
    "\n",
    "\n"
   ]
  },
  {
   "cell_type": "markdown",
   "metadata": {},
   "source": [
    "# Exercise 1 : Working with Full Joint Distributions\n",
    "\n",
    "In this exercise, you're provided with a dataset of students' data. The data has been generated automatically, and is not realistic in any capacity.\n",
    "\n",
    "Let's first load the dataset and examine the first 10 rows."
   ]
  },
  {
   "cell_type": "code",
   "execution_count": null,
   "metadata": {
    "is_executing": true
   },
   "outputs": [],
   "source": [
    "import pandas as pd\n",
    "import numpy as np"
   ]
  },
  {
   "cell_type": "code",
   "execution_count": 2,
   "metadata": {},
   "outputs": [
    {
     "data": {
      "text/html": [
       "<div>\n",
       "<style scoped>\n",
       "    .dataframe tbody tr th:only-of-type {\n",
       "        vertical-align: middle;\n",
       "    }\n",
       "\n",
       "    .dataframe tbody tr th {\n",
       "        vertical-align: top;\n",
       "    }\n",
       "\n",
       "    .dataframe thead th {\n",
       "        text-align: right;\n",
       "    }\n",
       "</style>\n",
       "<table border=\"1\" class=\"dataframe\">\n",
       "  <thead>\n",
       "    <tr style=\"text-align: right;\">\n",
       "      <th></th>\n",
       "      <th>id</th>\n",
       "      <th>first_name</th>\n",
       "      <th>last_name</th>\n",
       "      <th>SCHOLARSHIP</th>\n",
       "      <th>STUDY</th>\n",
       "      <th>GPA</th>\n",
       "    </tr>\n",
       "  </thead>\n",
       "  <tbody>\n",
       "    <tr>\n",
       "      <th>0</th>\n",
       "      <td>1</td>\n",
       "      <td>Belle</td>\n",
       "      <td>Travis</td>\n",
       "      <td>yes</td>\n",
       "      <td>BIT</td>\n",
       "      <td>7.0</td>\n",
       "    </tr>\n",
       "    <tr>\n",
       "      <th>1</th>\n",
       "      <td>2</td>\n",
       "      <td>Tammie</td>\n",
       "      <td>Longhi</td>\n",
       "      <td>yes</td>\n",
       "      <td>TCS</td>\n",
       "      <td>8.5</td>\n",
       "    </tr>\n",
       "    <tr>\n",
       "      <th>2</th>\n",
       "      <td>3</td>\n",
       "      <td>Cecily</td>\n",
       "      <td>Golborn</td>\n",
       "      <td>no</td>\n",
       "      <td>BIT</td>\n",
       "      <td>6.5</td>\n",
       "    </tr>\n",
       "    <tr>\n",
       "      <th>3</th>\n",
       "      <td>4</td>\n",
       "      <td>Vally</td>\n",
       "      <td>Abramchik</td>\n",
       "      <td>yes</td>\n",
       "      <td>TCS</td>\n",
       "      <td>7.5</td>\n",
       "    </tr>\n",
       "    <tr>\n",
       "      <th>4</th>\n",
       "      <td>5</td>\n",
       "      <td>Hardy</td>\n",
       "      <td>Garman</td>\n",
       "      <td>no</td>\n",
       "      <td>TCS</td>\n",
       "      <td>9.0</td>\n",
       "    </tr>\n",
       "    <tr>\n",
       "      <th>5</th>\n",
       "      <td>6</td>\n",
       "      <td>Harrietta</td>\n",
       "      <td>Doherty</td>\n",
       "      <td>yes</td>\n",
       "      <td>TCS</td>\n",
       "      <td>5.5</td>\n",
       "    </tr>\n",
       "    <tr>\n",
       "      <th>6</th>\n",
       "      <td>7</td>\n",
       "      <td>Cointon</td>\n",
       "      <td>Otton</td>\n",
       "      <td>no</td>\n",
       "      <td>BIT</td>\n",
       "      <td>9.0</td>\n",
       "    </tr>\n",
       "    <tr>\n",
       "      <th>7</th>\n",
       "      <td>8</td>\n",
       "      <td>Joellen</td>\n",
       "      <td>Linge</td>\n",
       "      <td>yes</td>\n",
       "      <td>BIT</td>\n",
       "      <td>9.5</td>\n",
       "    </tr>\n",
       "    <tr>\n",
       "      <th>8</th>\n",
       "      <td>9</td>\n",
       "      <td>Billi</td>\n",
       "      <td>Tadd</td>\n",
       "      <td>yes</td>\n",
       "      <td>TCS</td>\n",
       "      <td>8.5</td>\n",
       "    </tr>\n",
       "    <tr>\n",
       "      <th>9</th>\n",
       "      <td>10</td>\n",
       "      <td>Wallie</td>\n",
       "      <td>Alison</td>\n",
       "      <td>no</td>\n",
       "      <td>TCS</td>\n",
       "      <td>5.5</td>\n",
       "    </tr>\n",
       "  </tbody>\n",
       "</table>\n",
       "</div>"
      ],
      "text/plain": [
       "   id first_name  last_name SCHOLARSHIP STUDY  GPA\n",
       "0   1      Belle     Travis         yes   BIT  7.0\n",
       "1   2     Tammie     Longhi         yes   TCS  8.5\n",
       "2   3     Cecily    Golborn          no   BIT  6.5\n",
       "3   4      Vally  Abramchik         yes   TCS  7.5\n",
       "4   5      Hardy     Garman          no   TCS  9.0\n",
       "5   6  Harrietta    Doherty         yes   TCS  5.5\n",
       "6   7    Cointon      Otton          no   BIT  9.0\n",
       "7   8    Joellen      Linge         yes   BIT  9.5\n",
       "8   9      Billi       Tadd         yes   TCS  8.5\n",
       "9  10     Wallie     Alison          no   TCS  5.5"
      ]
     },
     "execution_count": 2,
     "metadata": {},
     "output_type": "execute_result"
    }
   ],
   "source": [
    "students=pd.read_csv(\"students.csv\")\n",
    "students.head(10)"
   ]
  },
  {
   "cell_type": "markdown",
   "metadata": {},
   "source": [
    "#### Question 1  \n",
    "Given the dataset above, calculate the following probability $$P(SCHOLARSHIP=yes)$$"
   ]
  },
  {
   "cell_type": "code",
   "execution_count": 3,
   "metadata": {},
   "outputs": [
    {
     "data": {
      "text/plain": [
       "0.494"
      ]
     },
     "execution_count": 3,
     "metadata": {},
     "output_type": "execute_result"
    }
   ],
   "source": [
    "#Your answer goes here"
   ]
  },
  {
   "cell_type": "markdown",
   "metadata": {},
   "source": [
    "#### Question 2 \n",
    "1.Calculate the following probability\n",
    "$$P(SCHOLARSHIP=yes, GPA>7.5)$$"
   ]
  },
  {
   "cell_type": "code",
   "execution_count": 4,
   "metadata": {},
   "outputs": [
    {
     "name": "stdout",
     "output_type": "stream",
     "text": [
      "0.206\n"
     ]
    }
   ],
   "source": [
    "#Your answer goes here"
   ]
  },
  {
   "cell_type": "markdown",
   "metadata": {},
   "source": [
    "2. Calculate the probability $$P(GPA>7.5, SCHOLARSHIP=yes)$$\n"
   ]
  },
  {
   "cell_type": "code",
   "execution_count": 5,
   "metadata": {},
   "outputs": [
    {
     "name": "stdout",
     "output_type": "stream",
     "text": [
      "0.206\n"
     ]
    }
   ],
   "source": [
    "#Your answer goes here"
   ]
  },
  {
   "cell_type": "markdown",
   "metadata": {},
   "source": [
    "##### Check that the values you get for the subquestions (2.1 and 2.2) of question 2 are the same."
   ]
  },
  {
   "cell_type": "markdown",
   "metadata": {},
   "source": [
    "#### Question 3\n",
    "Calculate the following probability\n",
    "$$P(SCHOLARSHIP=yes, GPA>7.5,STUDY=BIT)$$"
   ]
  },
  {
   "cell_type": "code",
   "execution_count": 6,
   "metadata": {},
   "outputs": [
    {
     "name": "stdout",
     "output_type": "stream",
     "text": [
      "0.104\n"
     ]
    }
   ],
   "source": [
    "#Your answer goes here"
   ]
  },
  {
   "cell_type": "markdown",
   "metadata": {},
   "source": [
    "#### Question 4\n",
    "Calculate the following conditional probability\n",
    "$$P(SCHOLARSHIP=yes|GPA>7.5)$$"
   ]
  },
  {
   "cell_type": "code",
   "execution_count": 7,
   "metadata": {},
   "outputs": [
    {
     "name": "stdout",
     "output_type": "stream",
     "text": [
      "0.5\n"
     ]
    }
   ],
   "source": [
    "#Your answer goes here"
   ]
  },
  {
   "cell_type": "markdown",
   "metadata": {},
   "source": [
    "#### Question 5\n",
    "Calculate the same probability as in question 4 by using the Bayes rule (meaning use P(GPA>7.5|SCHOLARSHIP=yes))"
   ]
  },
  {
   "cell_type": "code",
   "execution_count": 8,
   "metadata": {},
   "outputs": [
    {
     "name": "stdout",
     "output_type": "stream",
     "text": [
      "0.5\n"
     ]
    }
   ],
   "source": [
    "#Your answer goes here"
   ]
  },
  {
   "cell_type": "markdown",
   "metadata": {},
   "source": [
    "#### Question 6\n",
    "Return a vector of probabilities for the following expression $$P(SCHOLARSHIP|STUDY)$$"
   ]
  },
  {
   "cell_type": "code",
   "execution_count": 9,
   "metadata": {},
   "outputs": [
    {
     "name": "stdout",
     "output_type": "stream",
     "text": [
      "P(yes|BIT)=0.5189873417721519\n",
      "P(no|BIT)=0.48101265822784817\n",
      "P(yes|TCS)=0.4714828897338403\n",
      "P(no|TCS)=0.5285171102661598\n",
      "\n",
      "The vector of conditional probabilities:\n",
      "[0.51898734 0.48101266 0.47148289 0.52851711]\n"
     ]
    }
   ],
   "source": [
    "#Your answer goes here        "
   ]
  },
  {
   "cell_type": "markdown",
   "metadata": {},
   "source": [
    "#### Question 7\n",
    "Return a vector of probabilities for the following expression $$ P (STUDY|SCHOLARSHIP)$$  "
   ]
  },
  {
   "cell_type": "code",
   "execution_count": 10,
   "metadata": {},
   "outputs": [
    {
     "name": "stdout",
     "output_type": "stream",
     "text": [
      "P(BIT|yes)=0.4979757085020243\n",
      "P(TCS|yes)=0.5020242914979757\n",
      "P(BIT|no)=0.4505928853754941\n",
      "P(TCS|no)=0.549407114624506\n",
      "\n",
      "The vector of conditional probabilities:\n",
      "[0.4979757085020243, 0.5020242914979757, 0.4505928853754941, 0.549407114624506]\n"
     ]
    }
   ],
   "source": [
    "#Your answer goes here"
   ]
  },
  {
   "cell_type": "markdown",
   "metadata": {},
   "source": [
    "#### Question 8 \n",
    "Let's now recreate our full joint probability distribution. \n",
    "Consider that the GPA variable is also binary, either GPA>7.5 or GPA<=7.5\n",
    "The random variables we are interested in are SCHOLARSHIP, STUDY and GPA."
   ]
  },
  {
   "cell_type": "code",
   "execution_count": 11,
   "metadata": {},
   "outputs": [
    {
     "name": "stdout",
     "output_type": "stream",
     "text": [
      "P(SCHOLARSHIP=yes,STUDY=BIT,GRADE>7.5=False)=0.142\n",
      "P(SCHOLARSHIP=yes,STUDY=BIT,GRADE>7.5=True)=0.104\n",
      "P(SCHOLARSHIP=yes,STUDY=TCS,GRADE>7.5=False)=0.146\n",
      "P(SCHOLARSHIP=yes,STUDY=TCS,GRADE>7.5=True)=0.102\n",
      "P(SCHOLARSHIP=no,STUDY=BIT,GRADE>7.5=False)=0.14\n",
      "P(SCHOLARSHIP=no,STUDY=BIT,GRADE>7.5=True)=0.088\n",
      "P(SCHOLARSHIP=no,STUDY=TCS,GRADE>7.5=False)=0.16\n",
      "P(SCHOLARSHIP=no,STUDY=TCS,GRADE>7.5=True)=0.118\n",
      "The vector of full joint probabilities:\n",
      "[0.142, 0.104, 0.146, 0.102, 0.14, 0.088, 0.16, 0.118]\n",
      "Sum of the values in the vector:\n",
      "1.0\n"
     ]
    }
   ],
   "source": [
    "#Your answer goes here"
   ]
  },
  {
   "cell_type": "markdown",
   "metadata": {},
   "source": [
    "## Exercise 2: Balls and Urns\n",
    "\n",
    "In this exercise, we will reproduce the computations of this week's first lecture, and extend them to $n$ urns.\n",
    "\n",
    "First, we need to represent how many urns we have and how many balls of each type they contain."
   ]
  },
  {
   "cell_type": "code",
   "execution_count": 12,
   "metadata": {},
   "outputs": [],
   "source": [
    "import numpy as np\n",
    "from scipy.stats import binom\n",
    "\n",
    "urns = np.array([[5,3],[3,5]])\n",
    "numUrns = urns.shape[0]\n",
    "priors = np.ones(numUrns) / numUrns\n"
   ]
  },
  {
   "cell_type": "markdown",
   "metadata": {},
   "source": [
    "As in the lecture, we will draw balls with replacement. The first thing to do is to be able to compute the probability of drawing $n$ white balls and $m$ blue balls, with replacement.\n",
    "\n",
    "#### Question 1\n",
    "Implement a function called \"likelihood\" which takes as parameters\n",
    "1. The index of the urn\n",
    "1. The number of white balls drawn\n",
    "1. The number of blue balls drawn\n",
    "    \n",
    "The distribution for this kind of observation is called the Binomial distribution. You can use the standard implementation of this distribution in the scipy.stats package for your implementation of this function."
   ]
  },
  {
   "cell_type": "code",
   "execution_count": 13,
   "metadata": {},
   "outputs": [
    {
     "name": "stdout",
     "output_type": "stream",
     "text": [
      "0.20599365234375\n"
     ]
    }
   ],
   "source": [
    "def likelihood(urn, nWhite, nBlue):\n",
    "    '''\n",
    "    implement this function\n",
    "    '''\n",
    "\n",
    "print(likelihood(1,3,2))"
   ]
  },
  {
   "cell_type": "markdown",
   "metadata": {},
   "source": [
    "Now, let us compute the posterior probability of having used the first urn given the observed number of white and blue balls. \n",
    "\n",
    "#### Question 2\n",
    "Implement a function called \"posterior\" which takes the same parameters as the \"likelihood\" function. Try to make your implementation work for any number of urns.\n",
    "\n",
    "What is the posterior probability of having picked urn 1 if we drew 3 white and 2 blue balls? What about 1 white and 3 blue balls?"
   ]
  },
  {
   "cell_type": "code",
   "execution_count": 14,
   "metadata": {},
   "outputs": [
    {
     "name": "stdout",
     "output_type": "stream",
     "text": [
      "0.6249999999999999\n",
      "0.375\n",
      "0.2647058823529411\n"
     ]
    }
   ],
   "source": [
    "def posterior(urn, nWhite, nBlue):\n",
    "    '''\n",
    "    implement this function\n",
    "    '''\n",
    "\n",
    "print(posterior(0,3,2))\n",
    "print(posterior(1,3,2))\n",
    "print(posterior(0,1,3))\n"
   ]
  },
  {
   "cell_type": "markdown",
   "metadata": {},
   "source": [
    "## Exercise 3: Entering college\n",
    "\n",
    "Let's encode the probabilities of being smart, and an athlete and compute conditional probabilities."
   ]
  },
  {
   "cell_type": "code",
   "execution_count": 15,
   "metadata": {},
   "outputs": [],
   "source": [
    "pS = 0.4\n",
    "pA = 0.1\n",
    "pC_SA = np.array([[ 0.91, 0.9],[0.9, 0.04]])"
   ]
  },
  {
   "cell_type": "markdown",
   "metadata": {},
   "source": [
    "#### Question 1\n",
    "\n",
    "Implement a function that computes the joint probability of being smart (or not), entering college (or not) and being an athlete (or not). This functions takes three boolean parameters:\n",
    "1. s, indicating whether the person is smart (True) or not Falss\n",
    "1. c, indicating whether the person entered college\n",
    "1. a, indicating whether the person is an athlete\n"
   ]
  },
  {
   "cell_type": "code",
   "execution_count": 16,
   "metadata": {},
   "outputs": [],
   "source": [
    "# Your answer comes here\n",
    "def p(s,c,a):\n",
    "    '''\n",
    "    implement this function\n",
    "    '''\n",
    "    "
   ]
  },
  {
   "cell_type": "markdown",
   "metadata": {},
   "source": [
    "#### Question 2\n",
    "Let's compute the probability that somebody is smart given that that person is an athlete, using marginalisation:\n",
    "\n",
    "$$ p(s|a) = \\frac{p(s,a)}{p(a)} $$\n",
    "\n",
    "where\n",
    "\n",
    "$$p(s,a) = p(s,c,a) + p(s,\\neg c, a)$$"
   ]
  },
  {
   "cell_type": "code",
   "execution_count": 17,
   "metadata": {},
   "outputs": [
    {
     "name": "stdout",
     "output_type": "stream",
     "text": [
      "0.4000000000000001\n"
     ]
    }
   ],
   "source": [
    "# Your answer comes here \n",
    "\n",
    "\n",
    "print(pSA / pA)"
   ]
  },
  {
   "cell_type": "markdown",
   "metadata": {},
   "source": [
    "#### Question 3\n",
    "Next, let's compute the probability that somebody is smart given that that person is in college\n",
    "\n",
    "$$ P(s|c) = \\frac{P(s,c)}{P(c)} = \\frac{P(s,c,a) + P(s,c,\\neg a)}{P(s,c,a)+P(s,c,\\neg a)+P(\\neg s,c,a) + P(\\neg S,c,\\neg a)}$$"
   ]
  },
  {
   "cell_type": "code",
   "execution_count": 18,
   "metadata": {},
   "outputs": [
    {
     "name": "stdout",
     "output_type": "stream",
     "text": [
      "0.826605504587156\n"
     ]
    }
   ],
   "source": [
    "# Your answer comes here\n",
    "\n",
    "\n",
    "print(pSC/pC)"
   ]
  },
  {
   "cell_type": "markdown",
   "metadata": {},
   "source": [
    "#### Question 4\n",
    "Finally, compute the probability that a person is smart, given that this person is in college and an athlete."
   ]
  },
  {
   "cell_type": "code",
   "execution_count": 19,
   "metadata": {},
   "outputs": [
    {
     "name": "stdout",
     "output_type": "stream",
     "text": [
      "0.40265486725663724\n"
     ]
    }
   ],
   "source": [
    "# Your answer comes here\n",
    "\n",
    "\n",
    "print(pSCA/pAC)"
   ]
  },
  {
   "cell_type": "markdown",
   "metadata": {},
   "source": [
    "## Exercise 4: Bayesian Networks\n",
    "\n",
    "##### In the first part of this exercise, we will show you how to work with pyAgrum to create a simple Bayesian Network.\n",
    "##### It is then up to you to create a bayesian network and make inferences with it.\n",
    "\n",
    "<span style=\"color:red\">\n",
    "<br>    \n",
    "To be able to visualize the Bayesian networks, you need to run graphviz.\n",
    "\n",
    "If you're working with Anaconda install it by running **conda install -c anaconda graphviz** from the Anaconda prompt.\n",
    "\n",
    "You can also install it directly from [graphviz](https://graphviz.org/download/).\n",
    "</span>\n",
    "\n",
    "## Part I: A Working Example"
   ]
  },
  {
   "cell_type": "markdown",
   "metadata": {},
   "source": [
    "We start with the necessary imports\n",
    "\n",
    "Please also refer to the tutorials and documentation of [pyAgrum](https://pyagrum.readthedocs.io/en/1.10.0/notebooks/01-Tutorial.html)"
   ]
  },
  {
   "cell_type": "code",
   "execution_count": 20,
   "metadata": {},
   "outputs": [],
   "source": [
    "import pyAgrum as gum\n",
    "import os\n",
    "import pyAgrum.lib.notebook as gnb"
   ]
  },
  {
   "cell_type": "markdown",
   "metadata": {},
   "source": [
    "Let's now create a new Bayesian Network, call it **college**, and store it in the variable **bayesian_net**."
   ]
  },
  {
   "cell_type": "code",
   "execution_count": 21,
   "metadata": {},
   "outputs": [
    {
     "name": "stdout",
     "output_type": "stream",
     "text": [
      "BN{nodes: 0, arcs: 0, domainSize: 1, dim: 0, mem: 0o}\n"
     ]
    }
   ],
   "source": [
    "bayesian_net=gum.BayesNet('college')\n",
    "print(bayesian_net)"
   ]
  },
  {
   "cell_type": "markdown",
   "metadata": {},
   "source": [
    "In this BN, we will have three random variables or nodes (S, A and C). We specify the possible value each random variable will take, in our case, all random variables will be set to either true or false (order matters here)."
   ]
  },
  {
   "cell_type": "code",
   "execution_count": 22,
   "metadata": {},
   "outputs": [],
   "source": [
    "S=bayesian_net.add(gum.LabelizedVariable('S','Smart',[\"true\",\"false\"]))\n",
    "A=bayesian_net.add(gum.LabelizedVariable('A','Athlete',[\"true\",\"false\"]))\n",
    "C=bayesian_net.add(gum.LabelizedVariable('C','Collete',[\"true\",\"false\"]))"
   ]
  },
  {
   "cell_type": "markdown",
   "metadata": {},
   "source": [
    "We now proceed to connect the nodes. Both nodes S and A are connected to C."
   ]
  },
  {
   "cell_type": "code",
   "execution_count": 23,
   "metadata": {},
   "outputs": [],
   "source": [
    "#arc goes from S to C\n",
    "bayesian_net.addArc(S,C)\n",
    "bayesian_net.addArc(A,C)\n"
   ]
  },
  {
   "cell_type": "markdown",
   "metadata": {},
   "source": [
    "We can easily visualize our Bayesian Network to check whether its structure is correct."
   ]
  },
  {
   "cell_type": "code",
   "execution_count": 24,
   "metadata": {},
   "outputs": [
    {
     "data": {
      "text/html": [
       "<svg xmlns=\"http://www.w3.org/2000/svg\" xmlns:xlink=\"http://www.w3.org/1999/xlink\" width=\"134pt\" height=\"116pt\" viewBox=\"0.00 0.00 134.00 116.00\">\n",
       "<g id=\"graph0\" class=\"graph\" transform=\"scale(1 1) rotate(0) translate(4 112)\">\n",
       "<title>G</title>\n",
       "<!-- C -->\n",
       "<g id=\"node1\" class=\"node\"><title>C</title>\n",
       "<g id=\"a_node1\"><a xlink:title=\"(2) C\">\n",
       "<ellipse fill=\"#404040\" stroke=\"black\" cx=\"63\" cy=\"-18\" rx=\"27\" ry=\"18\"/>\n",
       "<text text-anchor=\"middle\" x=\"63\" y=\"-14.3\" font-family=\"Times New Roman,serif\" font-size=\"14.00\" fill=\"white\">C</text>\n",
       "</a>\n",
       "</g>\n",
       "</g>\n",
       "<!-- A -->\n",
       "<g id=\"node2\" class=\"node\"><title>A</title>\n",
       "<g id=\"a_node2\"><a xlink:title=\"(1) A\">\n",
       "<ellipse fill=\"#404040\" stroke=\"black\" cx=\"27\" cy=\"-90\" rx=\"27\" ry=\"18\"/>\n",
       "<text text-anchor=\"middle\" x=\"27\" y=\"-86.3\" font-family=\"Times New Roman,serif\" font-size=\"14.00\" fill=\"white\">A</text>\n",
       "</a>\n",
       "</g>\n",
       "</g>\n",
       "<!-- A&#45;&gt;C -->\n",
       "<g id=\"edge2\" class=\"edge\"><title>A-&gt;C</title>\n",
       "<g id=\"a_edge2\"><a xlink:title=\"(1, 2) : \">\n",
       "<path fill=\"none\" stroke=\"#4a4a4a\" d=\"M35.3496,-72.7646C39.7115,-64.2831 45.1469,-53.7144 50.0413,-44.1974\"/>\n",
       "<polygon fill=\"#4a4a4a\" stroke=\"#4a4a4a\" points=\"53.2346,-45.6409 54.6957,-35.1473 47.0096,-42.4395 53.2346,-45.6409\"/>\n",
       "</a>\n",
       "</g>\n",
       "</g>\n",
       "<!-- S -->\n",
       "<g id=\"node3\" class=\"node\"><title>S</title>\n",
       "<g id=\"a_node3\"><a xlink:title=\"(0) S\">\n",
       "<ellipse fill=\"#404040\" stroke=\"black\" cx=\"99\" cy=\"-90\" rx=\"27\" ry=\"18\"/>\n",
       "<text text-anchor=\"middle\" x=\"99\" y=\"-86.3\" font-family=\"Times New Roman,serif\" font-size=\"14.00\" fill=\"white\">S</text>\n",
       "</a>\n",
       "</g>\n",
       "</g>\n",
       "<!-- S&#45;&gt;C -->\n",
       "<g id=\"edge1\" class=\"edge\"><title>S-&gt;C</title>\n",
       "<g id=\"a_edge1\"><a xlink:title=\"(0, 2) : \">\n",
       "<path fill=\"none\" stroke=\"#4a4a4a\" d=\"M90.6504,-72.7646C86.2885,-64.2831 80.8531,-53.7144 75.9587,-44.1974\"/>\n",
       "<polygon fill=\"#4a4a4a\" stroke=\"#4a4a4a\" points=\"78.9904,-42.4395 71.3043,-35.1473 72.7654,-45.6409 78.9904,-42.4395\"/>\n",
       "</a>\n",
       "</g>\n",
       "</g>\n",
       "</g>\n",
       "</svg>"
      ],
      "text/plain": [
       "(pyAgrum.BayesNet<double>@0000017A730A5EA0) BN{nodes: 3, arcs: 2, domainSize: 8, dim: 6, mem: 96o}"
      ]
     },
     "execution_count": 24,
     "metadata": {},
     "output_type": "execute_result"
    }
   ],
   "source": [
    "bayesian_net"
   ]
  },
  {
   "cell_type": "markdown",
   "metadata": {},
   "source": [
    "We now proceed to fill the conditional probability tables for all our nodes."
   ]
  },
  {
   "cell_type": "code",
   "execution_count": 25,
   "metadata": {},
   "outputs": [
    {
     "data": {
      "text/html": [
       "<table style=\"border:1px solid black;\">\n",
       "<tr style='border:1px solid black;color:black;background-color:#808080'>\n",
       "      <th colspan='2'><center>A</center></th></tr>\n",
       "<tr><th style='border:1px solid black;border-bottom-style: double;color:black;background-color:#BBBBBB'>\n",
       "      <center>true</center></th><th style='border:1px solid black;border-bottom-style: double;color:black;background-color:#BBBBBB'>\n",
       "      <center>false</center></th></tr>\n",
       "<tr><td style='color:black;background-color:#f28b64;text-align:right;'>0.1000</td><td style='color:black;background-color:#8bf264;text-align:right;'>0.9000</td></tr>\n",
       "</table>"
      ],
      "text/plain": [
       "(pyAgrum.Potential<double>@0000017A7318F600) \n",
       "  A                |\n",
       "true     |false    |\n",
       "---------|---------|\n",
       " 0.1000  | 0.9000  |"
      ]
     },
     "execution_count": 25,
     "metadata": {},
     "output_type": "execute_result"
    }
   ],
   "source": [
    "#for random variable A\n",
    "bayesian_net.cpt(A).fillWith([0.1,0.9])"
   ]
  },
  {
   "cell_type": "code",
   "execution_count": 26,
   "metadata": {},
   "outputs": [
    {
     "data": {
      "text/html": [
       "<table style=\"border:1px solid black;\">\n",
       "<tr style='border:1px solid black;color:black;background-color:#808080'>\n",
       "      <th colspan='2'><center>S</center></th></tr>\n",
       "<tr><th style='border:1px solid black;border-bottom-style: double;color:black;background-color:#BBBBBB'>\n",
       "      <center>true</center></th><th style='border:1px solid black;border-bottom-style: double;color:black;background-color:#BBBBBB'>\n",
       "      <center>false</center></th></tr>\n",
       "<tr><td style='color:black;background-color:#cbb264;text-align:right;'>0.4000</td><td style='color:black;background-color:#b2cb64;text-align:right;'>0.6000</td></tr>\n",
       "</table>"
      ],
      "text/plain": [
       "(pyAgrum.Potential<double>@0000017A72CF0920) \n",
       "  S                |\n",
       "true     |false    |\n",
       "---------|---------|\n",
       " 0.4000  | 0.6000  |"
      ]
     },
     "execution_count": 26,
     "metadata": {},
     "output_type": "execute_result"
    }
   ],
   "source": [
    "#for random variable S\n",
    "bayesian_net.cpt(S).fillWith([0.4,0.6])"
   ]
  },
  {
   "cell_type": "code",
   "execution_count": 27,
   "metadata": {
    "scrolled": true
   },
   "outputs": [
    {
     "data": {
      "text/plain": [
       "('C', 'S', 'A')"
      ]
     },
     "execution_count": 27,
     "metadata": {},
     "output_type": "execute_result"
    }
   ],
   "source": [
    "#This prints the structure of the CPT associated with C\n",
    "#Might not be interesting here, but thing about a node with many parents\n",
    "bayesian_net.cpt(C).names"
   ]
  },
  {
   "cell_type": "code",
   "execution_count": 28,
   "metadata": {},
   "outputs": [
    {
     "data": {
      "text/html": [
       "<table style=\"border:1px solid black;\">\n",
       "<tr><th colspan='2'></th>\n",
       "      <th colspan='2' style='border:1px solid black;color:black;background-color:#808080;'><center>C</center>\n",
       "      </th></tr>\n",
       "<tr><th style='border:1px solid black;color:black;background-color:#808080'><center>A</center></th><th style='border:1px solid black;color:black;background-color:#808080'><center>S</center></th><th style='border:1px solid black;border-bottom-style: double;color:black;background-color:#BBBBBB'>\n",
       "      <center>true</center></th><th style='border:1px solid black;border-bottom-style: double;color:black;background-color:#BBBBBB'>\n",
       "      <center>false</center></th></tr>\n",
       "<tr><th style='border:1px solid black;color:black;background-color:#BBBBBB;' rowspan = '2'>\n",
       "            <center>true</center></th><th style='border:1px solid black;color:black;background-color:#BBBBBB'><center>true</center></th><td style='color:black;background-color:#8af364;text-align:right;'>0.9100</td><td style='color:black;background-color:#f38a64;text-align:right;'>0.0900</td></tr>\n",
       "<tr><th style='border:1px solid black;color:black;background-color:#BBBBBB'><center>false</center></th><td style='color:black;background-color:#8bf264;text-align:right;'>0.9000</td><td style='color:black;background-color:#f28b64;text-align:right;'>0.1000</td></tr>\n",
       "<tr><th style='border:1px solid black;color:black;background-color:#BBBBBB;' rowspan = '2'>\n",
       "            <center>false</center></th><th style='border:1px solid black;color:black;background-color:#BBBBBB'><center>true</center></th><td style='color:black;background-color:#8bf264;text-align:right;'>0.9000</td><td style='color:black;background-color:#f28b64;text-align:right;'>0.1000</td></tr>\n",
       "<tr><th style='border:1px solid black;color:black;background-color:#BBBBBB'><center>false</center></th><td style='color:black;background-color:#f98464;text-align:right;'>0.0400</td><td style='color:black;background-color:#84f964;text-align:right;'>0.9600</td></tr>\n",
       "</table>"
      ],
      "text/plain": [
       "(pyAgrum.Potential<double>@0000017A7318F5C0) \n",
       "             ||  C                |\n",
       "S     |A     ||true     |false    |\n",
       "------|------||---------|---------|\n",
       "true  |true  || 0.9100  | 0.0900  |\n",
       "false |true  || 0.9000  | 0.1000  |\n",
       "true  |false || 0.9000  | 0.1000  |\n",
       "false |false || 0.0400  | 0.9600  |"
      ]
     },
     "execution_count": 28,
     "metadata": {},
     "output_type": "execute_result"
    }
   ],
   "source": [
    "#Filling the CPT of the College node C\n",
    "bayesian_net.cpt(C)[0,0,:] = [0.91, 0.09] \n",
    "bayesian_net.cpt(C)[0,1,:] = [0.9, 0.1] \n",
    "bayesian_net.cpt(C)[1,0,:] = [0.9, 0.1] \n",
    "bayesian_net.cpt(C)[1,1,:] = [0.04, 0.96] \n",
    "bayesian_net.cpt(C)"
   ]
  },
  {
   "cell_type": "markdown",
   "metadata": {},
   "source": [
    "Let's save our model."
   ]
  },
  {
   "cell_type": "code",
   "execution_count": 29,
   "metadata": {},
   "outputs": [],
   "source": [
    "gum.saveBN(bayesian_net,os.path.join(\"./\",\"college.bif\"))"
   ]
  },
  {
   "cell_type": "markdown",
   "metadata": {},
   "source": [
    "Now we proceed to make some inferences using our Bayesian network."
   ]
  },
  {
   "cell_type": "code",
   "execution_count": 30,
   "metadata": {},
   "outputs": [],
   "source": [
    "ie=gum.LazyPropagation(bayesian_net)"
   ]
  },
  {
   "cell_type": "markdown",
   "metadata": {},
   "source": [
    "Let's calculate $P(s|a,c) and P(\\neg s|a,c)$"
   ]
  },
  {
   "cell_type": "code",
   "execution_count": 31,
   "metadata": {
    "scrolled": false
   },
   "outputs": [
    {
     "data": {
      "text/html": [
       "<table style=\"border:1px solid black;\">\n",
       "<tr style='border:1px solid black;color:black;background-color:#808080'>\n",
       "      <th colspan='2'><center>S</center></th></tr>\n",
       "<tr><th style='border:1px solid black;border-bottom-style: double;color:black;background-color:#BBBBBB'>\n",
       "      <center>true</center></th><th style='border:1px solid black;border-bottom-style: double;color:black;background-color:#BBBBBB'>\n",
       "      <center>false</center></th></tr>\n",
       "<tr><td style='color:black;background-color:#cbb264;text-align:right;'>0.4027</td><td style='color:black;background-color:#b2cb64;text-align:right;'>0.5973</td></tr>\n",
       "</table>"
      ],
      "text/plain": [
       "(pyAgrum.Potential<double>@0000017A70A72A30) \n",
       "  S                |\n",
       "true     |false    |\n",
       "---------|---------|\n",
       " 0.4027  | 0.5973  |"
      ]
     },
     "execution_count": 31,
     "metadata": {},
     "output_type": "execute_result"
    }
   ],
   "source": [
    "ie.makeInference()\n",
    "ie.setEvidence({'A':0, 'C':0})\n",
    "ie.makeInference()\n",
    "ie.posterior(S)"
   ]
  },
  {
   "cell_type": "markdown",
   "metadata": {},
   "source": [
    "Let's calculate $P(s|c) and P(\\neg s|c)$"
   ]
  },
  {
   "cell_type": "code",
   "execution_count": 32,
   "metadata": {},
   "outputs": [
    {
     "data": {
      "text/html": [
       "<table style=\"border:1px solid black;\">\n",
       "<tr style='border:1px solid black;color:black;background-color:#808080'>\n",
       "      <th colspan='2'><center>S</center></th></tr>\n",
       "<tr><th style='border:1px solid black;border-bottom-style: double;color:black;background-color:#BBBBBB'>\n",
       "      <center>true</center></th><th style='border:1px solid black;border-bottom-style: double;color:black;background-color:#BBBBBB'>\n",
       "      <center>false</center></th></tr>\n",
       "<tr><td style='color:black;background-color:#95e864;text-align:right;'>0.8266</td><td style='color:black;background-color:#e89564;text-align:right;'>0.1734</td></tr>\n",
       "</table>"
      ],
      "text/plain": [
       "(pyAgrum.Potential<double>@0000017A70A72A10) \n",
       "  S                |\n",
       "true     |false    |\n",
       "---------|---------|\n",
       " 0.8266  | 0.1734  |"
      ]
     },
     "execution_count": 32,
     "metadata": {},
     "output_type": "execute_result"
    }
   ],
   "source": [
    "ie.makeInference()\n",
    "ie.setEvidence({'C':0})\n",
    "ie.makeInference()\n",
    "ie.posterior(S)"
   ]
  },
  {
   "cell_type": "markdown",
   "metadata": {},
   "source": [
    "Let's calculate $P(s|a) and P(\\neg s|a)$"
   ]
  },
  {
   "cell_type": "code",
   "execution_count": 33,
   "metadata": {},
   "outputs": [
    {
     "data": {
      "text/html": [
       "<table style=\"border:1px solid black;\">\n",
       "<tr style='border:1px solid black;color:black;background-color:#808080'>\n",
       "      <th colspan='2'><center>S</center></th></tr>\n",
       "<tr><th style='border:1px solid black;border-bottom-style: double;color:black;background-color:#BBBBBB'>\n",
       "      <center>true</center></th><th style='border:1px solid black;border-bottom-style: double;color:black;background-color:#BBBBBB'>\n",
       "      <center>false</center></th></tr>\n",
       "<tr><td style='color:black;background-color:#cbb264;text-align:right;'>0.4000</td><td style='color:black;background-color:#b2cb64;text-align:right;'>0.6000</td></tr>\n",
       "</table>"
      ],
      "text/plain": [
       "(pyAgrum.Potential<double>@0000017A70A72AF0) \n",
       "  S                |\n",
       "true     |false    |\n",
       "---------|---------|\n",
       " 0.4000  | 0.6000  |"
      ]
     },
     "execution_count": 33,
     "metadata": {},
     "output_type": "execute_result"
    }
   ],
   "source": [
    "ie.makeInference()\n",
    "ie.setEvidence({'A':0})\n",
    "ie.makeInference()\n",
    "ie.posterior(S)"
   ]
  },
  {
   "cell_type": "markdown",
   "metadata": {},
   "source": [
    "## Part II: Implement your Own\n",
    "\n",
    "The below exercise is inspired from the research of Melo and Sanchez **Software maintenance project delays prediction using Bayesian Networks** available [here](https://www.sciencedirect.com/science/article/pii/S0957417406003526).\n",
    "\n",
    "We have also highlighted the questions in red to improve the exercise's readability."
   ]
  },
  {
   "cell_type": "markdown",
   "metadata": {},
   "source": [
    "**Description:**\n",
    "\n",
    "In this exercise, we want to build a Bayesian network that models the factors influencing the success of IT projects\n",
    "\n",
    "Refer to the below diagram for the overall structure.\n",
    "![IT Project Failure bayesian network](bayes_pm.png)\n",
    "\n",
    "#### Layer 1 - Fundamental Factors\n",
    "##### Project Size (Large:0, Small:1)\n",
    "\n",
    "Refers to the scope and scale of the project, which can include factors like duration, number of team members, and breadth of objectives.\n",
    "\n",
    "Larger projects are generally more complex, with higher risks and more coordination required. They may influence stakeholder engagement (larger projects often require more intense stakeholder involvement) and can also impact project management quality (larger projects often demand more rigorous management practices).\n",
    "\n",
    "##### Team Experience (Inexperienced:0, Experienced:1)\n",
    "\n",
    "Represents the cumulative experience and skill level of the project team.\n",
    "\n",
    "An experienced team is likely better at anticipating and managing project risks, which positively influences project management quality. Experienced teams are also more likely to understand and define requirements clearly and can affect stakeholder engagement through more effective communication and trust-building.\n",
    "\n",
    "##### Budget Adequacy (Inadequate:0, Adequate:1)\n",
    "\n",
    "Indicates whether the project has sufficient financial resources to meet its objectives without compromising on quality or timelines.\n",
    "\n",
    "Adequate budgeting is crucial for good project management. It ensures that necessary resources are available and can reduce the likelihood of project delays or quality issues. Budget constraints can also impact technology choices, possibly leading to the selection of simpler, more cost-effective technologies.\n",
    "\n",
    "##### Technology Complexity (Complex:0, Simple:1)\n",
    "\n",
    "Relates to the sophistication and intricacy of the technology used in the project.\n",
    "\n",
    "Complex technologies can increase the project's difficulty, requiring more skilled personnel (thus relating to team experience) and possibly impacting project management quality. Complex technology choices may also make requirement definition more challenging."
   ]
  },
  {
   "cell_type": "markdown",
   "metadata": {},
   "source": [
    "<span style=\"color:red; font-weight:bold;\">Question 1 <br> </span>\n",
    "<span style=\"color:red\">\n",
    "Create the nodes in the first layer of your bayesian network.<br>\n",
    "Start of course by instantiating an empty BayesNet object, then add the 4 nodes described above to it.<br>\n",
    "</span>\n"
   ]
  },
  {
   "cell_type": "code",
   "execution_count": 34,
   "metadata": {},
   "outputs": [
    {
     "data": {
      "text/html": [
       "<svg xmlns=\"http://www.w3.org/2000/svg\" xmlns:xlink=\"http://www.w3.org/1999/xlink\" width=\"360pt\" height=\"33pt\" viewBox=\"0.00 0.00 360.00 32.57\">\n",
       "<g id=\"graph0\" class=\"graph\" transform=\"scale(0.74022 0.74022) rotate(0) translate(4 40)\">\n",
       "<title>G</title>\n",
       "<!-- project_size -->\n",
       "<g id=\"node1\" class=\"node\"><title>project_size</title>\n",
       "<g id=\"a_node1\"><a xlink:title=\"(0) project_size\">\n",
       "<ellipse fill=\"#404040\" stroke=\"black\" cx=\"54.5952\" cy=\"-18\" rx=\"54.6905\" ry=\"18\"/>\n",
       "<text text-anchor=\"middle\" x=\"54.5952\" y=\"-14.3\" font-family=\"Times New Roman,serif\" font-size=\"14.00\" fill=\"white\">project_size</text>\n",
       "</a>\n",
       "</g>\n",
       "</g>\n",
       "<!-- technology -->\n",
       "<g id=\"node2\" class=\"node\"><title>technology</title>\n",
       "<g id=\"a_node2\"><a xlink:title=\"(3) technology\">\n",
       "<ellipse fill=\"#404040\" stroke=\"black\" cx=\"177.595\" cy=\"-18\" rx=\"50.8918\" ry=\"18\"/>\n",
       "<text text-anchor=\"middle\" x=\"177.595\" y=\"-14.3\" font-family=\"Times New Roman,serif\" font-size=\"14.00\" fill=\"white\">technology</text>\n",
       "</a>\n",
       "</g>\n",
       "</g>\n",
       "<!-- team_experience -->\n",
       "<g id=\"node3\" class=\"node\"><title>team_experience</title>\n",
       "<g id=\"a_node3\"><a xlink:title=\"(1) team_experience\">\n",
       "<ellipse fill=\"#404040\" stroke=\"black\" cx=\"317.595\" cy=\"-18\" rx=\"71.4873\" ry=\"18\"/>\n",
       "<text text-anchor=\"middle\" x=\"317.595\" y=\"-14.3\" font-family=\"Times New Roman,serif\" font-size=\"14.00\" fill=\"white\">team_experience</text>\n",
       "</a>\n",
       "</g>\n",
       "</g>\n",
       "<!-- budget -->\n",
       "<g id=\"node4\" class=\"node\"><title>budget</title>\n",
       "<g id=\"a_node4\"><a xlink:title=\"(2) budget\">\n",
       "<ellipse fill=\"#404040\" stroke=\"black\" cx=\"442.595\" cy=\"-18\" rx=\"35.9954\" ry=\"18\"/>\n",
       "<text text-anchor=\"middle\" x=\"442.595\" y=\"-14.3\" font-family=\"Times New Roman,serif\" font-size=\"14.00\" fill=\"white\">budget</text>\n",
       "</a>\n",
       "</g>\n",
       "</g>\n",
       "</g>\n",
       "</svg>"
      ],
      "text/plain": [
       "(pyAgrum.BayesNet<double>@000001F5EC60C5F0) BN{nodes: 4, arcs: 0, domainSize: 16, dim: 4, mem: 64o}"
      ]
     },
     "execution_count": 34,
     "metadata": {},
     "output_type": "execute_result"
    }
   ],
   "source": [
    "# Your answer comes here"
   ]
  },
  {
   "cell_type": "markdown",
   "metadata": {},
   "source": [
    "<span style=\"color:red; font-weight:bold;\">Question 2 <br> </span>\n",
    "<span style=\"color:red\">\n",
    "Fill the CPT for each of the 4 nodes.<br>\n",
    "Print the 4 CPTs to verify the values.<br>\n",
    "</span>\n"
   ]
  },
  {
   "cell_type": "code",
   "execution_count": 35,
   "metadata": {},
   "outputs": [
    {
     "name": "stdout",
     "output_type": "stream",
     "text": [
      "CPT of project_size:\n"
     ]
    },
    {
     "data": {
      "text/html": [
       "<table style=\"border:1px solid black;\"><tr style='border:1px solid black;color:black;background-color:#808080'>\n",
       "      <th colspan='2'><center>project_size</center></th></tr><tr><th style='border:1px solid black;border-bottom-style: double;color:black;background-color:#BBBBBB'>\n",
       "      <center>large</center></th><th style='border:1px solid black;border-bottom-style: double;color:black;background-color:#BBBBBB'>\n",
       "      <center>small</center></th></tr><tr><td style='color:black;background-color:#bfbf64;text-align:right;'>0.5000</td><td style='color:black;background-color:#bfbf64;text-align:right;'>0.5000</td></tr></table>"
      ],
      "text/plain": [
       "<IPython.core.display.HTML object>"
      ]
     },
     "metadata": {},
     "output_type": "display_data"
    },
    {
     "name": "stdout",
     "output_type": "stream",
     "text": [
      "CPT of team_experience:\n"
     ]
    },
    {
     "data": {
      "text/html": [
       "<table style=\"border:1px solid black;\"><tr style='border:1px solid black;color:black;background-color:#808080'>\n",
       "      <th colspan='2'><center>team_experience</center></th></tr><tr><th style='border:1px solid black;border-bottom-style: double;color:black;background-color:#BBBBBB'>\n",
       "      <center>Inexperienced</center></th><th style='border:1px solid black;border-bottom-style: double;color:black;background-color:#BBBBBB'>\n",
       "      <center>Experienced</center></th></tr><tr><td style='color:black;background-color:#bfbf64;text-align:right;'>0.5000</td><td style='color:black;background-color:#bfbf64;text-align:right;'>0.5000</td></tr></table>"
      ],
      "text/plain": [
       "<IPython.core.display.HTML object>"
      ]
     },
     "metadata": {},
     "output_type": "display_data"
    },
    {
     "name": "stdout",
     "output_type": "stream",
     "text": [
      "CPT of budget:\n"
     ]
    },
    {
     "data": {
      "text/html": [
       "<table style=\"border:1px solid black;\"><tr style='border:1px solid black;color:black;background-color:#808080'>\n",
       "      <th colspan='2'><center>budget</center></th></tr><tr><th style='border:1px solid black;border-bottom-style: double;color:black;background-color:#BBBBBB'>\n",
       "      <center>Inadequate</center></th><th style='border:1px solid black;border-bottom-style: double;color:black;background-color:#BBBBBB'>\n",
       "      <center>Adequate</center></th></tr><tr><td style='color:black;background-color:#bfbf64;text-align:right;'>0.5000</td><td style='color:black;background-color:#bfbf64;text-align:right;'>0.5000</td></tr></table>"
      ],
      "text/plain": [
       "<IPython.core.display.HTML object>"
      ]
     },
     "metadata": {},
     "output_type": "display_data"
    },
    {
     "name": "stdout",
     "output_type": "stream",
     "text": [
      "CPT of technology:\n"
     ]
    },
    {
     "data": {
      "text/html": [
       "<table style=\"border:1px solid black;\"><tr style='border:1px solid black;color:black;background-color:#808080'>\n",
       "      <th colspan='2'><center>technology</center></th></tr><tr><th style='border:1px solid black;border-bottom-style: double;color:black;background-color:#BBBBBB'>\n",
       "      <center>Complex</center></th><th style='border:1px solid black;border-bottom-style: double;color:black;background-color:#BBBBBB'>\n",
       "      <center>Simple</center></th></tr><tr><td style='color:black;background-color:#bfbf64;text-align:right;'>0.5000</td><td style='color:black;background-color:#bfbf64;text-align:right;'>0.5000</td></tr></table>"
      ],
      "text/plain": [
       "<IPython.core.display.HTML object>"
      ]
     },
     "metadata": {},
     "output_type": "display_data"
    }
   ],
   "source": [
    "# Your answer comes here"
   ]
  },
  {
   "cell_type": "markdown",
   "metadata": {},
   "source": [
    "#### Layer 2 - Intermediate Factors\n",
    "\n",
    "##### Project Management Quality (Poor:0, Good:1)\n",
    "\n",
    "\n",
    "Reflects the effectiveness of planning, executing, monitoring, controlling, and closing project activities.\n",
    "\n",
    "Good project management is pivotal for project success. It helps in effectively utilizing resources, maintaining timelines, and achieving project objectives. High-quality management can positively influence the project outcome by mitigating various risks and coordinating project activities efficiently.\n",
    "\n",
    "##### Stakeholder Engagement (Low:0, High:1)\n",
    "\n",
    "\n",
    "Measures the level of involvement and support of all parties interested in the project, including clients, sponsors, and team members.\n",
    "\n",
    "High stakeholder engagement often correlates with better project outcomes as it ensures that stakeholder expectations are aligned with project goals, and necessary support is provided throughout the project lifecycle.\n",
    "\n",
    "##### Requirement Clarity (Unclear:0, Clear:1)\n",
    "\n",
    "Indicates how well the project's objectives, deliverables, and scope are understood and documented.\n",
    "\n",
    "Clear requirements are essential for successful project execution. They prevent scope creep, reduce misunderstandings, and ensure that the project team is working towards a common goal. Clear requirements positively influence the project outcome by providing a solid foundation for all project activities."
   ]
  },
  {
   "cell_type": "markdown",
   "metadata": {},
   "source": [
    "#### Layer 1 to Layer 2 Impact\n",
    "\n",
    "##### Team Experience → Stakeholder Engagement:\n",
    "\n",
    "An experienced team can engage stakeholders more effectively due to better communication skills and a deeper understanding of stakeholder needs and concerns. Their experience often builds trust and credibility, leading to more active and positive involvement from stakeholders.\n",
    "\n",
    "##### Project Size → Stakeholder Engagement:\n",
    "\n",
    "Larger projects typically require more significant stakeholder involvement due to their complexity and broader impact.\n",
    "##### Team Experience → Project Management Quality:\n",
    "\n",
    "Experienced teams are likely to implement more effective project management practices, leading to higher quality management.\n",
    "##### Budget Adequacy → Project Management Quality:\n",
    "\n",
    "Adequate budgeting allows for better resource allocation and planning, which are crucial for good project management.\n",
    "##### Team Experience → Requirement Clarity:\n",
    "\n",
    "Experienced teams are generally better at defining clear and precise project requirements due to their understanding of similar projects and potential pitfalls. It is evident that having an inexperienced requirements analyst can significantly contribute to the failure of a project. \n",
    "##### Technology Complexity → Requirement Clarity:\n",
    "\n",
    "Complex technologies often require more detailed and specific requirements, as they may introduce unique challenges and considerations."
   ]
  },
  {
   "cell_type": "markdown",
   "metadata": {},
   "source": [
    "<span style=\"color:red; font-weight:bold;\">Question 3<br> </span>\n",
    "<span style=\"color:red\">\n",
    "Add the 3 nodes above to your bayesian network.<br>\n",
    "Draw the arcs that connect each node to its parents.<br>\n",
    "Print your network to verify its structure\n",
    "</span>"
   ]
  },
  {
   "cell_type": "code",
   "execution_count": 36,
   "metadata": {
    "scrolled": true
   },
   "outputs": [
    {
     "data": {
      "text/html": [
       "<svg xmlns=\"http://www.w3.org/2000/svg\" xmlns:xlink=\"http://www.w3.org/1999/xlink\" width=\"360pt\" height=\"81pt\" viewBox=\"0.00 0.00 360.00 81.07\">\n",
       "<g id=\"graph0\" class=\"graph\" transform=\"scale(0.698844 0.698844) rotate(0) translate(4 112)\">\n",
       "<title>G</title>\n",
       "<!-- requirements -->\n",
       "<g id=\"node1\" class=\"node\"><title>requirements</title>\n",
       "<g id=\"a_node1\"><a xlink:title=\"(6) requirements\">\n",
       "<ellipse fill=\"#404040\" stroke=\"black\" cx=\"73.6955\" cy=\"-18\" rx=\"57.3905\" ry=\"18\"/>\n",
       "<text text-anchor=\"middle\" x=\"73.6955\" y=\"-14.3\" font-family=\"Times New Roman,serif\" font-size=\"14.00\" fill=\"white\">requirements</text>\n",
       "</a>\n",
       "</g>\n",
       "</g>\n",
       "<!-- pm_quality -->\n",
       "<g id=\"node2\" class=\"node\"><title>pm_quality</title>\n",
       "<g id=\"a_node2\"><a xlink:title=\"(4) pm_quality\">\n",
       "<ellipse fill=\"#404040\" stroke=\"black\" cx=\"206.696\" cy=\"-18\" rx=\"51.1914\" ry=\"18\"/>\n",
       "<text text-anchor=\"middle\" x=\"206.696\" y=\"-14.3\" font-family=\"Times New Roman,serif\" font-size=\"14.00\" fill=\"white\">pm_quality</text>\n",
       "</a>\n",
       "</g>\n",
       "</g>\n",
       "<!-- stakeholder_engagement -->\n",
       "<g id=\"node3\" class=\"node\"><title>stakeholder_engagement</title>\n",
       "<g id=\"a_node3\"><a xlink:title=\"(5) stakeholder_engagement\">\n",
       "<ellipse fill=\"#404040\" stroke=\"black\" cx=\"407.696\" cy=\"-18\" rx=\"99.3824\" ry=\"18\"/>\n",
       "<text text-anchor=\"middle\" x=\"407.696\" y=\"-14.3\" font-family=\"Times New Roman,serif\" font-size=\"14.00\" fill=\"white\">stakeholder_engagement</text>\n",
       "</a>\n",
       "</g>\n",
       "</g>\n",
       "<!-- team_experience -->\n",
       "<g id=\"node4\" class=\"node\"><title>team_experience</title>\n",
       "<g id=\"a_node4\"><a xlink:title=\"(1) team_experience\">\n",
       "<ellipse fill=\"#404040\" stroke=\"black\" cx=\"190.696\" cy=\"-90\" rx=\"71.4873\" ry=\"18\"/>\n",
       "<text text-anchor=\"middle\" x=\"190.696\" y=\"-86.3\" font-family=\"Times New Roman,serif\" font-size=\"14.00\" fill=\"white\">team_experience</text>\n",
       "</a>\n",
       "</g>\n",
       "</g>\n",
       "<!-- team_experience&#45;&gt;requirements -->\n",
       "<g id=\"edge6\" class=\"edge\"><title>team_experience-&gt;requirements</title>\n",
       "<g id=\"a_edge6\"><a xlink:title=\"(1, 6) : \">\n",
       "<path fill=\"none\" stroke=\"#4a4a4a\" d=\"M164.146,-73.1159C147.611,-63.2231 126.163,-50.391 108.303,-39.7054\"/>\n",
       "<polygon fill=\"#4a4a4a\" stroke=\"#4a4a4a\" points=\"109.714,-36.4709 99.3355,-34.3402 106.12,-42.4779 109.714,-36.4709\"/>\n",
       "</a>\n",
       "</g>\n",
       "</g>\n",
       "<!-- team_experience&#45;&gt;pm_quality -->\n",
       "<g id=\"edge3\" class=\"edge\"><title>team_experience-&gt;pm_quality</title>\n",
       "<g id=\"a_edge3\"><a xlink:title=\"(1, 4) : \">\n",
       "<path fill=\"none\" stroke=\"#4a4a4a\" d=\"M194.651,-71.6966C196.414,-63.9827 198.533,-54.7125 200.498,-46.1124\"/>\n",
       "<polygon fill=\"#4a4a4a\" stroke=\"#4a4a4a\" points=\"203.97,-46.6328 202.786,-36.1043 197.146,-45.073 203.97,-46.6328\"/>\n",
       "</a>\n",
       "</g>\n",
       "</g>\n",
       "<!-- team_experience&#45;&gt;stakeholder_engagement -->\n",
       "<g id=\"edge2\" class=\"edge\"><title>team_experience-&gt;stakeholder_engagement</title>\n",
       "<g id=\"a_edge2\"><a xlink:title=\"(1, 5) : \">\n",
       "<path fill=\"none\" stroke=\"#4a4a4a\" d=\"M232.793,-75.4203C266.622,-64.5077 314.444,-49.081 351.536,-37.1161\"/>\n",
       "<polygon fill=\"#4a4a4a\" stroke=\"#4a4a4a\" points=\"352.762,-40.3982 361.204,-33.9971 350.613,-33.7362 352.762,-40.3982\"/>\n",
       "</a>\n",
       "</g>\n",
       "</g>\n",
       "<!-- budget -->\n",
       "<g id=\"node5\" class=\"node\"><title>budget</title>\n",
       "<g id=\"a_node5\"><a xlink:title=\"(2) budget\">\n",
       "<ellipse fill=\"#404040\" stroke=\"black\" cx=\"315.696\" cy=\"-90\" rx=\"35.9954\" ry=\"18\"/>\n",
       "<text text-anchor=\"middle\" x=\"315.696\" y=\"-86.3\" font-family=\"Times New Roman,serif\" font-size=\"14.00\" fill=\"white\">budget</text>\n",
       "</a>\n",
       "</g>\n",
       "</g>\n",
       "<!-- budget&#45;&gt;pm_quality -->\n",
       "<g id=\"edge1\" class=\"edge\"><title>budget-&gt;pm_quality</title>\n",
       "<g id=\"a_edge1\"><a xlink:title=\"(2, 4) : \">\n",
       "<path fill=\"none\" stroke=\"#4a4a4a\" d=\"M294.42,-75.3371C278.554,-65.1478 256.613,-51.0569 238.643,-39.5167\"/>\n",
       "<polygon fill=\"#4a4a4a\" stroke=\"#4a4a4a\" points=\"240.49,-36.5433 230.184,-34.0846 236.707,-42.4333 240.49,-36.5433\"/>\n",
       "</a>\n",
       "</g>\n",
       "</g>\n",
       "<!-- project_size -->\n",
       "<g id=\"node6\" class=\"node\"><title>project_size</title>\n",
       "<g id=\"a_node6\"><a xlink:title=\"(0) project_size\">\n",
       "<ellipse fill=\"#404040\" stroke=\"black\" cx=\"423.696\" cy=\"-90\" rx=\"54.6905\" ry=\"18\"/>\n",
       "<text text-anchor=\"middle\" x=\"423.696\" y=\"-86.3\" font-family=\"Times New Roman,serif\" font-size=\"14.00\" fill=\"white\">project_size</text>\n",
       "</a>\n",
       "</g>\n",
       "</g>\n",
       "<!-- project_size&#45;&gt;stakeholder_engagement -->\n",
       "<g id=\"edge4\" class=\"edge\"><title>project_size-&gt;stakeholder_engagement</title>\n",
       "<g id=\"a_edge4\"><a xlink:title=\"(0, 5) : \">\n",
       "<path fill=\"none\" stroke=\"#4a4a4a\" d=\"M419.74,-71.6966C417.977,-63.9827 415.858,-54.7125 413.893,-46.1124\"/>\n",
       "<polygon fill=\"#4a4a4a\" stroke=\"#4a4a4a\" points=\"417.245,-45.073 411.605,-36.1043 410.421,-46.6328 417.245,-45.073\"/>\n",
       "</a>\n",
       "</g>\n",
       "</g>\n",
       "<!-- technology -->\n",
       "<g id=\"node7\" class=\"node\"><title>technology</title>\n",
       "<g id=\"a_node7\"><a xlink:title=\"(3) technology\">\n",
       "<ellipse fill=\"#404040\" stroke=\"black\" cx=\"50.6955\" cy=\"-90\" rx=\"50.8918\" ry=\"18\"/>\n",
       "<text text-anchor=\"middle\" x=\"50.6955\" y=\"-86.3\" font-family=\"Times New Roman,serif\" font-size=\"14.00\" fill=\"white\">technology</text>\n",
       "</a>\n",
       "</g>\n",
       "</g>\n",
       "<!-- technology&#45;&gt;requirements -->\n",
       "<g id=\"edge5\" class=\"edge\"><title>technology-&gt;requirements</title>\n",
       "<g id=\"a_edge5\"><a xlink:title=\"(3, 6) : \">\n",
       "<path fill=\"none\" stroke=\"#4a4a4a\" d=\"M56.2632,-72.055C58.8519,-64.1762 61.9929,-54.6165 64.8917,-45.794\"/>\n",
       "<polygon fill=\"#4a4a4a\" stroke=\"#4a4a4a\" points=\"68.2228,-46.8682 68.0193,-36.2753 61.5726,-44.6831 68.2228,-46.8682\"/>\n",
       "</a>\n",
       "</g>\n",
       "</g>\n",
       "</g>\n",
       "</svg>"
      ],
      "text/plain": [
       "(pyAgrum.BayesNet<double>@000001F5EC60C5F0) BN{nodes: 7, arcs: 6, domainSize: 128, dim: 16, mem: 256o}"
      ]
     },
     "execution_count": 36,
     "metadata": {},
     "output_type": "execute_result"
    }
   ],
   "source": [
    "# Your answer comes here"
   ]
  },
  {
   "cell_type": "markdown",
   "metadata": {},
   "source": [
    "<span style=\"color:red; font-weight:bold;\">Question 4 <br> </span>\n",
    "<span style=\"color:red\">\n",
    "Fill the CPT for each of the 3 nodes.<br>\n",
    "Print the 3 CPTs to verify the values.<br>\n",
    "</span>"
   ]
  },
  {
   "cell_type": "code",
   "execution_count": 37,
   "metadata": {},
   "outputs": [
    {
     "name": "stdout",
     "output_type": "stream",
     "text": [
      "CPT of pm_quality:\n"
     ]
    },
    {
     "data": {
      "text/html": [
       "<table style=\"border:1px solid black;\"><tr><th colspan='2'></th>\n",
       "      <th colspan='2' style='border:1px solid black;color:black;background-color:#808080;'><center>pm_quality</center>\n",
       "      </th></tr><tr><th style='border:1px solid black;color:black;background-color:#808080'><center>budget</center></th><th style='border:1px solid black;color:black;background-color:#808080'><center>team_experience</center></th><th style='border:1px solid black;border-bottom-style: double;color:black;background-color:#BBBBBB'>\n",
       "      <center>Poor</center></th><th style='border:1px solid black;border-bottom-style: double;color:black;background-color:#BBBBBB'>\n",
       "      <center>Good</center></th></tr><tr><th style='border:1px solid black;color:black;background-color:#BBBBBB;' rowspan = '2'>\n",
       "            <center>Inadequate</center></th><th style='border:1px solid black;color:black;background-color:#BBBBBB'><center>Inexperienced</center></th><td style='color:black;background-color:#abd264;text-align:right;'>0.6500</td><td style='color:black;background-color:#d2ab64;text-align:right;'>0.3500</td></tr><tr><th style='border:1px solid black;color:black;background-color:#BBBBBB'><center>Experienced</center></th><td style='color:black;background-color:#cbb264;text-align:right;'>0.4000</td><td style='color:black;background-color:#b2cb64;text-align:right;'>0.6000</td></tr><tr><th style='border:1px solid black;color:black;background-color:#BBBBBB;' rowspan = '2'>\n",
       "            <center>Adequate</center></th><th style='border:1px solid black;color:black;background-color:#BBBBBB'><center>Inexperienced</center></th><td style='color:black;background-color:#b2cb64;text-align:right;'>0.6000</td><td style='color:black;background-color:#cbb264;text-align:right;'>0.4000</td></tr><tr><th style='border:1px solid black;color:black;background-color:#BBBBBB'><center>Experienced</center></th><td style='color:black;background-color:#f28b64;text-align:right;'>0.1000</td><td style='color:black;background-color:#8bf264;text-align:right;'>0.9000</td></tr></table>"
      ],
      "text/plain": [
       "<IPython.core.display.HTML object>"
      ]
     },
     "metadata": {},
     "output_type": "display_data"
    },
    {
     "name": "stdout",
     "output_type": "stream",
     "text": [
      "CPT of stakeholder_engagement:\n"
     ]
    },
    {
     "data": {
      "text/html": [
       "<table style=\"border:1px solid black;\"><tr><th colspan='2'></th>\n",
       "      <th colspan='2' style='border:1px solid black;color:black;background-color:#808080;'><center>stakeholder_engagement</center>\n",
       "      </th></tr><tr><th style='border:1px solid black;color:black;background-color:#808080'><center>team_experience</center></th><th style='border:1px solid black;color:black;background-color:#808080'><center>project_size</center></th><th style='border:1px solid black;border-bottom-style: double;color:black;background-color:#BBBBBB'>\n",
       "      <center>Low</center></th><th style='border:1px solid black;border-bottom-style: double;color:black;background-color:#BBBBBB'>\n",
       "      <center>High</center></th></tr><tr><th style='border:1px solid black;color:black;background-color:#BBBBBB;' rowspan = '2'>\n",
       "            <center>Inexperienced</center></th><th style='border:1px solid black;color:black;background-color:#BBBBBB'><center>large</center></th><td style='color:black;background-color:#bfbf64;text-align:right;'>0.5000</td><td style='color:black;background-color:#bfbf64;text-align:right;'>0.5000</td></tr><tr><th style='border:1px solid black;color:black;background-color:#BBBBBB'><center>small</center></th><td style='color:black;background-color:#e59864;text-align:right;'>0.2000</td><td style='color:black;background-color:#98e564;text-align:right;'>0.8000</td></tr><tr><th style='border:1px solid black;color:black;background-color:#BBBBBB;' rowspan = '2'>\n",
       "            <center>Experienced</center></th><th style='border:1px solid black;color:black;background-color:#BBBBBB'><center>large</center></th><td style='color:black;background-color:#f28b64;text-align:right;'>0.1000</td><td style='color:black;background-color:#8bf264;text-align:right;'>0.9000</td></tr><tr><th style='border:1px solid black;color:black;background-color:#BBBBBB'><center>small</center></th><td style='color:black;background-color:#d8a564;text-align:right;'>0.3000</td><td style='color:black;background-color:#a5d864;text-align:right;'>0.7000</td></tr></table>"
      ],
      "text/plain": [
       "<IPython.core.display.HTML object>"
      ]
     },
     "metadata": {},
     "output_type": "display_data"
    },
    {
     "name": "stdout",
     "output_type": "stream",
     "text": [
      "CPT of requirements:\n"
     ]
    },
    {
     "data": {
      "text/html": [
       "<table style=\"border:1px solid black;\"><tr><th colspan='2'></th>\n",
       "      <th colspan='2' style='border:1px solid black;color:black;background-color:#808080;'><center>requirements</center>\n",
       "      </th></tr><tr><th style='border:1px solid black;color:black;background-color:#808080'><center>technology</center></th><th style='border:1px solid black;color:black;background-color:#808080'><center>team_experience</center></th><th style='border:1px solid black;border-bottom-style: double;color:black;background-color:#BBBBBB'>\n",
       "      <center>Unclear</center></th><th style='border:1px solid black;border-bottom-style: double;color:black;background-color:#BBBBBB'>\n",
       "      <center>Clear</center></th></tr><tr><th style='border:1px solid black;color:black;background-color:#BBBBBB;' rowspan = '2'>\n",
       "            <center>Complex</center></th><th style='border:1px solid black;color:black;background-color:#BBBBBB'><center>Inexperienced</center></th><td style='color:black;background-color:#b2cb64;text-align:right;'>0.6000</td><td style='color:black;background-color:#cbb264;text-align:right;'>0.4000</td></tr><tr><th style='border:1px solid black;color:black;background-color:#BBBBBB'><center>Experienced</center></th><td style='color:black;background-color:#cbb264;text-align:right;'>0.4000</td><td style='color:black;background-color:#b2cb64;text-align:right;'>0.6000</td></tr><tr><th style='border:1px solid black;color:black;background-color:#BBBBBB;' rowspan = '2'>\n",
       "            <center>Simple</center></th><th style='border:1px solid black;color:black;background-color:#BBBBBB'><center>Inexperienced</center></th><td style='color:black;background-color:#cbb264;text-align:right;'>0.4000</td><td style='color:black;background-color:#b2cb64;text-align:right;'>0.6000</td></tr><tr><th style='border:1px solid black;color:black;background-color:#BBBBBB'><center>Experienced</center></th><td style='color:black;background-color:#f28b64;text-align:right;'>0.1000</td><td style='color:black;background-color:#8bf264;text-align:right;'>0.9000</td></tr></table>"
      ],
      "text/plain": [
       "<IPython.core.display.HTML object>"
      ]
     },
     "metadata": {},
     "output_type": "display_data"
    }
   ],
   "source": [
    "# Your answer comes here"
   ]
  },
  {
   "cell_type": "markdown",
   "metadata": {},
   "source": [
    "#### Layer 3 - External Factors\n",
    "\n",
    "##### Market Conditions (Unfavorable:0, Favorable:1)\n",
    "\n",
    "\n",
    "Encompasses external economic and market factors like industry trends, competition, and economic climate.\n",
    "\n",
    "Favorable market conditions can contribute to a project's success by providing a conducive environment for the project's objectives. Unfavorable conditions may pose additional risks and challenges, such as budget cuts or shifting priorities."
   ]
  },
  {
   "cell_type": "markdown",
   "metadata": {},
   "source": [
    "<span style=\"color:red; font-weight:bold;\">Question 5 <br> </span>\n",
    "<span style=\"color:red\">\n",
    "Add the market node to the bayesian network.<br>\n",
    "Visualize the network to check its correctness.<br>\n",
    "</span>\n",
    "Note that without the arc connecting the **market** to the **outcome** node, the **market** node will be placed in the first layer. The network will be fixed once we add the **outcome** node."
   ]
  },
  {
   "cell_type": "code",
   "execution_count": 38,
   "metadata": {},
   "outputs": [
    {
     "data": {
      "text/html": [
       "<svg xmlns=\"http://www.w3.org/2000/svg\" xmlns:xlink=\"http://www.w3.org/1999/xlink\" width=\"360pt\" height=\"73pt\" viewBox=\"0.00 0.00 360.00 72.65\">\n",
       "<g id=\"graph0\" class=\"graph\" transform=\"scale(0.626313 0.626313) rotate(0) translate(4 112)\">\n",
       "<title>G</title>\n",
       "<!-- requirements -->\n",
       "<g id=\"node1\" class=\"node\"><title>requirements</title>\n",
       "<g id=\"a_node1\"><a xlink:title=\"(6) requirements\">\n",
       "<ellipse fill=\"#404040\" stroke=\"black\" cx=\"73.6955\" cy=\"-18\" rx=\"57.3905\" ry=\"18\"/>\n",
       "<text text-anchor=\"middle\" x=\"73.6955\" y=\"-14.3\" font-family=\"Times New Roman,serif\" font-size=\"14.00\" fill=\"white\">requirements</text>\n",
       "</a>\n",
       "</g>\n",
       "</g>\n",
       "<!-- pm_quality -->\n",
       "<g id=\"node2\" class=\"node\"><title>pm_quality</title>\n",
       "<g id=\"a_node2\"><a xlink:title=\"(4) pm_quality\">\n",
       "<ellipse fill=\"#404040\" stroke=\"black\" cx=\"206.696\" cy=\"-18\" rx=\"51.1914\" ry=\"18\"/>\n",
       "<text text-anchor=\"middle\" x=\"206.696\" y=\"-14.3\" font-family=\"Times New Roman,serif\" font-size=\"14.00\" fill=\"white\">pm_quality</text>\n",
       "</a>\n",
       "</g>\n",
       "</g>\n",
       "<!-- stakeholder_engagement -->\n",
       "<g id=\"node3\" class=\"node\"><title>stakeholder_engagement</title>\n",
       "<g id=\"a_node3\"><a xlink:title=\"(5) stakeholder_engagement\">\n",
       "<ellipse fill=\"#404040\" stroke=\"black\" cx=\"407.696\" cy=\"-18\" rx=\"99.3824\" ry=\"18\"/>\n",
       "<text text-anchor=\"middle\" x=\"407.696\" y=\"-14.3\" font-family=\"Times New Roman,serif\" font-size=\"14.00\" fill=\"white\">stakeholder_engagement</text>\n",
       "</a>\n",
       "</g>\n",
       "</g>\n",
       "<!-- market -->\n",
       "<g id=\"node4\" class=\"node\"><title>market</title>\n",
       "<g id=\"a_node4\"><a xlink:title=\"(7) market\">\n",
       "<ellipse fill=\"#404040\" stroke=\"black\" cx=\"531.696\" cy=\"-90\" rx=\"35.194\" ry=\"18\"/>\n",
       "<text text-anchor=\"middle\" x=\"531.696\" y=\"-86.3\" font-family=\"Times New Roman,serif\" font-size=\"14.00\" fill=\"white\">market</text>\n",
       "</a>\n",
       "</g>\n",
       "</g>\n",
       "<!-- team_experience -->\n",
       "<g id=\"node5\" class=\"node\"><title>team_experience</title>\n",
       "<g id=\"a_node5\"><a xlink:title=\"(1) team_experience\">\n",
       "<ellipse fill=\"#404040\" stroke=\"black\" cx=\"190.696\" cy=\"-90\" rx=\"71.4873\" ry=\"18\"/>\n",
       "<text text-anchor=\"middle\" x=\"190.696\" y=\"-86.3\" font-family=\"Times New Roman,serif\" font-size=\"14.00\" fill=\"white\">team_experience</text>\n",
       "</a>\n",
       "</g>\n",
       "</g>\n",
       "<!-- team_experience&#45;&gt;requirements -->\n",
       "<g id=\"edge6\" class=\"edge\"><title>team_experience-&gt;requirements</title>\n",
       "<g id=\"a_edge6\"><a xlink:title=\"(1, 6) : \">\n",
       "<path fill=\"none\" stroke=\"#4a4a4a\" d=\"M164.146,-73.1159C147.611,-63.2231 126.163,-50.391 108.303,-39.7054\"/>\n",
       "<polygon fill=\"#4a4a4a\" stroke=\"#4a4a4a\" points=\"109.714,-36.4709 99.3355,-34.3402 106.12,-42.4779 109.714,-36.4709\"/>\n",
       "</a>\n",
       "</g>\n",
       "</g>\n",
       "<!-- team_experience&#45;&gt;pm_quality -->\n",
       "<g id=\"edge3\" class=\"edge\"><title>team_experience-&gt;pm_quality</title>\n",
       "<g id=\"a_edge3\"><a xlink:title=\"(1, 4) : \">\n",
       "<path fill=\"none\" stroke=\"#4a4a4a\" d=\"M194.651,-71.6966C196.414,-63.9827 198.533,-54.7125 200.498,-46.1124\"/>\n",
       "<polygon fill=\"#4a4a4a\" stroke=\"#4a4a4a\" points=\"203.97,-46.6328 202.786,-36.1043 197.146,-45.073 203.97,-46.6328\"/>\n",
       "</a>\n",
       "</g>\n",
       "</g>\n",
       "<!-- team_experience&#45;&gt;stakeholder_engagement -->\n",
       "<g id=\"edge2\" class=\"edge\"><title>team_experience-&gt;stakeholder_engagement</title>\n",
       "<g id=\"a_edge2\"><a xlink:title=\"(1, 5) : \">\n",
       "<path fill=\"none\" stroke=\"#4a4a4a\" d=\"M232.793,-75.4203C266.622,-64.5077 314.444,-49.081 351.536,-37.1161\"/>\n",
       "<polygon fill=\"#4a4a4a\" stroke=\"#4a4a4a\" points=\"352.762,-40.3982 361.204,-33.9971 350.613,-33.7362 352.762,-40.3982\"/>\n",
       "</a>\n",
       "</g>\n",
       "</g>\n",
       "<!-- budget -->\n",
       "<g id=\"node6\" class=\"node\"><title>budget</title>\n",
       "<g id=\"a_node6\"><a xlink:title=\"(2) budget\">\n",
       "<ellipse fill=\"#404040\" stroke=\"black\" cx=\"315.696\" cy=\"-90\" rx=\"35.9954\" ry=\"18\"/>\n",
       "<text text-anchor=\"middle\" x=\"315.696\" y=\"-86.3\" font-family=\"Times New Roman,serif\" font-size=\"14.00\" fill=\"white\">budget</text>\n",
       "</a>\n",
       "</g>\n",
       "</g>\n",
       "<!-- budget&#45;&gt;pm_quality -->\n",
       "<g id=\"edge1\" class=\"edge\"><title>budget-&gt;pm_quality</title>\n",
       "<g id=\"a_edge1\"><a xlink:title=\"(2, 4) : \">\n",
       "<path fill=\"none\" stroke=\"#4a4a4a\" d=\"M294.42,-75.3371C278.554,-65.1478 256.613,-51.0569 238.643,-39.5167\"/>\n",
       "<polygon fill=\"#4a4a4a\" stroke=\"#4a4a4a\" points=\"240.49,-36.5433 230.184,-34.0846 236.707,-42.4333 240.49,-36.5433\"/>\n",
       "</a>\n",
       "</g>\n",
       "</g>\n",
       "<!-- project_size -->\n",
       "<g id=\"node7\" class=\"node\"><title>project_size</title>\n",
       "<g id=\"a_node7\"><a xlink:title=\"(0) project_size\">\n",
       "<ellipse fill=\"#404040\" stroke=\"black\" cx=\"423.696\" cy=\"-90\" rx=\"54.6905\" ry=\"18\"/>\n",
       "<text text-anchor=\"middle\" x=\"423.696\" y=\"-86.3\" font-family=\"Times New Roman,serif\" font-size=\"14.00\" fill=\"white\">project_size</text>\n",
       "</a>\n",
       "</g>\n",
       "</g>\n",
       "<!-- project_size&#45;&gt;stakeholder_engagement -->\n",
       "<g id=\"edge4\" class=\"edge\"><title>project_size-&gt;stakeholder_engagement</title>\n",
       "<g id=\"a_edge4\"><a xlink:title=\"(0, 5) : \">\n",
       "<path fill=\"none\" stroke=\"#4a4a4a\" d=\"M419.74,-71.6966C417.977,-63.9827 415.858,-54.7125 413.893,-46.1124\"/>\n",
       "<polygon fill=\"#4a4a4a\" stroke=\"#4a4a4a\" points=\"417.245,-45.073 411.605,-36.1043 410.421,-46.6328 417.245,-45.073\"/>\n",
       "</a>\n",
       "</g>\n",
       "</g>\n",
       "<!-- technology -->\n",
       "<g id=\"node8\" class=\"node\"><title>technology</title>\n",
       "<g id=\"a_node8\"><a xlink:title=\"(3) technology\">\n",
       "<ellipse fill=\"#404040\" stroke=\"black\" cx=\"50.6955\" cy=\"-90\" rx=\"50.8918\" ry=\"18\"/>\n",
       "<text text-anchor=\"middle\" x=\"50.6955\" y=\"-86.3\" font-family=\"Times New Roman,serif\" font-size=\"14.00\" fill=\"white\">technology</text>\n",
       "</a>\n",
       "</g>\n",
       "</g>\n",
       "<!-- technology&#45;&gt;requirements -->\n",
       "<g id=\"edge5\" class=\"edge\"><title>technology-&gt;requirements</title>\n",
       "<g id=\"a_edge5\"><a xlink:title=\"(3, 6) : \">\n",
       "<path fill=\"none\" stroke=\"#4a4a4a\" d=\"M56.2632,-72.055C58.8519,-64.1762 61.9929,-54.6165 64.8917,-45.794\"/>\n",
       "<polygon fill=\"#4a4a4a\" stroke=\"#4a4a4a\" points=\"68.2228,-46.8682 68.0193,-36.2753 61.5726,-44.6831 68.2228,-46.8682\"/>\n",
       "</a>\n",
       "</g>\n",
       "</g>\n",
       "</g>\n",
       "</svg>"
      ],
      "text/plain": [
       "(pyAgrum.BayesNet<double>@000001F5EC60C5F0) BN{nodes: 8, arcs: 6, domainSize: 256, dim: 17, mem: 272o}"
      ]
     },
     "execution_count": 38,
     "metadata": {},
     "output_type": "execute_result"
    }
   ],
   "source": [
    "# Your answer comes here"
   ]
  },
  {
   "cell_type": "markdown",
   "metadata": {},
   "source": [
    "<span style=\"color:red; font-weight:bold;\">Question 6 <br> </span>\n",
    "<span style=\"color:red\">\n",
    "Fill the CPT for the market node.<br>\n",
    "Print the CPT to verify its values.<br>\n",
    "</span>"
   ]
  },
  {
   "cell_type": "code",
   "execution_count": 39,
   "metadata": {},
   "outputs": [
    {
     "data": {
      "text/html": [
       "<table style=\"border:1px solid black;\">\n",
       "<tr style='border:1px solid black;color:black;background-color:#808080'>\n",
       "      <th colspan='2'><center>market</center></th></tr>\n",
       "<tr><th style='border:1px solid black;border-bottom-style: double;color:black;background-color:#BBBBBB'>\n",
       "      <center>Unfavorable</center></th><th style='border:1px solid black;border-bottom-style: double;color:black;background-color:#BBBBBB'>\n",
       "      <center>Favorable</center></th></tr>\n",
       "<tr><td style='color:black;background-color:#bfbf64;text-align:right;'>0.5000</td><td style='color:black;background-color:#bfbf64;text-align:right;'>0.5000</td></tr>\n",
       "</table>"
      ],
      "text/plain": [
       "(pyAgrum.Potential<double>@000001F5EC904410) \n",
       "  market           |\n",
       "Unfavorab|Favorable|\n",
       "---------|---------|\n",
       " 0.5000  | 0.5000  |"
      ]
     },
     "execution_count": 39,
     "metadata": {},
     "output_type": "execute_result"
    }
   ],
   "source": [
    "# Your answer comes here"
   ]
  },
  {
   "cell_type": "markdown",
   "metadata": {},
   "source": [
    "#### Outcome Layer\n",
    "\n",
    "##### Project Outcome (Failure:0,Success:1)\n",
    "Represents the final result of the project, whether it met its objectives, stayed within budget, and was completed on time.\n",
    "\n",
    "This is the culmination of all the other factors. The outcome is directly influenced by the intermediate factors and external conditions. Good project management, high stakeholder engagement, clear requirements, and favorable market conditions are hypothesized to increase the likelihood of project success."
   ]
  },
  {
   "cell_type": "markdown",
   "metadata": {},
   "source": [
    "#### Layer 2 Impact on Outcome\n",
    "\n",
    "##### Project Management Quality → Outcome:\n",
    "\n",
    "Good project management typically leads to better project outcomes by ensuring effective planning, resource allocation, and risk mitigation.\n",
    "##### Stakeholder Engagement → Outcome:\n",
    "\n",
    "High stakeholder engagement usually correlates with successful project outcomes, as it ensures alignment of project goals with stakeholder expectations and provides necessary support.\n",
    "##### Requirement Clarity → Outcome:\n",
    "\n",
    "Clear and well-defined requirements are essential for project success, as they guide the project team and reduce the likelihood of misunderstandings and scope creep."
   ]
  },
  {
   "cell_type": "markdown",
   "metadata": {},
   "source": [
    "#### Market Impact on Outcome\n",
    "##### Market Conditions → Outcome:\n",
    "Favorable market conditions can positively influence project success by providing a supportive external environment, while unfavorable conditions might introduce additional risks and challenges."
   ]
  },
  {
   "cell_type": "markdown",
   "metadata": {},
   "source": [
    "<span style=\"color:red; font-weight:bold;\">Question 7<br> </span>\n",
    "<span style=\"color:red\">\n",
    "Add the outcome node described above to your bayesian network.<br>\n",
    "Draw the arcs that connect the node to its 4 parents.<br>\n",
    "Print your network to verify its structure.\n",
    "</span>"
   ]
  },
  {
   "cell_type": "code",
   "execution_count": 40,
   "metadata": {
    "scrolled": true
   },
   "outputs": [
    {
     "data": {
      "text/html": [
       "<svg xmlns=\"http://www.w3.org/2000/svg\" xmlns:xlink=\"http://www.w3.org/1999/xlink\" width=\"360pt\" height=\"115pt\" viewBox=\"0.00 0.00 360.00 115.14\">\n",
       "<g id=\"graph0\" class=\"graph\" transform=\"scale(0.612461 0.612461) rotate(0) translate(4 184)\">\n",
       "<title>G</title>\n",
       "<!-- requirements -->\n",
       "<g id=\"node1\" class=\"node\"><title>requirements</title>\n",
       "<g id=\"a_node1\"><a xlink:title=\"(6) requirements\">\n",
       "<ellipse fill=\"#404040\" stroke=\"black\" cx=\"95.6955\" cy=\"-90\" rx=\"57.3905\" ry=\"18\"/>\n",
       "<text text-anchor=\"middle\" x=\"95.6955\" y=\"-86.3\" font-family=\"Times New Roman,serif\" font-size=\"14.00\" fill=\"white\">requirements</text>\n",
       "</a>\n",
       "</g>\n",
       "</g>\n",
       "<!-- outcome -->\n",
       "<g id=\"node9\" class=\"node\"><title>outcome</title>\n",
       "<g id=\"a_node9\"><a xlink:title=\"(8) outcome\">\n",
       "<ellipse fill=\"#404040\" stroke=\"black\" cx=\"306.696\" cy=\"-18\" rx=\"42.4939\" ry=\"18\"/>\n",
       "<text text-anchor=\"middle\" x=\"306.696\" y=\"-14.3\" font-family=\"Times New Roman,serif\" font-size=\"14.00\" fill=\"white\">outcome</text>\n",
       "</a>\n",
       "</g>\n",
       "</g>\n",
       "<!-- requirements&#45;&gt;outcome -->\n",
       "<g id=\"edge4\" class=\"edge\"><title>requirements-&gt;outcome</title>\n",
       "<g id=\"a_edge4\"><a xlink:title=\"(6, 8) : \">\n",
       "<path fill=\"none\" stroke=\"#4a4a4a\" d=\"M133.906,-76.3235C170.754,-64.0992 226.397,-45.6394 264.523,-32.9907\"/>\n",
       "<polygon fill=\"#4a4a4a\" stroke=\"#4a4a4a\" points=\"265.91,-36.2185 274.299,-29.7477 263.706,-29.5745 265.91,-36.2185\"/>\n",
       "</a>\n",
       "</g>\n",
       "</g>\n",
       "<!-- pm_quality -->\n",
       "<g id=\"node2\" class=\"node\"><title>pm_quality</title>\n",
       "<g id=\"a_node2\"><a xlink:title=\"(4) pm_quality\">\n",
       "<ellipse fill=\"#404040\" stroke=\"black\" cx=\"222.696\" cy=\"-90\" rx=\"51.1914\" ry=\"18\"/>\n",
       "<text text-anchor=\"middle\" x=\"222.696\" y=\"-86.3\" font-family=\"Times New Roman,serif\" font-size=\"14.00\" fill=\"white\">pm_quality</text>\n",
       "</a>\n",
       "</g>\n",
       "</g>\n",
       "<!-- pm_quality&#45;&gt;outcome -->\n",
       "<g id=\"edge8\" class=\"edge\"><title>pm_quality-&gt;outcome</title>\n",
       "<g id=\"a_edge8\"><a xlink:title=\"(4, 8) : \">\n",
       "<path fill=\"none\" stroke=\"#4a4a4a\" d=\"M241.756,-73.1159C253.192,-63.5861 267.901,-51.3289 280.427,-40.8903\"/>\n",
       "<polygon fill=\"#4a4a4a\" stroke=\"#4a4a4a\" points=\"282.846,-43.4308 288.287,-34.3402 278.364,-38.0533 282.846,-43.4308\"/>\n",
       "</a>\n",
       "</g>\n",
       "</g>\n",
       "<!-- stakeholder_engagement -->\n",
       "<g id=\"node3\" class=\"node\"><title>stakeholder_engagement</title>\n",
       "<g id=\"a_node3\"><a xlink:title=\"(5) stakeholder_engagement\">\n",
       "<ellipse fill=\"#404040\" stroke=\"black\" cx=\"391.696\" cy=\"-90\" rx=\"99.3824\" ry=\"18\"/>\n",
       "<text text-anchor=\"middle\" x=\"391.696\" y=\"-86.3\" font-family=\"Times New Roman,serif\" font-size=\"14.00\" fill=\"white\">stakeholder_engagement</text>\n",
       "</a>\n",
       "</g>\n",
       "</g>\n",
       "<!-- stakeholder_engagement&#45;&gt;outcome -->\n",
       "<g id=\"edge3\" class=\"edge\"><title>stakeholder_engagement-&gt;outcome</title>\n",
       "<g id=\"a_edge3\"><a xlink:title=\"(5, 8) : \">\n",
       "<path fill=\"none\" stroke=\"#4a4a4a\" d=\"M371.119,-72.055C359.782,-62.7183 345.578,-51.0211 333.395,-40.9875\"/>\n",
       "<polygon fill=\"#4a4a4a\" stroke=\"#4a4a4a\" points=\"335.287,-38.0117 325.343,-34.3564 330.837,-43.4153 335.287,-38.0117\"/>\n",
       "</a>\n",
       "</g>\n",
       "</g>\n",
       "<!-- market -->\n",
       "<g id=\"node4\" class=\"node\"><title>market</title>\n",
       "<g id=\"a_node4\"><a xlink:title=\"(7) market\">\n",
       "<ellipse fill=\"#404040\" stroke=\"black\" cx=\"544.696\" cy=\"-90\" rx=\"35.194\" ry=\"18\"/>\n",
       "<text text-anchor=\"middle\" x=\"544.696\" y=\"-86.3\" font-family=\"Times New Roman,serif\" font-size=\"14.00\" fill=\"white\">market</text>\n",
       "</a>\n",
       "</g>\n",
       "</g>\n",
       "<!-- market&#45;&gt;outcome -->\n",
       "<g id=\"edge10\" class=\"edge\"><title>market-&gt;outcome</title>\n",
       "<g id=\"a_edge10\"><a xlink:title=\"(7, 8) : \">\n",
       "<path fill=\"none\" stroke=\"#4a4a4a\" d=\"M517.713,-78.3399C511.812,-76.1396 505.572,-73.9124 499.696,-72 449.846,-55.7784 391.722,-40.2693 352.389,-30.2667\"/>\n",
       "<polygon fill=\"#4a4a4a\" stroke=\"#4a4a4a\" points=\"353.115,-26.8402 342.562,-27.7829 351.4,-33.6268 353.115,-26.8402\"/>\n",
       "</a>\n",
       "</g>\n",
       "</g>\n",
       "<!-- team_experience -->\n",
       "<g id=\"node5\" class=\"node\"><title>team_experience</title>\n",
       "<g id=\"a_node5\"><a xlink:title=\"(1) team_experience\">\n",
       "<ellipse fill=\"#404040\" stroke=\"black\" cx=\"190.696\" cy=\"-162\" rx=\"71.4873\" ry=\"18\"/>\n",
       "<text text-anchor=\"middle\" x=\"190.696\" y=\"-158.3\" font-family=\"Times New Roman,serif\" font-size=\"14.00\" fill=\"white\">team_experience</text>\n",
       "</a>\n",
       "</g>\n",
       "</g>\n",
       "<!-- team_experience&#45;&gt;requirements -->\n",
       "<g id=\"edge9\" class=\"edge\"><title>team_experience-&gt;requirements</title>\n",
       "<g id=\"a_edge9\"><a xlink:title=\"(1, 6) : \">\n",
       "<path fill=\"none\" stroke=\"#4a4a4a\" d=\"M168.662,-144.765C155.861,-135.333 139.558,-123.32 125.61,-113.042\"/>\n",
       "<polygon fill=\"#4a4a4a\" stroke=\"#4a4a4a\" points=\"127.409,-110.02 117.282,-106.906 123.257,-115.656 127.409,-110.02\"/>\n",
       "</a>\n",
       "</g>\n",
       "</g>\n",
       "<!-- team_experience&#45;&gt;pm_quality -->\n",
       "<g id=\"edge5\" class=\"edge\"><title>team_experience-&gt;pm_quality</title>\n",
       "<g id=\"a_edge5\"><a xlink:title=\"(1, 4) : \">\n",
       "<path fill=\"none\" stroke=\"#4a4a4a\" d=\"M198.442,-144.055C202.082,-136.091 206.508,-126.411 210.577,-117.51\"/>\n",
       "<polygon fill=\"#4a4a4a\" stroke=\"#4a4a4a\" points=\"213.824,-118.825 214.798,-108.275 207.457,-115.915 213.824,-118.825\"/>\n",
       "</a>\n",
       "</g>\n",
       "</g>\n",
       "<!-- team_experience&#45;&gt;stakeholder_engagement -->\n",
       "<g id=\"edge2\" class=\"edge\"><title>team_experience-&gt;stakeholder_engagement</title>\n",
       "<g id=\"a_edge2\"><a xlink:title=\"(1, 5) : \">\n",
       "<path fill=\"none\" stroke=\"#4a4a4a\" d=\"M230.888,-147.003C261.752,-136.254 304.659,-121.311 338.389,-109.564\"/>\n",
       "<polygon fill=\"#4a4a4a\" stroke=\"#4a4a4a\" points=\"339.797,-112.78 348.089,-106.186 337.494,-106.17 339.797,-112.78\"/>\n",
       "</a>\n",
       "</g>\n",
       "</g>\n",
       "<!-- budget -->\n",
       "<g id=\"node6\" class=\"node\"><title>budget</title>\n",
       "<g id=\"a_node6\"><a xlink:title=\"(2) budget\">\n",
       "<ellipse fill=\"#404040\" stroke=\"black\" cx=\"315.696\" cy=\"-162\" rx=\"35.9954\" ry=\"18\"/>\n",
       "<text text-anchor=\"middle\" x=\"315.696\" y=\"-158.3\" font-family=\"Times New Roman,serif\" font-size=\"14.00\" fill=\"white\">budget</text>\n",
       "</a>\n",
       "</g>\n",
       "</g>\n",
       "<!-- budget&#45;&gt;pm_quality -->\n",
       "<g id=\"edge1\" class=\"edge\"><title>budget-&gt;pm_quality</title>\n",
       "<g id=\"a_edge1\"><a xlink:title=\"(2, 4) : \">\n",
       "<path fill=\"none\" stroke=\"#4a4a4a\" d=\"M296.426,-146.496C283.528,-136.788 266.315,-123.832 251.764,-112.88\"/>\n",
       "<polygon fill=\"#4a4a4a\" stroke=\"#4a4a4a\" points=\"253.652,-109.92 243.557,-106.703 249.442,-115.513 253.652,-109.92\"/>\n",
       "</a>\n",
       "</g>\n",
       "</g>\n",
       "<!-- project_size -->\n",
       "<g id=\"node7\" class=\"node\"><title>project_size</title>\n",
       "<g id=\"a_node7\"><a xlink:title=\"(0) project_size\">\n",
       "<ellipse fill=\"#404040\" stroke=\"black\" cx=\"423.696\" cy=\"-162\" rx=\"54.6905\" ry=\"18\"/>\n",
       "<text text-anchor=\"middle\" x=\"423.696\" y=\"-158.3\" font-family=\"Times New Roman,serif\" font-size=\"14.00\" fill=\"white\">project_size</text>\n",
       "</a>\n",
       "</g>\n",
       "</g>\n",
       "<!-- project_size&#45;&gt;stakeholder_engagement -->\n",
       "<g id=\"edge6\" class=\"edge\"><title>project_size-&gt;stakeholder_engagement</title>\n",
       "<g id=\"a_edge6\"><a xlink:title=\"(0, 5) : \">\n",
       "<path fill=\"none\" stroke=\"#4a4a4a\" d=\"M415.949,-144.055C412.309,-136.091 407.883,-126.411 403.814,-117.51\"/>\n",
       "<polygon fill=\"#4a4a4a\" stroke=\"#4a4a4a\" points=\"406.934,-115.915 399.593,-108.275 400.567,-118.825 406.934,-115.915\"/>\n",
       "</a>\n",
       "</g>\n",
       "</g>\n",
       "<!-- technology -->\n",
       "<g id=\"node8\" class=\"node\"><title>technology</title>\n",
       "<g id=\"a_node8\"><a xlink:title=\"(3) technology\">\n",
       "<ellipse fill=\"#404040\" stroke=\"black\" cx=\"50.6955\" cy=\"-162\" rx=\"50.8918\" ry=\"18\"/>\n",
       "<text text-anchor=\"middle\" x=\"50.6955\" y=\"-158.3\" font-family=\"Times New Roman,serif\" font-size=\"14.00\" fill=\"white\">technology</text>\n",
       "</a>\n",
       "</g>\n",
       "</g>\n",
       "<!-- technology&#45;&gt;requirements -->\n",
       "<g id=\"edge7\" class=\"edge\"><title>technology-&gt;requirements</title>\n",
       "<g id=\"a_edge7\"><a xlink:title=\"(3, 6) : \">\n",
       "<path fill=\"none\" stroke=\"#4a4a4a\" d=\"M61.5887,-144.055C66.9504,-135.715 73.5229,-125.491 79.4623,-116.252\"/>\n",
       "<polygon fill=\"#4a4a4a\" stroke=\"#4a4a4a\" points=\"82.4391,-118.093 84.9026,-107.789 76.5508,-114.308 82.4391,-118.093\"/>\n",
       "</a>\n",
       "</g>\n",
       "</g>\n",
       "</g>\n",
       "</svg>"
      ],
      "text/plain": [
       "(pyAgrum.BayesNet<double>@000001F5EC60C5F0) BN{nodes: 9, arcs: 10, domainSize: 512, dim: 33, mem: 528o}"
      ]
     },
     "execution_count": 40,
     "metadata": {},
     "output_type": "execute_result"
    }
   ],
   "source": [
    "# Your answer comes here"
   ]
  },
  {
   "cell_type": "markdown",
   "metadata": {},
   "source": [
    "<span style=\"color:red; font-weight:bold;\">Question 8 <br> </span>\n",
    "<span style=\"color:red\">\n",
    "Fill the CPT for the outcome node.<br>\n",
    "Print the CPT to verify its values.<br>\n",
    "</span>"
   ]
  },
  {
   "cell_type": "code",
   "execution_count": 41,
   "metadata": {},
   "outputs": [],
   "source": [
    "# Your answer comes here"
   ]
  },
  {
   "cell_type": "code",
   "execution_count": 42,
   "metadata": {
    "scrolled": true
   },
   "outputs": [
    {
     "data": {
      "text/html": [
       "<table style=\"border:1px solid black;\">\n",
       "<tr><th colspan='4'></th>\n",
       "      <th colspan='2' style='border:1px solid black;color:black;background-color:#808080;'><center>outcome</center>\n",
       "      </th></tr>\n",
       "<tr><th style='border:1px solid black;color:black;background-color:#808080'><center>market</center></th><th style='border:1px solid black;color:black;background-color:#808080'><center>requirements</center></th><th style='border:1px solid black;color:black;background-color:#808080'><center>stakeholder_engagement</center></th><th style='border:1px solid black;color:black;background-color:#808080'><center>pm_quality</center></th><th style='border:1px solid black;border-bottom-style: double;color:black;background-color:#BBBBBB'>\n",
       "      <center>Failure</center></th><th style='border:1px solid black;border-bottom-style: double;color:black;background-color:#BBBBBB'>\n",
       "      <center>Success</center></th></tr>\n",
       "<tr><th style='border:1px solid black;color:black;background-color:#BBBBBB;' rowspan = '8'>\n",
       "            <center>Unfavorable</center></th><th style='border:1px solid black;color:black;background-color:#BBBBBB;' rowspan = '4'>\n",
       "            <center>Unclear</center></th><th style='border:1px solid black;color:black;background-color:#BBBBBB;' rowspan = '2'>\n",
       "            <center>Low</center></th><th style='border:1px solid black;color:black;background-color:#BBBBBB'><center>Poor</center></th><td style='color:black;background-color:#80fd64;text-align:right;'>0.9900</td><td style='color:black;background-color:#fd8064;text-align:right;'>0.0100</td></tr>\n",
       "<tr><th style='border:1px solid black;color:black;background-color:#BBBBBB'><center>Good</center></th><td style='color:black;background-color:#9fdf64;text-align:right;'>0.7500</td><td style='color:black;background-color:#df9f64;text-align:right;'>0.2500</td></tr>\n",
       "<tr><th style='border:1px solid black;color:black;background-color:#BBBBBB;' rowspan = '2'>\n",
       "            <center>High</center></th><th style='border:1px solid black;color:black;background-color:#BBBBBB'><center>Poor</center></th><td style='color:black;background-color:#92eb64;text-align:right;'>0.8500</td><td style='color:black;background-color:#eb9264;text-align:right;'>0.1500</td></tr>\n",
       "<tr><th style='border:1px solid black;color:black;background-color:#BBBBBB'><center>Good</center></th><td style='color:black;background-color:#b3ca64;text-align:right;'>0.5900</td><td style='color:black;background-color:#cab364;text-align:right;'>0.4100</td></tr>\n",
       "<tr><th style='border:1px solid black;color:black;background-color:#BBBBBB;' rowspan = '4'>\n",
       "            <center>Clear</center></th><th style='border:1px solid black;color:black;background-color:#BBBBBB;' rowspan = '2'>\n",
       "            <center>Low</center></th><th style='border:1px solid black;color:black;background-color:#BBBBBB'><center>Poor</center></th><td style='color:black;background-color:#b8c564;text-align:right;'>0.5500</td><td style='color:black;background-color:#c5b864;text-align:right;'>0.4500</td></tr>\n",
       "<tr><th style='border:1px solid black;color:black;background-color:#BBBBBB'><center>Good</center></th><td style='color:black;background-color:#d2ab64;text-align:right;'>0.3500</td><td style='color:black;background-color:#abd264;text-align:right;'>0.6500</td></tr>\n",
       "<tr><th style='border:1px solid black;color:black;background-color:#BBBBBB;' rowspan = '2'>\n",
       "            <center>High</center></th><th style='border:1px solid black;color:black;background-color:#BBBBBB'><center>Poor</center></th><td style='color:black;background-color:#bfbf64;text-align:right;'>0.5000</td><td style='color:black;background-color:#bfbf64;text-align:right;'>0.5000</td></tr>\n",
       "<tr><th style='border:1px solid black;color:black;background-color:#BBBBBB'><center>Good</center></th><td style='color:black;background-color:#f28b64;text-align:right;'>0.1000</td><td style='color:black;background-color:#8bf264;text-align:right;'>0.9000</td></tr>\n",
       "<tr><th style='border:1px solid black;color:black;background-color:#BBBBBB;' rowspan = '8'>\n",
       "            <center>Favorable</center></th><th style='border:1px solid black;color:black;background-color:#BBBBBB;' rowspan = '4'>\n",
       "            <center>Unclear</center></th><th style='border:1px solid black;color:black;background-color:#BBBBBB;' rowspan = '2'>\n",
       "            <center>Low</center></th><th style='border:1px solid black;color:black;background-color:#BBBBBB'><center>Poor</center></th><td style='color:black;background-color:#85f864;text-align:right;'>0.9500</td><td style='color:black;background-color:#f88564;text-align:right;'>0.0500</td></tr>\n",
       "<tr><th style='border:1px solid black;color:black;background-color:#BBBBBB'><center>Good</center></th><td style='color:black;background-color:#b2cb64;text-align:right;'>0.6000</td><td style='color:black;background-color:#cbb264;text-align:right;'>0.4000</td></tr>\n",
       "<tr><th style='border:1px solid black;color:black;background-color:#BBBBBB;' rowspan = '2'>\n",
       "            <center>High</center></th><th style='border:1px solid black;color:black;background-color:#BBBBBB'><center>Poor</center></th><td style='color:black;background-color:#add064;text-align:right;'>0.6400</td><td style='color:black;background-color:#d0ad64;text-align:right;'>0.3600</td></tr>\n",
       "<tr><th style='border:1px solid black;color:black;background-color:#BBBBBB'><center>Good</center></th><td style='color:black;background-color:#bcc164;text-align:right;'>0.5200</td><td style='color:black;background-color:#c1bc64;text-align:right;'>0.4800</td></tr>\n",
       "<tr><th style='border:1px solid black;color:black;background-color:#BBBBBB;' rowspan = '4'>\n",
       "            <center>Clear</center></th><th style='border:1px solid black;color:black;background-color:#BBBBBB;' rowspan = '2'>\n",
       "            <center>Low</center></th><th style='border:1px solid black;color:black;background-color:#BBBBBB'><center>Poor</center></th><td style='color:black;background-color:#bfbf64;text-align:right;'>0.5000</td><td style='color:black;background-color:#bfbf64;text-align:right;'>0.5000</td></tr>\n",
       "<tr><th style='border:1px solid black;color:black;background-color:#BBBBBB'><center>Good</center></th><td style='color:black;background-color:#eb9264;text-align:right;'>0.1500</td><td style='color:black;background-color:#92eb64;text-align:right;'>0.8500</td></tr>\n",
       "<tr><th style='border:1px solid black;color:black;background-color:#BBBBBB;' rowspan = '2'>\n",
       "            <center>High</center></th><th style='border:1px solid black;color:black;background-color:#BBBBBB'><center>Poor</center></th><td style='color:black;background-color:#df9f64;text-align:right;'>0.2500</td><td style='color:black;background-color:#9fdf64;text-align:right;'>0.7500</td></tr>\n",
       "<tr><th style='border:1px solid black;color:black;background-color:#BBBBBB'><center>Good</center></th><td style='color:black;background-color:#fd8064;text-align:right;'>0.0100</td><td style='color:black;background-color:#80fd64;text-align:right;'>0.9900</td></tr>\n",
       "</table>"
      ],
      "text/plain": [
       "(pyAgrum.Potential<double>@000001F5EC9042F0) \n",
       "                           ||  outcome          |\n",
       "pm_qua|stakeh|requir|market||Failure  |Success  |\n",
       "------|------|------|------||---------|---------|\n",
       "Poor  |Low   |Unclea|Unfavo|| 0.9900  | 0.0100  |\n",
       "Good  |Low   |Unclea|Unfavo|| 0.7500  | 0.2500  |\n",
       "Poor  |High  |Unclea|Unfavo|| 0.8500  | 0.1500  |\n",
       "Good  |High  |Unclea|Unfavo|| 0.5900  | 0.4100  |\n",
       "Poor  |Low   |Clear |Unfavo|| 0.5500  | 0.4500  |\n",
       "Good  |Low   |Clear |Unfavo|| 0.3500  | 0.6500  |\n",
       "[...4 more line(s) ...]\n",
       "Poor  |High  |Unclea|Favora|| 0.6400  | 0.3600  |\n",
       "Good  |High  |Unclea|Favora|| 0.5200  | 0.4800  |\n",
       "Poor  |Low   |Clear |Favora|| 0.5000  | 0.5000  |\n",
       "Good  |Low   |Clear |Favora|| 0.1500  | 0.8500  |\n",
       "Poor  |High  |Clear |Favora|| 0.2500  | 0.7500  |\n",
       "Good  |High  |Clear |Favora|| 0.0100  | 0.9900  |"
      ]
     },
     "execution_count": 42,
     "metadata": {},
     "output_type": "execute_result"
    }
   ],
   "source": [
    "# Your answer comes here"
   ]
  },
  {
   "cell_type": "markdown",
   "metadata": {},
   "source": [
    "<span style=\"color:red; font-weight:bold;\">Question 9 <br> </span>\n",
    "Let's return the probability of the project success given a favorable market and a good project management quality.\n",
    "\n",
    "<span style=\"color:red\">\n",
    "In other words, let's calculate $P(outcome|market,pm\\_quality) and P(\\neg outcome|market,pm\\_quality)$\n",
    "</span>"
   ]
  },
  {
   "cell_type": "code",
   "execution_count": 43,
   "metadata": {},
   "outputs": [],
   "source": [
    "ie=gum.LazyPropagation(bn)"
   ]
  },
  {
   "cell_type": "code",
   "execution_count": 44,
   "metadata": {
    "scrolled": true
   },
   "outputs": [
    {
     "data": {
      "text/html": [
       "<table style=\"border:1px solid black;\">\n",
       "<tr style='border:1px solid black;color:black;background-color:#808080'>\n",
       "      <th colspan='2'><center>outcome</center></th></tr>\n",
       "<tr><th style='border:1px solid black;border-bottom-style: double;color:black;background-color:#BBBBBB'>\n",
       "      <center>Failure</center></th><th style='border:1px solid black;border-bottom-style: double;color:black;background-color:#BBBBBB'>\n",
       "      <center>Success</center></th></tr>\n",
       "<tr><td style='color:black;background-color:#e49964;text-align:right;'>0.2095</td><td style='color:black;background-color:#99e464;text-align:right;'>0.7905</td></tr>\n",
       "</table>"
      ],
      "text/plain": [
       "(pyAgrum.Potential<double>@000001F5EC932C30) \n",
       "  outcome          |\n",
       "Failure  |Success  |\n",
       "---------|---------|\n",
       " 0.2095  | 0.7905  |"
      ]
     },
     "execution_count": 44,
     "metadata": {},
     "output_type": "execute_result"
    }
   ],
   "source": [
    "# Your answer comes here"
   ]
  },
  {
   "cell_type": "markdown",
   "metadata": {},
   "source": [
    "<span style=\"color:red; font-weight:bold;\">Question 10 <br> </span>\n",
    "What is the probability of having had clear requirements given that the project has suceeded.\n",
    "\n",
    "<span style=\"color:red\">\n",
    "In other words, let's calculate $P(requirements|outcome) and P(\\neg requirements|outcome)$\n",
    "</span>"
   ]
  },
  {
   "cell_type": "code",
   "execution_count": 45,
   "metadata": {
    "scrolled": true
   },
   "outputs": [
    {
     "data": {
      "text/html": [
       "<table style=\"border:1px solid black;\">\n",
       "<tr style='border:1px solid black;color:black;background-color:#808080'>\n",
       "      <th colspan='2'><center>requirements</center></th></tr>\n",
       "<tr><th style='border:1px solid black;border-bottom-style: double;color:black;background-color:#BBBBBB'>\n",
       "      <center>Unclear</center></th><th style='border:1px solid black;border-bottom-style: double;color:black;background-color:#BBBBBB'>\n",
       "      <center>Clear</center></th></tr>\n",
       "<tr><td style='color:black;background-color:#e69764;text-align:right;'>0.1876</td><td style='color:black;background-color:#97e664;text-align:right;'>0.8124</td></tr>\n",
       "</table>"
      ],
      "text/plain": [
       "(pyAgrum.Potential<double>@000001F5EC932F10) \n",
       "  requirements     |\n",
       "Unclear  |Clear    |\n",
       "---------|---------|\n",
       " 0.1876  | 0.8124  |"
      ]
     },
     "execution_count": 45,
     "metadata": {},
     "output_type": "execute_result"
    }
   ],
   "source": [
    "# Your answer comes here"
   ]
  }
 ],
 "metadata": {
  "kernelspec": {
   "display_name": "Python 3 (ipykernel)",
   "language": "python",
   "name": "python3"
  },
  "language_info": {
   "codemirror_mode": {
    "name": "ipython",
    "version": 3
   },
   "file_extension": ".py",
   "mimetype": "text/x-python",
   "name": "python",
   "nbconvert_exporter": "python",
   "pygments_lexer": "ipython3",
   "version": "3.9.12"
  }
 },
 "nbformat": 4,
 "nbformat_minor": 4
}
