{
 "cells": [
  {
   "cell_type": "markdown",
   "metadata": {},
   "source": [
    "# Week 3: Probabilistic Reasoning\n",
    "\n",
    "\n",
    "\n",
    "<br><br>\n",
    "<span style=\"color: red; font-size: large;\">\n",
    "A passing grade for this assignment requires correctly answering all questions.<br>\n",
    "Ensure the correctness of your responses by comparing them with the notebook's outputs.<br>\n",
    "</span>\n",
    "\n",
    "\n"
   ]
  },
  {
   "cell_type": "markdown",
   "metadata": {},
   "source": [
    "# Exercise 1 : Working with Full Joint Distributions\n",
    "\n",
    "In this exercise, you're provided with a dataset of students' data. The data has been generated automatically, and is not realistic in any capacity.\n",
    "\n",
    "Let's first load the dataset and examine the first 10 rows."
   ]
  },
  {
   "cell_type": "code",
   "execution_count": 71,
   "metadata": {
    "ExecuteTime": {
     "end_time": "2023-12-03T21:10:23.473940900Z",
     "start_time": "2023-12-03T21:10:22.995291800Z"
    }
   },
   "outputs": [],
   "source": [
    "import pandas as pd\n",
    "import numpy as np"
   ]
  },
  {
   "cell_type": "code",
   "execution_count": 72,
   "metadata": {
    "ExecuteTime": {
     "end_time": "2023-12-03T21:10:23.505839500Z",
     "start_time": "2023-12-03T21:10:22.999009100Z"
    }
   },
   "outputs": [
    {
     "data": {
      "text/plain": "   id first_name  last_name SCHOLARSHIP STUDY  GPA\n0   1      Belle     Travis         yes   BIT  7.0\n1   2     Tammie     Longhi         yes   TCS  8.5\n2   3     Cecily    Golborn          no   BIT  6.5\n3   4      Vally  Abramchik         yes   TCS  7.5\n4   5      Hardy     Garman          no   TCS  9.0\n5   6  Harrietta    Doherty         yes   TCS  5.5\n6   7    Cointon      Otton          no   BIT  9.0\n7   8    Joellen      Linge         yes   BIT  9.5\n8   9      Billi       Tadd         yes   TCS  8.5\n9  10     Wallie     Alison          no   TCS  5.5",
      "text/html": "<div>\n<style scoped>\n    .dataframe tbody tr th:only-of-type {\n        vertical-align: middle;\n    }\n\n    .dataframe tbody tr th {\n        vertical-align: top;\n    }\n\n    .dataframe thead th {\n        text-align: right;\n    }\n</style>\n<table border=\"1\" class=\"dataframe\">\n  <thead>\n    <tr style=\"text-align: right;\">\n      <th></th>\n      <th>id</th>\n      <th>first_name</th>\n      <th>last_name</th>\n      <th>SCHOLARSHIP</th>\n      <th>STUDY</th>\n      <th>GPA</th>\n    </tr>\n  </thead>\n  <tbody>\n    <tr>\n      <th>0</th>\n      <td>1</td>\n      <td>Belle</td>\n      <td>Travis</td>\n      <td>yes</td>\n      <td>BIT</td>\n      <td>7.0</td>\n    </tr>\n    <tr>\n      <th>1</th>\n      <td>2</td>\n      <td>Tammie</td>\n      <td>Longhi</td>\n      <td>yes</td>\n      <td>TCS</td>\n      <td>8.5</td>\n    </tr>\n    <tr>\n      <th>2</th>\n      <td>3</td>\n      <td>Cecily</td>\n      <td>Golborn</td>\n      <td>no</td>\n      <td>BIT</td>\n      <td>6.5</td>\n    </tr>\n    <tr>\n      <th>3</th>\n      <td>4</td>\n      <td>Vally</td>\n      <td>Abramchik</td>\n      <td>yes</td>\n      <td>TCS</td>\n      <td>7.5</td>\n    </tr>\n    <tr>\n      <th>4</th>\n      <td>5</td>\n      <td>Hardy</td>\n      <td>Garman</td>\n      <td>no</td>\n      <td>TCS</td>\n      <td>9.0</td>\n    </tr>\n    <tr>\n      <th>5</th>\n      <td>6</td>\n      <td>Harrietta</td>\n      <td>Doherty</td>\n      <td>yes</td>\n      <td>TCS</td>\n      <td>5.5</td>\n    </tr>\n    <tr>\n      <th>6</th>\n      <td>7</td>\n      <td>Cointon</td>\n      <td>Otton</td>\n      <td>no</td>\n      <td>BIT</td>\n      <td>9.0</td>\n    </tr>\n    <tr>\n      <th>7</th>\n      <td>8</td>\n      <td>Joellen</td>\n      <td>Linge</td>\n      <td>yes</td>\n      <td>BIT</td>\n      <td>9.5</td>\n    </tr>\n    <tr>\n      <th>8</th>\n      <td>9</td>\n      <td>Billi</td>\n      <td>Tadd</td>\n      <td>yes</td>\n      <td>TCS</td>\n      <td>8.5</td>\n    </tr>\n    <tr>\n      <th>9</th>\n      <td>10</td>\n      <td>Wallie</td>\n      <td>Alison</td>\n      <td>no</td>\n      <td>TCS</td>\n      <td>5.5</td>\n    </tr>\n  </tbody>\n</table>\n</div>"
     },
     "execution_count": 72,
     "metadata": {},
     "output_type": "execute_result"
    }
   ],
   "source": [
    "students=pd.read_csv(\"students.csv\")\n",
    "students.head(10)"
   ]
  },
  {
   "cell_type": "markdown",
   "metadata": {},
   "source": [
    "#### Question 1  \n",
    "Given the dataset above, calculate the following probability $$P(SCHOLARSHIP=yes)$$"
   ]
  },
  {
   "cell_type": "code",
   "execution_count": 73,
   "metadata": {
    "ExecuteTime": {
     "end_time": "2023-12-03T21:10:23.505839500Z",
     "start_time": "2023-12-03T21:10:23.010472600Z"
    }
   },
   "outputs": [
    {
     "name": "stdout",
     "output_type": "stream",
     "text": [
      "0.494\n"
     ]
    }
   ],
   "source": [
    "#Your answer goes here\n",
    "yes = 0\n",
    "for result in students.SCHOLARSHIP:\n",
    "    if result == 'yes':\n",
    "        yes += 1\n",
    "\n",
    "probability_Yes = yes / students.SCHOLARSHIP.count()\n",
    "print(probability_Yes)"
   ]
  },
  {
   "cell_type": "markdown",
   "metadata": {},
   "source": [
    "#### Question 2 \n",
    "1.Calculate the following probability\n",
    "$$P(SCHOLARSHIP=yes, GPA>7.5)$$"
   ]
  },
  {
   "cell_type": "code",
   "execution_count": 74,
   "metadata": {
    "ExecuteTime": {
     "end_time": "2023-12-03T21:10:23.826357800Z",
     "start_time": "2023-12-03T21:10:23.015590600Z"
    }
   },
   "outputs": [
    {
     "name": "stdout",
     "output_type": "stream",
     "text": [
      "0.206\n"
     ]
    }
   ],
   "source": [
    "#Your answer goes here\n",
    "GPA = 0\n",
    "for index, row in students.iterrows():\n",
    "    if row['SCHOLARSHIP'] == 'yes' and row['GPA'] > 7.5:\n",
    "        GPA += 1\n",
    "\n",
    "probability_Yes_And_Gpa = GPA / students.SCHOLARSHIP.count()\n",
    "print(probability_Yes_And_Gpa)"
   ]
  },
  {
   "cell_type": "markdown",
   "metadata": {},
   "source": [
    "2. Calculate the probability $$P(GPA>7.5, SCHOLARSHIP=yes)$$\n"
   ]
  },
  {
   "cell_type": "code",
   "execution_count": 75,
   "metadata": {
    "ExecuteTime": {
     "end_time": "2023-12-03T21:10:23.866780700Z",
     "start_time": "2023-12-03T21:10:23.037269700Z"
    }
   },
   "outputs": [
    {
     "name": "stdout",
     "output_type": "stream",
     "text": [
      "0.206\n"
     ]
    }
   ],
   "source": [
    "#Your answer goes here\n",
    "GPA = 0\n",
    "for index, row in students.iterrows():\n",
    "    if row['GPA'] > 7.5 and row['SCHOLARSHIP'] == 'yes':\n",
    "        GPA += 1\n",
    "probability = GPA / students.SCHOLARSHIP.count()\n",
    "print(probability)"
   ]
  },
  {
   "cell_type": "markdown",
   "metadata": {},
   "source": [
    "##### Check that the values you get for the subquestions (2.1 and 2.2) of question 2 are the same."
   ]
  },
  {
   "cell_type": "markdown",
   "metadata": {},
   "source": [
    "#### Question 3\n",
    "Calculate the following probability\n",
    "$$P(SCHOLARSHIP=yes, GPA>7.5,STUDY=BIT)$$"
   ]
  },
  {
   "cell_type": "code",
   "execution_count": 76,
   "metadata": {
    "ExecuteTime": {
     "end_time": "2023-12-03T21:10:23.914281900Z",
     "start_time": "2023-12-03T21:10:23.057096500Z"
    }
   },
   "outputs": [
    {
     "name": "stdout",
     "output_type": "stream",
     "text": [
      "0.104\n"
     ]
    }
   ],
   "source": [
    "#Your answer goes here\n",
    "GPA = 0\n",
    "for index, row in students.iterrows():\n",
    "    if row['GPA'] > 7.5 and row['SCHOLARSHIP'] == 'yes' and row['STUDY'] == 'BIT':\n",
    "        GPA += 1\n",
    "probability_Gpa_and_scholar_and_bit = GPA / students.SCHOLARSHIP.count()\n",
    "print(probability_Gpa_and_scholar_and_bit)"
   ]
  },
  {
   "cell_type": "markdown",
   "metadata": {},
   "source": [
    "#### Question 4\n",
    "Calculate the following conditional probability\n",
    "$$P(SCHOLARSHIP=yes|GPA>7.5)$$"
   ]
  },
  {
   "cell_type": "code",
   "execution_count": 77,
   "metadata": {
    "ExecuteTime": {
     "end_time": "2023-12-03T21:10:23.914281900Z",
     "start_time": "2023-12-03T21:10:23.081077900Z"
    }
   },
   "outputs": [
    {
     "name": "stdout",
     "output_type": "stream",
     "text": [
      "0.5\n"
     ]
    }
   ],
   "source": [
    "#Your answer goes here\n",
    "        \n",
    "probability_Gpa = len(students[(students.GPA > 7.5)]) / students.GPA.count()\n",
    "probability_Scholar_given_Gpa = probability_Yes_And_Gpa / probability_Gpa\n",
    "print(probability_Scholar_given_Gpa)"
   ]
  },
  {
   "cell_type": "markdown",
   "metadata": {},
   "source": [
    "#### Question 5\n",
    "Calculate the same probability as in question 4 by using the Bayes rule (meaning use P(GPA>7.5|SCHOLARSHIP=yes))"
   ]
  },
  {
   "cell_type": "code",
   "execution_count": 78,
   "metadata": {
    "ExecuteTime": {
     "end_time": "2023-12-03T21:10:23.927794700Z",
     "start_time": "2023-12-03T21:10:23.086123600Z"
    }
   },
   "outputs": [
    {
     "name": "stdout",
     "output_type": "stream",
     "text": [
      "0.5\n"
     ]
    }
   ],
   "source": [
    "#Your answer goes here\n",
    "probability_Gpa_given_Scholar = (len(students[(students.SCHOLARSHIP == 'yes') & (students.GPA > 7.5)]) / (\n",
    "    students.SCHOLARSHIP.count())) / (len(students[(students.GPA > 7.5)]) / students.SCHOLARSHIP.count())\n",
    "\n",
    "print(probability_Gpa_given_Scholar)"
   ]
  },
  {
   "cell_type": "markdown",
   "metadata": {},
   "source": [
    "#### Question 6\n",
    "Return a vector of probabilities for the following expression $$P(SCHOLARSHIP|STUDY)$$"
   ]
  },
  {
   "cell_type": "code",
   "execution_count": 79,
   "metadata": {
    "ExecuteTime": {
     "end_time": "2023-12-03T21:10:23.975899700Z",
     "start_time": "2023-12-03T21:10:23.092456800Z"
    }
   },
   "outputs": [
    {
     "name": "stdout",
     "output_type": "stream",
     "text": [
      "P(yes|BIT) =  0.5189873417721519\n",
      "P(no|BIT) =  0.4810126582278481\n",
      "P(yes|TCS) =  0.4714828897338403\n",
      "P(no|TCS) =  0.5285171102661597\n",
      "\n",
      "The vector of conditional probabilities:\n",
      "[0.51898734 0.48101266 0.47148289 0.52851711]\n"
     ]
    }
   ],
   "source": [
    "#Your answer goes here  \n",
    "BIT = 0\n",
    "TCS = 0\n",
    "BIT_Yes = 0\n",
    "BIT_No = 0\n",
    "TCS_Yes = 0\n",
    "TCS_No = 0\n",
    "for index, row in students.iterrows():\n",
    "    if row['STUDY'] == 'BIT':\n",
    "        BIT += 1\n",
    "        if row['SCHOLARSHIP'] == 'yes':\n",
    "            BIT_Yes += 1\n",
    "        else:\n",
    "            BIT_No += 1\n",
    "    elif row['STUDY'] == 'TCS':\n",
    "        TCS += 1\n",
    "        if row['SCHOLARSHIP'] == 'yes':\n",
    "            TCS_Yes += 1\n",
    "        else:\n",
    "            TCS_No += 1\n",
    "            \n",
    "p1 = BIT_Yes / BIT\n",
    "p2 = BIT_No / BIT\n",
    "p3 = TCS_Yes / TCS\n",
    "p4 = TCS_No / TCS\n",
    "\n",
    "print(\"P(yes|BIT) = \", p1)\n",
    "print(\"P(no|BIT) = \", p2)\n",
    "print(\"P(yes|TCS) = \", p3)\n",
    "print(\"P(no|TCS) = \", p4)\n",
    "print(\"\\nThe vector of conditional probabilities:\")\n",
    "print(np.array([p1, p2, p3, p4]))"
   ]
  },
  {
   "cell_type": "markdown",
   "metadata": {},
   "source": [
    "#### Question 7\n",
    "Return a vector of probabilities for the following expression $$ P (STUDY|SCHOLARSHIP)$$  "
   ]
  },
  {
   "cell_type": "code",
   "execution_count": 80,
   "metadata": {
    "ExecuteTime": {
     "end_time": "2023-12-03T21:10:23.989413400Z",
     "start_time": "2023-12-03T21:10:23.118013100Z"
    }
   },
   "outputs": [
    {
     "name": "stdout",
     "output_type": "stream",
     "text": [
      "P(BIT|yes) = 0.4979757085020243\n",
      "P(TCS|yes) = 0.5020242914979757\n",
      "P(BIT|no) = 0.4505928853754941\n",
      "P(TCS|no) = 0.549407114624506\n",
      "\n",
      "The vector of conditional probabilities:\n",
      "[0.49797571 0.50202429 0.45059289 0.54940711]\n"
     ]
    }
   ],
   "source": [
    "#Your answer goes here\n",
    "p_BIT_given_Yes = (len(students[(students.STUDY == 'BIT') & (\n",
    "        students.SCHOLARSHIP == 'yes')]) / students.SCHOLARSHIP.count()) / probability_Yes\n",
    "\n",
    "p_TCS_given_Yes = (len(students[(students.STUDY == 'TCS') & (\n",
    "        students.SCHOLARSHIP == 'yes')]) / students.SCHOLARSHIP.count()) / probability_Yes\n",
    "\n",
    "p_TCS_given_No = (len(students[(students.STUDY == 'TCS') & (\n",
    "        students.SCHOLARSHIP == 'no')]) / students.SCHOLARSHIP.count()) / (len(\n",
    "    students[students.SCHOLARSHIP == 'no']) / students.SCHOLARSHIP.count())\n",
    "\n",
    "p_BIT_given_No = (len(\n",
    "    students[(students.STUDY == 'BIT') & (students.SCHOLARSHIP == 'no')]) / students.SCHOLARSHIP.count()) / (len(\n",
    "    students[students.SCHOLARSHIP == 'no']) / students.SCHOLARSHIP.count())\n",
    "print(\"P(BIT|yes) =\", p_BIT_given_Yes)\n",
    "print(\"P(TCS|yes) =\", p_TCS_given_Yes)\n",
    "print(\"P(BIT|no) =\", p_BIT_given_No)\n",
    "print(\"P(TCS|no) =\", p_TCS_given_No)\n",
    "print(\"\\nThe vector of conditional probabilities:\")\n",
    "print(np.array([p_BIT_given_Yes, p_TCS_given_Yes, p_BIT_given_No, p_TCS_given_No]))\n"
   ]
  },
  {
   "cell_type": "markdown",
   "metadata": {},
   "source": [
    "#### Question 8 \n",
    "Let's now recreate our full joint probability distribution. \n",
    "Consider that the GPA variable is also binary, either GPA>7.5 or GPA<=7.5\n",
    "The random variables we are interested in are SCHOLARSHIP, STUDY and GPA."
   ]
  },
  {
   "cell_type": "code",
   "execution_count": 81,
   "metadata": {
    "ExecuteTime": {
     "end_time": "2023-12-03T21:10:24.002446800Z",
     "start_time": "2023-12-03T21:10:23.125033800Z"
    }
   },
   "outputs": [
    {
     "name": "stdout",
     "output_type": "stream",
     "text": [
      "P(Scholarship = yes , Study = BIT  (Grade > 7.5) = False ) = 0.142\n",
      "P(Scholarship = yes , Study = BIT  (Grade > 7.5) = True ) = 0.104\n",
      "P(Scholarship = yes , Study = TCS  (Grade > 7.5) = False ) = 0.146\n",
      "P(Scholarship = yes , Study = TCS  (Grade > 7.5) = True ) = 0.102\n",
      "P(Scholarship = no , Study = BIT  (Grade > 7.5) = False ) = 0.14\n",
      "P(Scholarship = no , Study = BIT  (Grade > 7.5) = True ) = 0.088\n",
      "P(Scholarship = no , Study = TCS  (Grade > 7.5) = False ) = 0.16\n",
      "P(Scholarship = no , Study = TCS  (Grade > 7.5) = True ) = 0.118\n",
      "\n",
      "The vector of conditional probabilities:\n",
      "[0.142 0.104 0.146 0.102 0.14  0.088 0.16  0.118]\n",
      "\n",
      "Sum of the values in the vector:\n",
      "1.0\n"
     ]
    }
   ],
   "source": [
    "#Your answer goes here\n",
    "\n",
    "# Filling the dictionary with the tuples\n",
    "conditions = [['yes', 'BIT', False],\n",
    "              ['yes', 'BIT', True],\n",
    "              ['yes', 'TCS', False],\n",
    "              ['yes', 'TCS', True],\n",
    "              ['no', 'BIT', False],\n",
    "              ['no', 'BIT', True],\n",
    "              ['no', 'TCS', False],\n",
    "              ['no', 'TCS', True],\n",
    "              ]\n",
    "my_list = []\n",
    "# iterate through conditions\n",
    "for cond in conditions:\n",
    "    res = len(students[(students.SCHOLARSHIP == cond[0]) &\n",
    "                       (students.STUDY == cond[1]) & (\n",
    "                               (students.GPA > 7.5) == cond[2])]) / students.SCHOLARSHIP.count()\n",
    "    my_list.append(res)\n",
    "    print(f\"P(Scholarship =\", cond[0], \", Study =\", cond[1]\n",
    "          , \" (Grade > 7.5) =\", cond[2], \") =\", res)\n",
    "\n",
    "print(\"\\nThe vector of conditional probabilities:\")\n",
    "print(np.array(my_list))\n",
    "\n",
    "print(\"\\nSum of the values in the vector:\")\n",
    "print(np.array(my_list).sum())\n",
    "\n"
   ]
  },
  {
   "cell_type": "markdown",
   "metadata": {},
   "source": [
    "## Exercise 2: Balls and Urns\n",
    "\n",
    "In this exercise, we will reproduce the computations of this week's first lecture, and extend them to $n$ urns.\n",
    "\n",
    "First, we need to represent how many urns we have and how many balls of each type they contain."
   ]
  },
  {
   "cell_type": "code",
   "execution_count": 82,
   "metadata": {
    "ExecuteTime": {
     "end_time": "2023-12-03T21:10:24.002446800Z",
     "start_time": "2023-12-03T21:10:23.135548Z"
    }
   },
   "outputs": [],
   "source": [
    "import numpy as np\n",
    "from scipy.stats import binom\n",
    "\n",
    "urns = np.array([[5,3],[3,5]])\n",
    "numUrns = urns.shape[0]\n",
    "priors = np.ones(numUrns) / numUrns\n"
   ]
  },
  {
   "cell_type": "markdown",
   "metadata": {},
   "source": [
    "As in the lecture, we will draw balls with replacement. The first thing to do is to be able to compute the probability of drawing $n$ white balls and $m$ blue balls, with replacement.\n",
    "\n",
    "#### Question 1\n",
    "Implement a function called \"likelihood\" which takes as parameters\n",
    "1. The index of the urn\n",
    "1. The number of white balls drawn\n",
    "1. The number of blue balls drawn\n",
    "    \n",
    "The distribution for this kind of observation is called the Binomial distribution. You can use the standard implementation of this distribution in the scipy.stats package for your implementation of this function."
   ]
  },
  {
   "cell_type": "code",
   "execution_count": 83,
   "metadata": {
    "ExecuteTime": {
     "end_time": "2023-12-03T21:10:24.014966700Z",
     "start_time": "2023-12-03T21:10:23.139973200Z"
    }
   },
   "outputs": [
    {
     "name": "stdout",
     "output_type": "stream",
     "text": [
      "0.20599365234374997\n"
     ]
    }
   ],
   "source": [
    "from scipy.stats import binom\n",
    "\n",
    "\n",
    "def likelihood(urn, nWhite, nBlue):\n",
    "    white, blue = urns[urn]\n",
    "    probability_white = white / (white + blue)\n",
    "    return binom.pmf(nWhite, nWhite + nBlue, probability_white)\n",
    "\n",
    "print(likelihood(1,3,2))"
   ]
  },
  {
   "cell_type": "markdown",
   "metadata": {},
   "source": [
    "Now, let us compute the posterior probability of having used the first urn given the observed number of white and blue balls. \n",
    "\n",
    "#### Question 2\n",
    "Implement a function called \"posterior\" which takes the same parameters as the \"likelihood\" function. Try to make your implementation work for any number of urns.\n",
    "\n",
    "What is the posterior probability of having picked urn 1 if we drew 3 white and 2 blue balls? What about 1 white and 3 blue balls?"
   ]
  },
  {
   "cell_type": "code",
   "execution_count": 84,
   "metadata": {
    "ExecuteTime": {
     "end_time": "2023-12-03T21:10:24.023487500Z",
     "start_time": "2023-12-03T21:10:23.144993400Z"
    }
   },
   "outputs": [
    {
     "name": "stdout",
     "output_type": "stream",
     "text": [
      "0.625\n",
      "0.37499999999999994\n",
      "0.2647058823529411\n"
     ]
    }
   ],
   "source": [
    "def posterior(urn, nWhite, nBlue):\n",
    "    \n",
    "    probability_urn = 1 / numUrns\n",
    "    sum_of_likelyhood = 0\n",
    "    for i in range(0, numUrns):\n",
    "        sum_of_likelyhood += likelihood(i, nWhite, nBlue) * probability_urn\n",
    "\n",
    "    return (likelihood(urn, nWhite, nBlue) * probability_urn) / sum_of_likelyhood\n",
    "\n",
    "\n",
    "print(posterior(0, 3, 2))\n",
    "print(posterior(1, 3, 2))\n",
    "print(posterior(0, 1, 3))\n"
   ]
  },
  {
   "cell_type": "markdown",
   "metadata": {},
   "source": [
    "## Exercise 3: Entering college\n",
    "\n",
    "Let's encode the probabilities of being smart, and an athlete and compute conditional probabilities."
   ]
  },
  {
   "cell_type": "code",
   "execution_count": 85,
   "metadata": {
    "ExecuteTime": {
     "end_time": "2023-12-03T21:10:24.023487500Z",
     "start_time": "2023-12-03T21:10:23.152024800Z"
    }
   },
   "outputs": [],
   "source": [
    "pS = 0.4\n",
    "pA = 0.1\n",
    "# So the values for this table would be\n",
    "# C_SA, C_S_NOT_A, C_NOT_S_A, C_NOT_S_NOT_A\n",
    "pC_SA = np.array([[ 0.91, 0.9],[0.9, 0.04]])"
   ]
  },
  {
   "cell_type": "markdown",
   "metadata": {},
   "source": [
    "#### Question 1\n",
    "\n",
    "Implement a function that computes the joint probability of being smart (or not), entering college (or not) and being an athlete (or not). This functions takes three boolean parameters:\n",
    "1. s, indicating whether the person is smart (True) or not Falss\n",
    "1. c, indicating whether the person entered college\n",
    "1. a, indicating whether the person is an athlete\n"
   ]
  },
  {
   "cell_type": "code",
   "execution_count": 86,
   "metadata": {
    "ExecuteTime": {
     "end_time": "2023-12-03T21:10:24.035999100Z",
     "start_time": "2023-12-03T21:10:23.159458600Z"
    }
   },
   "outputs": [
    {
     "name": "stdout",
     "output_type": "stream",
     "text": [
      "0.4000000000000001\n"
     ]
    }
   ],
   "source": [
    "# Your answer comes here\n",
    "def p(s, c, a):\n",
    "    p_A = 1 - pA\n",
    "    p_S = 1 - pS\n",
    "    # C_SA, C_S_NOT_A, C_NOT_S_A, C_NOT_S_NOT_A\n",
    "    pC_given_SA = 1 - pC_SA[int(not s), int(not a)]\n",
    "    if a:\n",
    "        p_A = pA\n",
    "    if s:\n",
    "        p_S = pS\n",
    "    if c:\n",
    "        pC_given_SA = pC_SA[int(not s), int(not a)]\n",
    "    return p_A * p_S * pC_given_SA\n",
    "\n",
    "\n",
    "pSA = p(True, False, True) + p(True, True, True)\n",
    "print(pSA / pA)"
   ]
  },
  {
   "cell_type": "markdown",
   "metadata": {},
   "source": [
    "#### Question 2\n",
    "Let's compute the probability that somebody is smart given that that person is an athlete, using marginalisation:\n",
    "\n",
    "$$ p(s|a) = \\frac{p(s,a)}{p(a)} $$\n",
    "\n",
    "where\n",
    "\n",
    "$$p(s,a) = p(s,c,a) + p(s,\\neg c, a)$$"
   ]
  },
  {
   "cell_type": "code",
   "execution_count": 87,
   "metadata": {
    "ExecuteTime": {
     "end_time": "2023-12-03T21:10:24.035999100Z",
     "start_time": "2023-12-03T21:10:23.166630900Z"
    }
   },
   "outputs": [
    {
     "name": "stdout",
     "output_type": "stream",
     "text": [
      "0.4000000000000001\n"
     ]
    }
   ],
   "source": [
    "# Your answer comes here \n",
    "\n",
    "# Calculate p(s,a) = p(s,c,a) + p(s,¬c,a)\n",
    "p_s_c_a = p(True, True, True)\n",
    "p_s_not_c_a = p(True, False, True)\n",
    "p_sa = p_s_c_a + p_s_not_c_a\n",
    "\n",
    "print(p_sa / pA)"
   ]
  },
  {
   "cell_type": "markdown",
   "metadata": {},
   "source": [
    "#### Question 3\n",
    "Next, let's compute the probability that somebody is smart given that that person is in college\n",
    "\n",
    "$$ P(s|c) = \\frac{P(s,c)}{P(c)} = \\frac{P(s,c,a) + P(s,c,\\neg a)}{P(s,c,a)+P(s,c,\\neg a)+P(\\neg s,c,a) + P(\\neg S,c,\\neg a)}$$"
   ]
  },
  {
   "cell_type": "code",
   "execution_count": 88,
   "metadata": {
    "ExecuteTime": {
     "end_time": "2023-12-03T21:10:24.084858800Z",
     "start_time": "2023-12-03T21:10:23.171916200Z"
    }
   },
   "outputs": [
    {
     "name": "stdout",
     "output_type": "stream",
     "text": [
      "0.826605504587156\n"
     ]
    }
   ],
   "source": [
    "# Your answer comes here\n",
    "\n",
    "pSC = p(True, True, True) + p(True, True, False)\n",
    "pC = p(True, True, True) + p(True, True, False) + p(False, True, True) + p(False, True, False)\n",
    "\n",
    "print(pSC / pC)"
   ]
  },
  {
   "cell_type": "markdown",
   "metadata": {},
   "source": [
    "#### Question 4\n",
    "Finally, compute the probability that a person is smart, given that this person is in college and an athlete."
   ]
  },
  {
   "cell_type": "code",
   "execution_count": 89,
   "metadata": {
    "ExecuteTime": {
     "end_time": "2023-12-03T21:10:24.097372300Z",
     "start_time": "2023-12-03T21:10:23.181099600Z"
    }
   },
   "outputs": [
    {
     "name": "stdout",
     "output_type": "stream",
     "text": [
      "0.40265486725663724\n"
     ]
    }
   ],
   "source": [
    "# Your answer comes here\n",
    "\n",
    "pSCA = p(True, True, True)\n",
    "pAC = p(True, True, True) + p(False, True, True)\n",
    "\n",
    "print(pSCA / pAC)"
   ]
  },
  {
   "cell_type": "markdown",
   "metadata": {},
   "source": [
    "## Exercise 4: Bayesian Networks\n",
    "\n",
    "##### In the first part of this exercise, we will show you how to work with pyAgrum to create a simple Bayesian Network.\n",
    "##### It is then up to you to create a bayesian network and make inferences with it.\n",
    "\n",
    "<span style=\"color:red\">\n",
    "<br>    \n",
    "To be able to visualize the Bayesian networks, you need to run graphviz.\n",
    "\n",
    "If you're working with Anaconda install it by running **conda install -c anaconda graphviz** from the Anaconda prompt.\n",
    "\n",
    "You can also install it directly from [graphviz](https://graphviz.org/download/).\n",
    "</span>\n",
    "\n",
    "## Part I: A Working Example"
   ]
  },
  {
   "cell_type": "markdown",
   "metadata": {},
   "source": [
    "We start with the necessary imports\n",
    "\n",
    "Please also refer to the tutorials and documentation of [pyAgrum](https://pyagrum.readthedocs.io/en/1.10.0/notebooks/01-Tutorial.html)"
   ]
  },
  {
   "cell_type": "code",
   "execution_count": 90,
   "metadata": {
    "ExecuteTime": {
     "end_time": "2023-12-03T21:10:24.098371300Z",
     "start_time": "2023-12-03T21:10:23.186186800Z"
    }
   },
   "outputs": [],
   "source": [
    "import pyAgrum as gum\n",
    "import os\n",
    "import pyAgrum.lib.notebook as gnb"
   ]
  },
  {
   "cell_type": "markdown",
   "metadata": {},
   "source": [
    "Let's now create a new Bayesian Network, call it **college**, and store it in the variable **bayesian_net**."
   ]
  },
  {
   "cell_type": "code",
   "execution_count": 91,
   "metadata": {
    "ExecuteTime": {
     "end_time": "2023-12-03T21:10:24.111892Z",
     "start_time": "2023-12-03T21:10:23.190938Z"
    }
   },
   "outputs": [
    {
     "name": "stdout",
     "output_type": "stream",
     "text": [
      "BN{nodes: 0, arcs: 0, domainSize: 1, dim: 0, mem: 0o}\n"
     ]
    }
   ],
   "source": [
    "bayesian_net = gum.BayesNet('college')\n",
    "print(bayesian_net)"
   ]
  },
  {
   "cell_type": "markdown",
   "metadata": {},
   "source": [
    "In this BN, we will have three random variables or nodes (S, A and C). We specify the possible value each random variable will take, in our case, all random variables will be set to either true or false (order matters here)."
   ]
  },
  {
   "cell_type": "code",
   "execution_count": 92,
   "metadata": {
    "ExecuteTime": {
     "end_time": "2023-12-03T21:10:24.125742200Z",
     "start_time": "2023-12-03T21:10:23.198460100Z"
    }
   },
   "outputs": [],
   "source": [
    "S=bayesian_net.add(gum.LabelizedVariable('S','Smart',[\"true\",\"false\"]))\n",
    "A=bayesian_net.add(gum.LabelizedVariable('A','Athlete',[\"true\",\"false\"]))\n",
    "C=bayesian_net.add(gum.LabelizedVariable('C','Collete',[\"true\",\"false\"]))"
   ]
  },
  {
   "cell_type": "markdown",
   "metadata": {},
   "source": [
    "We now proceed to connect the nodes. Both nodes S and A are connected to C."
   ]
  },
  {
   "cell_type": "code",
   "execution_count": 93,
   "metadata": {
    "ExecuteTime": {
     "end_time": "2023-12-03T21:10:24.126743500Z",
     "start_time": "2023-12-03T21:10:23.203266400Z"
    }
   },
   "outputs": [],
   "source": [
    "#arc goes from S to C\n",
    "bayesian_net.addArc(S,C)\n",
    "bayesian_net.addArc(A,C)"
   ]
  },
  {
   "cell_type": "markdown",
   "metadata": {},
   "source": [
    "We can easily visualize our Bayesian Network to check whether its structure is correct."
   ]
  },
  {
   "cell_type": "code",
   "execution_count": 94,
   "metadata": {
    "ExecuteTime": {
     "end_time": "2023-12-03T21:10:24.148777900Z",
     "start_time": "2023-12-03T21:10:23.208375100Z"
    }
   },
   "outputs": [
    {
     "data": {
      "text/plain": "(pyAgrum.BayesNet<double>@00000203C170E9A0) BN{nodes: 3, arcs: 2, domainSize: 8, dim: 6, mem: 96o}",
      "text/html": "<svg xmlns=\"http://www.w3.org/2000/svg\" xmlns:xlink=\"http://www.w3.org/1999/xlink\" width=\"134pt\" height=\"116pt\" viewBox=\"0.00 0.00 134.00 116.00\">\n<g id=\"graph0\" class=\"graph\" transform=\"scale(1 1) rotate(0) translate(4 112)\">\n<title>G</title>\n<!-- A -->\n<g id=\"node1\" class=\"node\">\n<title>A</title>\n<g id=\"a_node1\"><a xlink:title=\"(1) A\">\n<ellipse fill=\"#404040\" stroke=\"black\" cx=\"27\" cy=\"-90\" rx=\"27\" ry=\"18\"/>\n<text text-anchor=\"middle\" x=\"27\" y=\"-84.58\" font-family=\"Times New Roman,serif\" font-size=\"14.00\" fill=\"white\">A</text>\n</a>\n</g>\n</g>\n<!-- C -->\n<g id=\"node3\" class=\"node\">\n<title>C</title>\n<g id=\"a_node3\"><a xlink:title=\"(2) C\">\n<ellipse fill=\"#404040\" stroke=\"black\" cx=\"63\" cy=\"-18\" rx=\"27\" ry=\"18\"/>\n<text text-anchor=\"middle\" x=\"63\" y=\"-12.57\" font-family=\"Times New Roman,serif\" font-size=\"14.00\" fill=\"white\">C</text>\n</a>\n</g>\n</g>\n<!-- A&#45;&gt;C -->\n<g id=\"edge2\" class=\"edge\">\n<title>A-&gt;C</title>\n<g id=\"a_edge2\"><a xlink:title=\"1 → 2\">\n<path fill=\"none\" stroke=\"#4a4a4a\" d=\"M35.35,-72.76C39.58,-64.55 44.81,-54.37 49.58,-45.09\"/>\n<polygon fill=\"#4a4a4a\" stroke=\"#4a4a4a\" points=\"52.54,-46.99 54,-36.49 46.32,-43.79 52.54,-46.99\"/>\n</a>\n</g>\n</g>\n<!-- S -->\n<g id=\"node2\" class=\"node\">\n<title>S</title>\n<g id=\"a_node2\"><a xlink:title=\"(0) S\">\n<ellipse fill=\"#404040\" stroke=\"black\" cx=\"99\" cy=\"-90\" rx=\"27\" ry=\"18\"/>\n<text text-anchor=\"middle\" x=\"99\" y=\"-84.58\" font-family=\"Times New Roman,serif\" font-size=\"14.00\" fill=\"white\">S</text>\n</a>\n</g>\n</g>\n<!-- S&#45;&gt;C -->\n<g id=\"edge1\" class=\"edge\">\n<title>S-&gt;C</title>\n<g id=\"a_edge1\"><a xlink:title=\"0 → 2\">\n<path fill=\"none\" stroke=\"#4a4a4a\" d=\"M90.65,-72.76C86.42,-64.55 81.19,-54.37 76.42,-45.09\"/>\n<polygon fill=\"#4a4a4a\" stroke=\"#4a4a4a\" points=\"79.68,-43.79 72,-36.49 73.46,-46.99 79.68,-43.79\"/>\n</a>\n</g>\n</g>\n</g>\n</svg>"
     },
     "execution_count": 94,
     "metadata": {},
     "output_type": "execute_result"
    }
   ],
   "source": [
    "bayesian_net"
   ]
  },
  {
   "cell_type": "markdown",
   "metadata": {},
   "source": [
    "We now proceed to fill the conditional probability tables for all our nodes."
   ]
  },
  {
   "cell_type": "code",
   "execution_count": 95,
   "metadata": {
    "ExecuteTime": {
     "end_time": "2023-12-03T21:10:24.148777900Z",
     "start_time": "2023-12-03T21:10:23.241213500Z"
    }
   },
   "outputs": [
    {
     "data": {
      "text/plain": "(pyAgrum.Potential<double>@00000203C1DD45A0) \n  A                |\ntrue     |false    |\n---------|---------|\n 0.1000  | 0.9000  |",
      "text/html": "<table style=\"border:1px solid black;\">\n<tr style='border:1px solid black;color:black;background-color:#808080'>\n      <th colspan='2'><center>A</center></th></tr>\n<tr><th style='border:1px solid black;border-bottom-style: double;color:black;background-color:#BBBBBB'>\n      <center>true</center></th><th style='border:1px solid black;border-bottom-style: double;color:black;background-color:#BBBBBB'>\n      <center>false</center></th></tr>\n<tr><td style='color:black;background-color:#f28b64;text-align:right;'>0.1000</td><td style='color:black;background-color:#8bf264;text-align:right;'>0.9000</td></tr>\n</table>"
     },
     "execution_count": 95,
     "metadata": {},
     "output_type": "execute_result"
    }
   ],
   "source": [
    "#for random variable A\n",
    "bayesian_net.cpt(A).fillWith([0.1,0.9])"
   ]
  },
  {
   "cell_type": "code",
   "execution_count": 96,
   "metadata": {
    "ExecuteTime": {
     "end_time": "2023-12-03T21:10:24.166335800Z",
     "start_time": "2023-12-03T21:10:23.247951Z"
    }
   },
   "outputs": [
    {
     "data": {
      "text/plain": "(pyAgrum.Potential<double>@00000203C1DD4600) \n  S                |\ntrue     |false    |\n---------|---------|\n 0.4000  | 0.6000  |",
      "text/html": "<table style=\"border:1px solid black;\">\n<tr style='border:1px solid black;color:black;background-color:#808080'>\n      <th colspan='2'><center>S</center></th></tr>\n<tr><th style='border:1px solid black;border-bottom-style: double;color:black;background-color:#BBBBBB'>\n      <center>true</center></th><th style='border:1px solid black;border-bottom-style: double;color:black;background-color:#BBBBBB'>\n      <center>false</center></th></tr>\n<tr><td style='color:black;background-color:#cbb264;text-align:right;'>0.4000</td><td style='color:black;background-color:#b2cb64;text-align:right;'>0.6000</td></tr>\n</table>"
     },
     "execution_count": 96,
     "metadata": {},
     "output_type": "execute_result"
    }
   ],
   "source": [
    "#for random variable S\n",
    "bayesian_net.cpt(S).fillWith([0.4,0.6])"
   ]
  },
  {
   "cell_type": "code",
   "execution_count": 97,
   "metadata": {
    "scrolled": true,
    "ExecuteTime": {
     "end_time": "2023-12-03T21:10:24.166335800Z",
     "start_time": "2023-12-03T21:10:23.254985400Z"
    }
   },
   "outputs": [
    {
     "data": {
      "text/plain": "('C', 'S', 'A')"
     },
     "execution_count": 97,
     "metadata": {},
     "output_type": "execute_result"
    }
   ],
   "source": [
    "#This prints the structure of the CPT associated with C\n",
    "#Might not be interesting here, but thing about a node with many parents\n",
    "bayesian_net.cpt(C).names"
   ]
  },
  {
   "cell_type": "code",
   "execution_count": 98,
   "metadata": {
    "ExecuteTime": {
     "end_time": "2023-12-03T21:10:24.174860Z",
     "start_time": "2023-12-03T21:10:23.263203400Z"
    }
   },
   "outputs": [
    {
     "data": {
      "text/plain": "(pyAgrum.Potential<double>@00000203C1DD4A40) \n             ||  C                |\nS     |A     ||true     |false    |\n------|------||---------|---------|\ntrue  |true  || 0.9100  | 0.0900  |\nfalse |true  || 0.9000  | 0.1000  |\ntrue  |false || 0.9000  | 0.1000  |\nfalse |false || 0.0400  | 0.9600  |",
      "text/html": "<table style=\"border:1px solid black;\">\n<tr><th colspan='2'></th>\n      <th colspan='2' style='border:1px solid black;color:black;background-color:#808080;'><center>C</center>\n      </th></tr>\n<tr><th style='border:1px solid black;color:black;background-color:#808080'><center>A</center></th><th style='border:1px solid black;color:black;background-color:#808080'><center>S</center></th><th style='border:1px solid black;border-bottom-style: double;color:black;background-color:#BBBBBB'>\n      <center>true</center></th><th style='border:1px solid black;border-bottom-style: double;color:black;background-color:#BBBBBB'>\n      <center>false</center></th></tr>\n<tr><th style='border:1px solid black;color:black;background-color:#BBBBBB;' rowspan = '2'>\n            <center>true</center></th><th style='border:1px solid black;color:black;background-color:#BBBBBB'><center>true</center></th><td style='color:black;background-color:#8af364;text-align:right;'>0.9100</td><td style='color:black;background-color:#f38a64;text-align:right;'>0.0900</td></tr>\n<tr><th style='border:1px solid black;color:black;background-color:#BBBBBB'><center>false</center></th><td style='color:black;background-color:#8bf264;text-align:right;'>0.9000</td><td style='color:black;background-color:#f28b64;text-align:right;'>0.1000</td></tr>\n<tr><th style='border:1px solid black;color:black;background-color:#BBBBBB;' rowspan = '2'>\n            <center>false</center></th><th style='border:1px solid black;color:black;background-color:#BBBBBB'><center>true</center></th><td style='color:black;background-color:#8bf264;text-align:right;'>0.9000</td><td style='color:black;background-color:#f28b64;text-align:right;'>0.1000</td></tr>\n<tr><th style='border:1px solid black;color:black;background-color:#BBBBBB'><center>false</center></th><td style='color:black;background-color:#f98464;text-align:right;'>0.0400</td><td style='color:black;background-color:#84f964;text-align:right;'>0.9600</td></tr>\n</table>"
     },
     "execution_count": 98,
     "metadata": {},
     "output_type": "execute_result"
    }
   ],
   "source": [
    "#Filling the CPT of the College node C\n",
    "bayesian_net.cpt(C)[0,0,:] = [0.91, 0.09] \n",
    "bayesian_net.cpt(C)[0,1,:] = [0.9, 0.1] \n",
    "bayesian_net.cpt(C)[1,0,:] = [0.9, 0.1] \n",
    "bayesian_net.cpt(C)[1,1,:] = [0.04, 0.96] \n",
    "bayesian_net.cpt(C)"
   ]
  },
  {
   "cell_type": "markdown",
   "metadata": {},
   "source": [
    "Let's save our model."
   ]
  },
  {
   "cell_type": "code",
   "execution_count": 99,
   "metadata": {
    "ExecuteTime": {
     "end_time": "2023-12-03T21:10:24.175858500Z",
     "start_time": "2023-12-03T21:10:23.269241800Z"
    }
   },
   "outputs": [],
   "source": [
    "gum.saveBN(bayesian_net,os.path.join(\"./\",\"college.bif\"))"
   ]
  },
  {
   "cell_type": "markdown",
   "metadata": {},
   "source": [
    "Now we proceed to make some inferences using our Bayesian network."
   ]
  },
  {
   "cell_type": "code",
   "execution_count": 100,
   "metadata": {
    "ExecuteTime": {
     "end_time": "2023-12-03T21:10:24.175858500Z",
     "start_time": "2023-12-03T21:10:23.275760300Z"
    }
   },
   "outputs": [],
   "source": [
    "ie=gum.LazyPropagation(bayesian_net)"
   ]
  },
  {
   "cell_type": "markdown",
   "metadata": {},
   "source": [
    "Let's calculate $P(s|a,c) and P(\\neg s|a,c)$"
   ]
  },
  {
   "cell_type": "code",
   "execution_count": 101,
   "metadata": {
    "scrolled": false,
    "ExecuteTime": {
     "end_time": "2023-12-03T21:10:24.187437300Z",
     "start_time": "2023-12-03T21:10:23.284117500Z"
    }
   },
   "outputs": [
    {
     "data": {
      "text/plain": "(pyAgrum.Potential<double>@00000203C1DCF300) \n  S                |\ntrue     |false    |\n---------|---------|\n 0.4027  | 0.5973  |",
      "text/html": "<table style=\"border:1px solid black;\">\n<tr style='border:1px solid black;color:black;background-color:#808080'>\n      <th colspan='2'><center>S</center></th></tr>\n<tr><th style='border:1px solid black;border-bottom-style: double;color:black;background-color:#BBBBBB'>\n      <center>true</center></th><th style='border:1px solid black;border-bottom-style: double;color:black;background-color:#BBBBBB'>\n      <center>false</center></th></tr>\n<tr><td style='color:black;background-color:#cbb264;text-align:right;'>0.4027</td><td style='color:black;background-color:#b2cb64;text-align:right;'>0.5973</td></tr>\n</table>"
     },
     "execution_count": 101,
     "metadata": {},
     "output_type": "execute_result"
    }
   ],
   "source": [
    "ie.makeInference()\n",
    "ie.setEvidence({'A':0, 'C':0})\n",
    "ie.makeInference()\n",
    "ie.posterior(S)"
   ]
  },
  {
   "cell_type": "markdown",
   "metadata": {},
   "source": [
    "Let's calculate $P(s|c) and P(\\neg s|c)$"
   ]
  },
  {
   "cell_type": "code",
   "execution_count": 102,
   "metadata": {
    "ExecuteTime": {
     "end_time": "2023-12-03T21:10:24.188436900Z",
     "start_time": "2023-12-03T21:10:23.291934500Z"
    }
   },
   "outputs": [
    {
     "data": {
      "text/plain": "(pyAgrum.Potential<double>@00000203C1DCF4A0) \n  S                |\ntrue     |false    |\n---------|---------|\n 0.8266  | 0.1734  |",
      "text/html": "<table style=\"border:1px solid black;\">\n<tr style='border:1px solid black;color:black;background-color:#808080'>\n      <th colspan='2'><center>S</center></th></tr>\n<tr><th style='border:1px solid black;border-bottom-style: double;color:black;background-color:#BBBBBB'>\n      <center>true</center></th><th style='border:1px solid black;border-bottom-style: double;color:black;background-color:#BBBBBB'>\n      <center>false</center></th></tr>\n<tr><td style='color:black;background-color:#95e864;text-align:right;'>0.8266</td><td style='color:black;background-color:#e89564;text-align:right;'>0.1734</td></tr>\n</table>"
     },
     "execution_count": 102,
     "metadata": {},
     "output_type": "execute_result"
    }
   ],
   "source": [
    "ie.makeInference()\n",
    "ie.setEvidence({'C':0})\n",
    "ie.makeInference()\n",
    "ie.posterior(S)"
   ]
  },
  {
   "cell_type": "markdown",
   "metadata": {},
   "source": [
    "Let's calculate $P(s|a) and P(\\neg s|a)$"
   ]
  },
  {
   "cell_type": "code",
   "execution_count": 103,
   "metadata": {
    "ExecuteTime": {
     "end_time": "2023-12-03T21:10:24.201957100Z",
     "start_time": "2023-12-03T21:10:23.300167Z"
    }
   },
   "outputs": [
    {
     "data": {
      "text/plain": "(pyAgrum.Potential<double>@00000203C1DCF820) \n  S                |\ntrue     |false    |\n---------|---------|\n 0.4000  | 0.6000  |",
      "text/html": "<table style=\"border:1px solid black;\">\n<tr style='border:1px solid black;color:black;background-color:#808080'>\n      <th colspan='2'><center>S</center></th></tr>\n<tr><th style='border:1px solid black;border-bottom-style: double;color:black;background-color:#BBBBBB'>\n      <center>true</center></th><th style='border:1px solid black;border-bottom-style: double;color:black;background-color:#BBBBBB'>\n      <center>false</center></th></tr>\n<tr><td style='color:black;background-color:#cbb264;text-align:right;'>0.4000</td><td style='color:black;background-color:#b2cb64;text-align:right;'>0.6000</td></tr>\n</table>"
     },
     "execution_count": 103,
     "metadata": {},
     "output_type": "execute_result"
    }
   ],
   "source": [
    "ie.makeInference()\n",
    "ie.setEvidence({'A':0})\n",
    "ie.makeInference()\n",
    "ie.posterior(S)"
   ]
  },
  {
   "cell_type": "markdown",
   "metadata": {},
   "source": [
    "## Part II: Implement your Own\n",
    "\n",
    "The below exercise is inspired from the research of Melo and Sanchez **Software maintenance project delays prediction using Bayesian Networks** available [here](https://www.sciencedirect.com/science/article/pii/S0957417406003526).\n",
    "\n",
    "We have also highlighted the questions in red to improve the exercise's readability."
   ]
  },
  {
   "cell_type": "markdown",
   "metadata": {},
   "source": [
    "**Description:**\n",
    "\n",
    "In this exercise, we want to build a Bayesian network that models the factors influencing the success of IT projects\n",
    "\n",
    "Refer to the below diagram for the overall structure.\n",
    "![IT Project Failure bayesian network](bayes_pm.png)\n",
    "\n",
    "#### Layer 1 - Fundamental Factors\n",
    "##### Project Size (Large:0, Small:1)\n",
    "\n",
    "Refers to the scope and scale of the project, which can include factors like duration, number of team members, and breadth of objectives.\n",
    "\n",
    "Larger projects are generally more complex, with higher risks and more coordination required. They may influence stakeholder engagement (larger projects often require more intense stakeholder involvement) and can also impact project management quality (larger projects often demand more rigorous management practices).\n",
    "\n",
    "##### Team Experience (Inexperienced:0, Experienced:1)\n",
    "\n",
    "Represents the cumulative experience and skill level of the project team.\n",
    "\n",
    "An experienced team is likely better at anticipating and managing project risks, which positively influences project management quality. Experienced teams are also more likely to understand and define requirements clearly and can affect stakeholder engagement through more effective communication and trust-building.\n",
    "\n",
    "##### Budget Adequacy (Inadequate:0, Adequate:1)\n",
    "\n",
    "Indicates whether the project has sufficient financial resources to meet its objectives without compromising on quality or timelines.\n",
    "\n",
    "Adequate budgeting is crucial for good project management. It ensures that necessary resources are available and can reduce the likelihood of project delays or quality issues. Budget constraints can also impact technology choices, possibly leading to the selection of simpler, more cost-effective technologies.\n",
    "\n",
    "##### Technology Complexity (Complex:0, Simple:1)\n",
    "\n",
    "Relates to the sophistication and intricacy of the technology used in the project.\n",
    "\n",
    "Complex technologies can increase the project's difficulty, requiring more skilled personnel (thus relating to team experience) and possibly impacting project management quality. Complex technology choices may also make requirement definition more challenging."
   ]
  },
  {
   "cell_type": "markdown",
   "metadata": {},
   "source": [
    "<span style=\"color:red; font-weight:bold;\">Question 1 <br> </span>\n",
    "<span style=\"color:red\">\n",
    "Create the nodes in the first layer of your bayesian network.<br>\n",
    "Start of course by instantiating an empty BayesNet object, then add the 4 nodes described above to it.<br>\n",
    "</span>\n"
   ]
  },
  {
   "cell_type": "code",
   "execution_count": 104,
   "metadata": {
    "ExecuteTime": {
     "end_time": "2023-12-03T21:10:24.211986400Z",
     "start_time": "2023-12-03T21:10:23.306762500Z"
    }
   },
   "outputs": [
    {
     "data": {
      "text/plain": "(pyAgrum.BayesNet<double>@00000203C1710C20) BN{nodes: 4, arcs: 0, domainSize: 16, dim: 4, mem: 64o}",
      "text/html": "<svg xmlns=\"http://www.w3.org/2000/svg\" xmlns:xlink=\"http://www.w3.org/1999/xlink\" width=\"360pt\" height=\"31pt\" viewBox=\"0.00 0.00 360.00 31.30\">\n<g id=\"graph0\" class=\"graph\" transform=\"scale(0.711362 0.711362) rotate(0) translate(4 40)\">\n<title>G</title>\n<!-- Project Size -->\n<g id=\"node1\" class=\"node\">\n<title>Project Size</title>\n<g id=\"a_node1\"><a xlink:title=\"(3) Project Size\">\n<ellipse fill=\"#404040\" stroke=\"black\" cx=\"55.06\" cy=\"-18\" rx=\"55.06\" ry=\"18\"/>\n<text text-anchor=\"middle\" x=\"55.06\" y=\"-12.57\" font-family=\"Times New Roman,serif\" font-size=\"14.00\" fill=\"white\">Project Size</text>\n</a>\n</g>\n</g>\n<!-- Technology -->\n<g id=\"node2\" class=\"node\">\n<title>Technology</title>\n<g id=\"a_node2\"><a xlink:title=\"(0) Technology\">\n<ellipse fill=\"#404040\" stroke=\"black\" cx=\"183.06\" cy=\"-18\" rx=\"55.06\" ry=\"18\"/>\n<text text-anchor=\"middle\" x=\"183.06\" y=\"-12.57\" font-family=\"Times New Roman,serif\" font-size=\"14.00\" fill=\"white\">Technology</text>\n</a>\n</g>\n</g>\n<!-- Budget -->\n<g id=\"node3\" class=\"node\">\n<title>Budget</title>\n<g id=\"a_node3\"><a xlink:title=\"(2) Budget\">\n<ellipse fill=\"#404040\" stroke=\"black\" cx=\"293.06\" cy=\"-18\" rx=\"37.09\" ry=\"18\"/>\n<text text-anchor=\"middle\" x=\"293.06\" y=\"-12.57\" font-family=\"Times New Roman,serif\" font-size=\"14.00\" fill=\"white\">Budget</text>\n</a>\n</g>\n</g>\n<!-- Team Experience -->\n<g id=\"node4\" class=\"node\">\n<title>Team Experience</title>\n<g id=\"a_node4\"><a xlink:title=\"(1) Team Experience\">\n<ellipse fill=\"#404040\" stroke=\"black\" cx=\"423.06\" cy=\"-18\" rx=\"75.02\" ry=\"18\"/>\n<text text-anchor=\"middle\" x=\"423.06\" y=\"-12.57\" font-family=\"Times New Roman,serif\" font-size=\"14.00\" fill=\"white\">Team Experience</text>\n</a>\n</g>\n</g>\n</g>\n</svg>"
     },
     "execution_count": 104,
     "metadata": {},
     "output_type": "execute_result"
    }
   ],
   "source": [
    "# Your answer comes here\n",
    "bayesian_assignment_net = gum.BayesNet('Assignment')\n",
    "\n",
    "Technology = gum.LabelizedVariable('Technology', 'Complexity', [\"Complex\", \"Simple\"])\n",
    "TeamExperience = gum.LabelizedVariable('Team Experience', 'Experiency', [\"Inexperienced\", \"Experienced\"])\n",
    "Budget = gum.LabelizedVariable('Budget', 'Adequacy', [\"Inadequate\", \"Adequate\"])\n",
    "ProjectSize = gum.LabelizedVariable('Project Size', 'Size', [\"Large\", \"Small\"])\n",
    "\n",
    "bayesian_assignment_net.add(Technology)\n",
    "bayesian_assignment_net.add(TeamExperience)\n",
    "bayesian_assignment_net.add(Budget)\n",
    "bayesian_assignment_net.add(ProjectSize)\n",
    "\n",
    "bayesian_assignment_net"
   ]
  },
  {
   "cell_type": "markdown",
   "metadata": {},
   "source": [
    "<span style=\"color:red; font-weight:bold;\">Question 2 <br> </span>\n",
    "<span style=\"color:red\">\n",
    "Fill the CPT for each of the 4 nodes.<br>\n",
    "Print the 4 CPTs to verify the values.<br>\n",
    "</span>\n"
   ]
  },
  {
   "cell_type": "code",
   "execution_count": 105,
   "metadata": {
    "ExecuteTime": {
     "end_time": "2023-12-03T21:10:24.211986400Z",
     "start_time": "2023-12-03T21:10:23.347881300Z"
    }
   },
   "outputs": [
    {
     "name": "stdout",
     "output_type": "stream",
     "text": [
      "\n",
      "  Technology       |\n",
      "Complex  |Simple   |\n",
      "---------|---------|\n",
      " 0.5000  | 0.5000  |\n",
      "\n",
      "\n",
      "  Team Experience  |\n",
      "Inexperie|Experienc|\n",
      "---------|---------|\n",
      " 0.5000  | 0.5000  |\n",
      "\n",
      "\n",
      "  Budget           |\n",
      "Inadequat|Adequate |\n",
      "---------|---------|\n",
      " 0.5000  | 0.5000  |\n",
      "\n",
      "\n",
      "  Project Size     |\n",
      "Large    |Small    |\n",
      "---------|---------|\n",
      " 0.5000  | 0.5000  |\n"
     ]
    }
   ],
   "source": [
    "# Your answer comes here\n",
    "# Appending the values\n",
    "bayesian_assignment_net.cpt('Technology').fillWith([0.5, 0.5])\n",
    "bayesian_assignment_net.cpt('Team Experience').fillWith([0.5, 0.5])\n",
    "bayesian_assignment_net.cpt('Budget').fillWith([0.5, 0.5])\n",
    "bayesian_assignment_net.cpt('Project Size').fillWith([0.5, 0.5])\n",
    "# Printing the filled values\n",
    "print(bayesian_assignment_net.cpt('Technology'))\n",
    "print(bayesian_assignment_net.cpt('Team Experience'))\n",
    "print(bayesian_assignment_net.cpt('Budget'))\n",
    "print(bayesian_assignment_net.cpt('Project Size'))"
   ]
  },
  {
   "cell_type": "markdown",
   "metadata": {},
   "source": [
    "#### Layer 2 - Intermediate Factors\n",
    "\n",
    "##### Project Management Quality (Poor:0, Good:1)\n",
    "\n",
    "\n",
    "Reflects the effectiveness of planning, executing, monitoring, controlling, and closing project activities.\n",
    "\n",
    "Good project management is pivotal for project success. It helps in effectively utilizing resources, maintaining timelines, and achieving project objectives. High-quality management can positively influence the project outcome by mitigating various risks and coordinating project activities efficiently.\n",
    "\n",
    "##### Stakeholder Engagement (Low:0, High:1)\n",
    "\n",
    "\n",
    "Measures the level of involvement and support of all parties interested in the project, including clients, sponsors, and team members.\n",
    "\n",
    "High stakeholder engagement often correlates with better project outcomes as it ensures that stakeholder expectations are aligned with project goals, and necessary support is provided throughout the project lifecycle.\n",
    "\n",
    "##### Requirement Clarity (Unclear:0, Clear:1)\n",
    "\n",
    "Indicates how well the project's objectives, deliverables, and scope are understood and documented.\n",
    "\n",
    "Clear requirements are essential for successful project execution. They prevent scope creep, reduce misunderstandings, and ensure that the project team is working towards a common goal. Clear requirements positively influence the project outcome by providing a solid foundation for all project activities."
   ]
  },
  {
   "cell_type": "markdown",
   "metadata": {},
   "source": [
    "#### Layer 1 to Layer 2 Impact\n",
    "\n",
    "##### Team Experience → Stakeholder Engagement:\n",
    "\n",
    "An experienced team can engage stakeholders more effectively due to better communication skills and a deeper understanding of stakeholder needs and concerns. Their experience often builds trust and credibility, leading to more active and positive involvement from stakeholders.\n",
    "\n",
    "##### Project Size → Stakeholder Engagement:\n",
    "\n",
    "Larger projects typically require more significant stakeholder involvement due to their complexity and broader impact.\n",
    "##### Team Experience → Project Management Quality:\n",
    "\n",
    "Experienced teams are likely to implement more effective project management practices, leading to higher quality management.\n",
    "##### Budget Adequacy → Project Management Quality:\n",
    "\n",
    "Adequate budgeting allows for better resource allocation and planning, which are crucial for good project management.\n",
    "##### Team Experience → Requirement Clarity:\n",
    "\n",
    "Experienced teams are generally better at defining clear and precise project requirements due to their understanding of similar projects and potential pitfalls. It is evident that having an inexperienced requirements analyst can significantly contribute to the failure of a project. \n",
    "##### Technology Complexity → Requirement Clarity:\n",
    "\n",
    "Complex technologies often require more detailed and specific requirements, as they may introduce unique challenges and considerations."
   ]
  },
  {
   "cell_type": "markdown",
   "metadata": {},
   "source": [
    "<span style=\"color:red; font-weight:bold;\">Question 3<br> </span>\n",
    "<span style=\"color:red\">\n",
    "Add the 3 nodes above to your bayesian network.<br>\n",
    "Draw the arcs that connect each node to its parents.<br>\n",
    "Print your network to verify its structure\n",
    "</span>"
   ]
  },
  {
   "cell_type": "code",
   "execution_count": 106,
   "metadata": {
    "scrolled": true,
    "ExecuteTime": {
     "end_time": "2023-12-03T21:10:24.375298100Z",
     "start_time": "2023-12-03T21:10:23.355381700Z"
    }
   },
   "outputs": [
    {
     "data": {
      "text/plain": "(pyAgrum.BayesNet<double>@00000203C1710C20) BN{nodes: 7, arcs: 6, domainSize: 128, dim: 16, mem: 256o}",
      "text/html": "<svg xmlns=\"http://www.w3.org/2000/svg\" xmlns:xlink=\"http://www.w3.org/1999/xlink\" width=\"360pt\" height=\"69pt\" viewBox=\"0.00 0.00 360.00 68.57\">\n<g id=\"graph0\" class=\"graph\" transform=\"scale(0.591155 0.591155) rotate(0) translate(4 112)\">\n<title>G</title>\n<!-- Budget -->\n<g id=\"node1\" class=\"node\">\n<title>Budget</title>\n<g id=\"a_node1\"><a xlink:title=\"(2) Budget\">\n<ellipse fill=\"#404040\" stroke=\"black\" cx=\"115.43\" cy=\"-90\" rx=\"37.09\" ry=\"18\"/>\n<text text-anchor=\"middle\" x=\"115.43\" y=\"-84.58\" font-family=\"Times New Roman,serif\" font-size=\"14.00\" fill=\"white\">Budget</text>\n</a>\n</g>\n</g>\n<!-- Project Management Quality -->\n<g id=\"node6\" class=\"node\">\n<title>Project Management Quality</title>\n<g id=\"a_node6\"><a xlink:title=\"(5) Project Management Quality\">\n<ellipse fill=\"#404040\" stroke=\"black\" cx=\"115.43\" cy=\"-18\" rx=\"115.43\" ry=\"18\"/>\n<text text-anchor=\"middle\" x=\"115.43\" y=\"-12.57\" font-family=\"Times New Roman,serif\" font-size=\"14.00\" fill=\"white\">Project Management Quality</text>\n</a>\n</g>\n</g>\n<!-- Budget&#45;&gt;Project Management Quality -->\n<g id=\"edge6\" class=\"edge\">\n<title>Budget-&gt;Project Management Quality</title>\n<g id=\"a_edge6\"><a xlink:title=\"2 → 5\">\n<path fill=\"none\" stroke=\"#4a4a4a\" d=\"M115.43,-71.7C115.43,-64.41 115.43,-55.73 115.43,-47.54\"/>\n<polygon fill=\"#4a4a4a\" stroke=\"#4a4a4a\" points=\"118.93,-47.62 115.43,-37.62 111.93,-47.62 118.93,-47.62\"/>\n</a>\n</g>\n</g>\n<!-- Project Size -->\n<g id=\"node2\" class=\"node\">\n<title>Project Size</title>\n<g id=\"a_node2\"><a xlink:title=\"(3) Project Size\">\n<ellipse fill=\"#404040\" stroke=\"black\" cx=\"402.43\" cy=\"-90\" rx=\"55.06\" ry=\"18\"/>\n<text text-anchor=\"middle\" x=\"402.43\" y=\"-84.58\" font-family=\"Times New Roman,serif\" font-size=\"14.00\" fill=\"white\">Project Size</text>\n</a>\n</g>\n</g>\n<!-- Stakeholder Enegagement -->\n<g id=\"node3\" class=\"node\">\n<title>Stakeholder Enegagement</title>\n<g id=\"a_node3\"><a xlink:title=\"(6) Stakeholder Enegagement\">\n<ellipse fill=\"#404040\" stroke=\"black\" cx=\"354.43\" cy=\"-18\" rx=\"105.95\" ry=\"18\"/>\n<text text-anchor=\"middle\" x=\"354.43\" y=\"-12.57\" font-family=\"Times New Roman,serif\" font-size=\"14.00\" fill=\"white\">Stakeholder Enegagement</text>\n</a>\n</g>\n</g>\n<!-- Project Size&#45;&gt;Stakeholder Enegagement -->\n<g id=\"edge4\" class=\"edge\">\n<title>Project Size-&gt;Stakeholder Enegagement</title>\n<g id=\"a_edge4\"><a xlink:title=\"3 → 6\">\n<path fill=\"none\" stroke=\"#4a4a4a\" d=\"M390.81,-72.05C385.35,-64.09 378.72,-54.41 372.61,-45.51\"/>\n<polygon fill=\"#4a4a4a\" stroke=\"#4a4a4a\" points=\"375.68,-43.79 367.14,-37.52 369.9,-47.75 375.68,-43.79\"/>\n</a>\n</g>\n</g>\n<!-- Technology -->\n<g id=\"node4\" class=\"node\">\n<title>Technology</title>\n<g id=\"a_node4\"><a xlink:title=\"(0) Technology\">\n<ellipse fill=\"#404040\" stroke=\"black\" cx=\"539.43\" cy=\"-90\" rx=\"55.06\" ry=\"18\"/>\n<text text-anchor=\"middle\" x=\"539.43\" y=\"-84.58\" font-family=\"Times New Roman,serif\" font-size=\"14.00\" fill=\"white\">Technology</text>\n</a>\n</g>\n</g>\n<!-- Requirements -->\n<g id=\"node7\" class=\"node\">\n<title>Requirements</title>\n<g id=\"a_node7\"><a xlink:title=\"(4) Requirements\">\n<ellipse fill=\"#404040\" stroke=\"black\" cx=\"539.43\" cy=\"-18\" rx=\"61.54\" ry=\"18\"/>\n<text text-anchor=\"middle\" x=\"539.43\" y=\"-12.57\" font-family=\"Times New Roman,serif\" font-size=\"14.00\" fill=\"white\">Requirements</text>\n</a>\n</g>\n</g>\n<!-- Technology&#45;&gt;Requirements -->\n<g id=\"edge1\" class=\"edge\">\n<title>Technology-&gt;Requirements</title>\n<g id=\"a_edge1\"><a xlink:title=\"0 → 4\">\n<path fill=\"none\" stroke=\"#4a4a4a\" d=\"M539.43,-71.7C539.43,-64.41 539.43,-55.73 539.43,-47.54\"/>\n<polygon fill=\"#4a4a4a\" stroke=\"#4a4a4a\" points=\"542.93,-47.62 539.43,-37.62 535.93,-47.62 542.93,-47.62\"/>\n</a>\n</g>\n</g>\n<!-- Team Experience -->\n<g id=\"node5\" class=\"node\">\n<title>Team Experience</title>\n<g id=\"a_node5\"><a xlink:title=\"(1) Team Experience\">\n<ellipse fill=\"#404040\" stroke=\"black\" cx=\"254.43\" cy=\"-90\" rx=\"75.02\" ry=\"18\"/>\n<text text-anchor=\"middle\" x=\"254.43\" y=\"-84.58\" font-family=\"Times New Roman,serif\" font-size=\"14.00\" fill=\"white\">Team Experience</text>\n</a>\n</g>\n</g>\n<!-- Team Experience&#45;&gt;Stakeholder Enegagement -->\n<g id=\"edge5\" class=\"edge\">\n<title>Team Experience-&gt;Stakeholder Enegagement</title>\n<g id=\"a_edge5\"><a xlink:title=\"1 → 6\">\n<path fill=\"none\" stroke=\"#4a4a4a\" d=\"M277.88,-72.59C290.73,-63.59 306.88,-52.29 321.03,-42.38\"/>\n<polygon fill=\"#4a4a4a\" stroke=\"#4a4a4a\" points=\"323.02,-45.27 329.2,-36.66 319,-39.53 323.02,-45.27\"/>\n</a>\n</g>\n</g>\n<!-- Team Experience&#45;&gt;Project Management Quality -->\n<g id=\"edge2\" class=\"edge\">\n<title>Team Experience-&gt;Project Management Quality</title>\n<g id=\"a_edge2\"><a xlink:title=\"1 → 5\">\n<path fill=\"none\" stroke=\"#4a4a4a\" d=\"M223.24,-73.29C204.2,-63.7 179.59,-51.31 158.69,-40.78\"/>\n<polygon fill=\"#4a4a4a\" stroke=\"#4a4a4a\" points=\"160.32,-37.69 149.81,-36.31 157.17,-43.94 160.32,-37.69\"/>\n</a>\n</g>\n</g>\n<!-- Team Experience&#45;&gt;Requirements -->\n<g id=\"edge3\" class=\"edge\">\n<title>Team Experience-&gt;Requirements</title>\n<g id=\"a_edge3\"><a xlink:title=\"1 → 4\">\n<path fill=\"none\" stroke=\"#4a4a4a\" d=\"M305.39,-76.49C355.21,-64.25 430.92,-45.65 482.65,-32.95\"/>\n<polygon fill=\"#4a4a4a\" stroke=\"#4a4a4a\" points=\"483.28,-36.4 492.16,-30.61 481.61,-29.6 483.28,-36.4\"/>\n</a>\n</g>\n</g>\n</g>\n</svg>"
     },
     "execution_count": 106,
     "metadata": {},
     "output_type": "execute_result"
    }
   ],
   "source": [
    "# Your answer comes here\n",
    "# Creating the variables\n",
    "Requirements = gum.LabelizedVariable('Requirements', 'Clear', [\"Unclear\", \"Clear\"])\n",
    "ProjManagQuality = gum.LabelizedVariable('Project Management Quality', 'Good', [\"Poor\", \"Good\"])\n",
    "StakeholdEngagement = gum.LabelizedVariable('Stakeholder Enegagement', 'Engagement', [\"Low\", \"High\"])\n",
    "\n",
    "# Adding them to the network\n",
    "bayesian_assignment_net.add(Requirements)\n",
    "bayesian_assignment_net.add(ProjManagQuality)\n",
    "bayesian_assignment_net.add(StakeholdEngagement)\n",
    "\n",
    "# Linking to the previous nodes\n",
    "\n",
    "# Requirements\n",
    "bayesian_assignment_net.addArc('Technology', 'Requirements')\n",
    "bayesian_assignment_net.addArc('Team Experience', 'Requirements')\n",
    "\n",
    "# Project Quality \n",
    "bayesian_assignment_net.addArc('Team Experience', 'Project Management Quality')\n",
    "bayesian_assignment_net.addArc('Budget', 'Project Management Quality')\n",
    "\n",
    "# Stakeholder Engagement \n",
    "bayesian_assignment_net.addArc('Team Experience', 'Stakeholder Enegagement')\n",
    "bayesian_assignment_net.addArc('Project Size', 'Stakeholder Enegagement')\n",
    "\n",
    "bayesian_assignment_net"
   ]
  },
  {
   "cell_type": "markdown",
   "metadata": {},
   "source": [
    "<span style=\"color:red; font-weight:bold;\">Question 4 <br> </span>\n",
    "<span style=\"color:red\">\n",
    "Fill the CPT for each of the 3 nodes.<br>\n",
    "Print the 3 CPTs to verify the values.<br>\n",
    "</span>"
   ]
  },
  {
   "cell_type": "code",
   "execution_count": 107,
   "metadata": {
    "ExecuteTime": {
     "end_time": "2023-12-03T21:10:24.392329700Z",
     "start_time": "2023-12-03T21:10:23.504839500Z"
    }
   },
   "outputs": [
    {
     "name": "stdout",
     "output_type": "stream",
     "text": [
      "\n",
      "             ||  Project Managemen|\n",
      "Team E|Budget||Poor     |Good     |\n",
      "------|------||---------|---------|\n",
      "Inexpe|Inadeq|| 0.6500  | 0.3500  |\n",
      "Experi|Inadeq|| 0.4000  | 0.6000  |\n",
      "Inexpe|Adequa|| 0.6000  | 0.4000  |\n",
      "Experi|Adequa|| 0.1000  | 0.9000  |\n",
      "\n",
      "\n",
      "             ||  Requirements     |\n",
      "Techno|Team E||Unclear  |Clear    |\n",
      "------|------||---------|---------|\n",
      "Comple|Inexpe|| 0.6000  | 0.4000  |\n",
      "Simple|Inexpe|| 0.4000  | 0.6000  |\n",
      "Comple|Experi|| 0.4000  | 0.6000  |\n",
      "Simple|Experi|| 0.1000  | 0.9000  |\n",
      "\n",
      "\n",
      "             ||  Stakeholder Enega|\n",
      "Team E|Projec||Low      |High     |\n",
      "------|------||---------|---------|\n",
      "Inexpe|Large || 0.5000  | 0.5000  |\n",
      "Experi|Large || 0.1000  | 0.9000  |\n",
      "Inexpe|Small || 0.2000  | 0.8000  |\n",
      "Experi|Small || 0.3000  | 0.7000  |\n"
     ]
    }
   ],
   "source": [
    "# Your answer comes here\n",
    "\n",
    "# Appending the values\n",
    "\n",
    "# Project Quality \n",
    "bayesian_assignment_net.cpt('Project Management Quality')[0, 0, :] = [0.6500, 0.3500]\n",
    "bayesian_assignment_net.cpt('Project Management Quality')[0, 1, :] = [0.4000, 0.6000]\n",
    "bayesian_assignment_net.cpt('Project Management Quality')[1, 0, :] = [0.6000, 0.4000]\n",
    "bayesian_assignment_net.cpt('Project Management Quality')[1, 1, :] = [0.1000, 0.9000]\n",
    "\n",
    "# Requirements\n",
    "bayesian_assignment_net.cpt('Requirements')[0, 0, :] = [0.6000, 0.4000]\n",
    "bayesian_assignment_net.cpt('Requirements')[0, 1, :] = [0.4000, 0.6000]\n",
    "bayesian_assignment_net.cpt('Requirements')[1, 0, :] = [0.4000, 0.6000]\n",
    "bayesian_assignment_net.cpt('Requirements')[1, 1, :] = [0.1000, 0.9000]\n",
    "\n",
    "# Stakeholder Engagement\n",
    "bayesian_assignment_net.cpt('Stakeholder Enegagement')[0, 0, :] = [0.5000, 0.5000]\n",
    "bayesian_assignment_net.cpt('Stakeholder Enegagement')[0, 1, :] = [0.1000, 0.9000]\n",
    "bayesian_assignment_net.cpt('Stakeholder Enegagement')[1, 0, :] = [0.2000, 0.8000]\n",
    "bayesian_assignment_net.cpt('Stakeholder Enegagement')[1, 1, :] = [0.3000, 0.7000]\n",
    "\n",
    "# Printing the filled values\n",
    "print(bayesian_assignment_net.cpt('Project Management Quality'))\n",
    "print(bayesian_assignment_net.cpt('Requirements'))\n",
    "print(bayesian_assignment_net.cpt('Stakeholder Enegagement'))\n"
   ]
  },
  {
   "cell_type": "markdown",
   "metadata": {},
   "source": [
    "#### Layer 3 - External Factors\n",
    "\n",
    "##### Market Conditions (Unfavorable:0, Favorable:1)\n",
    "\n",
    "\n",
    "Encompasses external economic and market factors like industry trends, competition, and economic climate.\n",
    "\n",
    "Favorable market conditions can contribute to a project's success by providing a conducive environment for the project's objectives. Unfavorable conditions may pose additional risks and challenges, such as budget cuts or shifting priorities."
   ]
  },
  {
   "cell_type": "markdown",
   "metadata": {},
   "source": [
    "<span style=\"color:red; font-weight:bold;\">Question 5 <br> </span>\n",
    "<span style=\"color:red\">\n",
    "Add the market node to the bayesian network.<br>\n",
    "Visualize the network to check its correctness.<br>\n",
    "</span>\n",
    "Note that without the arc connecting the **market** to the **outcome** node, the **market** node will be placed in the first layer. The network will be fixed once we add the **outcome** node."
   ]
  },
  {
   "cell_type": "code",
   "execution_count": 108,
   "metadata": {
    "ExecuteTime": {
     "end_time": "2023-12-03T21:10:24.412355800Z",
     "start_time": "2023-12-03T21:10:23.509903600Z"
    }
   },
   "outputs": [
    {
     "data": {
      "text/plain": "(pyAgrum.BayesNet<double>@00000203C1710C20) BN{nodes: 8, arcs: 6, domainSize: 256, dim: 17, mem: 272o}",
      "text/html": "<svg xmlns=\"http://www.w3.org/2000/svg\" xmlns:xlink=\"http://www.w3.org/1999/xlink\" width=\"360pt\" height=\"60pt\" viewBox=\"0.00 0.00 360.00 60.17\">\n<g id=\"graph0\" class=\"graph\" transform=\"scale(0.518712 0.518712) rotate(0) translate(4 112)\">\n<title>G</title>\n<!-- Budget -->\n<g id=\"node1\" class=\"node\">\n<title>Budget</title>\n<g id=\"a_node1\"><a xlink:title=\"(2) Budget\">\n<ellipse fill=\"#404040\" stroke=\"black\" cx=\"115.43\" cy=\"-90\" rx=\"37.09\" ry=\"18\"/>\n<text text-anchor=\"middle\" x=\"115.43\" y=\"-84.58\" font-family=\"Times New Roman,serif\" font-size=\"14.00\" fill=\"white\">Budget</text>\n</a>\n</g>\n</g>\n<!-- Project Management Quality -->\n<g id=\"node7\" class=\"node\">\n<title>Project Management Quality</title>\n<g id=\"a_node7\"><a xlink:title=\"(5) Project Management Quality\">\n<ellipse fill=\"#404040\" stroke=\"black\" cx=\"115.43\" cy=\"-18\" rx=\"115.43\" ry=\"18\"/>\n<text text-anchor=\"middle\" x=\"115.43\" y=\"-12.57\" font-family=\"Times New Roman,serif\" font-size=\"14.00\" fill=\"white\">Project Management Quality</text>\n</a>\n</g>\n</g>\n<!-- Budget&#45;&gt;Project Management Quality -->\n<g id=\"edge6\" class=\"edge\">\n<title>Budget-&gt;Project Management Quality</title>\n<g id=\"a_edge6\"><a xlink:title=\"2 → 5\">\n<path fill=\"none\" stroke=\"#4a4a4a\" d=\"M115.43,-71.7C115.43,-64.41 115.43,-55.73 115.43,-47.54\"/>\n<polygon fill=\"#4a4a4a\" stroke=\"#4a4a4a\" points=\"118.93,-47.62 115.43,-37.62 111.93,-47.62 118.93,-47.62\"/>\n</a>\n</g>\n</g>\n<!-- Market -->\n<g id=\"node2\" class=\"node\">\n<title>Market</title>\n<g id=\"a_node2\"><a xlink:title=\"(7) Market\">\n<ellipse fill=\"#404040\" stroke=\"black\" cx=\"649.43\" cy=\"-90\" rx=\"36.59\" ry=\"18\"/>\n<text text-anchor=\"middle\" x=\"649.43\" y=\"-84.58\" font-family=\"Times New Roman,serif\" font-size=\"14.00\" fill=\"white\">Market</text>\n</a>\n</g>\n</g>\n<!-- Project Size -->\n<g id=\"node3\" class=\"node\">\n<title>Project Size</title>\n<g id=\"a_node3\"><a xlink:title=\"(3) Project Size\">\n<ellipse fill=\"#404040\" stroke=\"black\" cx=\"402.43\" cy=\"-90\" rx=\"55.06\" ry=\"18\"/>\n<text text-anchor=\"middle\" x=\"402.43\" y=\"-84.58\" font-family=\"Times New Roman,serif\" font-size=\"14.00\" fill=\"white\">Project Size</text>\n</a>\n</g>\n</g>\n<!-- Stakeholder Enegagement -->\n<g id=\"node4\" class=\"node\">\n<title>Stakeholder Enegagement</title>\n<g id=\"a_node4\"><a xlink:title=\"(6) Stakeholder Enegagement\">\n<ellipse fill=\"#404040\" stroke=\"black\" cx=\"354.43\" cy=\"-18\" rx=\"105.95\" ry=\"18\"/>\n<text text-anchor=\"middle\" x=\"354.43\" y=\"-12.57\" font-family=\"Times New Roman,serif\" font-size=\"14.00\" fill=\"white\">Stakeholder Enegagement</text>\n</a>\n</g>\n</g>\n<!-- Project Size&#45;&gt;Stakeholder Enegagement -->\n<g id=\"edge4\" class=\"edge\">\n<title>Project Size-&gt;Stakeholder Enegagement</title>\n<g id=\"a_edge4\"><a xlink:title=\"3 → 6\">\n<path fill=\"none\" stroke=\"#4a4a4a\" d=\"M390.81,-72.05C385.35,-64.09 378.72,-54.41 372.61,-45.51\"/>\n<polygon fill=\"#4a4a4a\" stroke=\"#4a4a4a\" points=\"375.68,-43.79 367.14,-37.52 369.9,-47.75 375.68,-43.79\"/>\n</a>\n</g>\n</g>\n<!-- Technology -->\n<g id=\"node5\" class=\"node\">\n<title>Technology</title>\n<g id=\"a_node5\"><a xlink:title=\"(0) Technology\">\n<ellipse fill=\"#404040\" stroke=\"black\" cx=\"539.43\" cy=\"-90\" rx=\"55.06\" ry=\"18\"/>\n<text text-anchor=\"middle\" x=\"539.43\" y=\"-84.58\" font-family=\"Times New Roman,serif\" font-size=\"14.00\" fill=\"white\">Technology</text>\n</a>\n</g>\n</g>\n<!-- Requirements -->\n<g id=\"node8\" class=\"node\">\n<title>Requirements</title>\n<g id=\"a_node8\"><a xlink:title=\"(4) Requirements\">\n<ellipse fill=\"#404040\" stroke=\"black\" cx=\"539.43\" cy=\"-18\" rx=\"61.54\" ry=\"18\"/>\n<text text-anchor=\"middle\" x=\"539.43\" y=\"-12.57\" font-family=\"Times New Roman,serif\" font-size=\"14.00\" fill=\"white\">Requirements</text>\n</a>\n</g>\n</g>\n<!-- Technology&#45;&gt;Requirements -->\n<g id=\"edge1\" class=\"edge\">\n<title>Technology-&gt;Requirements</title>\n<g id=\"a_edge1\"><a xlink:title=\"0 → 4\">\n<path fill=\"none\" stroke=\"#4a4a4a\" d=\"M539.43,-71.7C539.43,-64.41 539.43,-55.73 539.43,-47.54\"/>\n<polygon fill=\"#4a4a4a\" stroke=\"#4a4a4a\" points=\"542.93,-47.62 539.43,-37.62 535.93,-47.62 542.93,-47.62\"/>\n</a>\n</g>\n</g>\n<!-- Team Experience -->\n<g id=\"node6\" class=\"node\">\n<title>Team Experience</title>\n<g id=\"a_node6\"><a xlink:title=\"(1) Team Experience\">\n<ellipse fill=\"#404040\" stroke=\"black\" cx=\"254.43\" cy=\"-90\" rx=\"75.02\" ry=\"18\"/>\n<text text-anchor=\"middle\" x=\"254.43\" y=\"-84.58\" font-family=\"Times New Roman,serif\" font-size=\"14.00\" fill=\"white\">Team Experience</text>\n</a>\n</g>\n</g>\n<!-- Team Experience&#45;&gt;Stakeholder Enegagement -->\n<g id=\"edge5\" class=\"edge\">\n<title>Team Experience-&gt;Stakeholder Enegagement</title>\n<g id=\"a_edge5\"><a xlink:title=\"1 → 6\">\n<path fill=\"none\" stroke=\"#4a4a4a\" d=\"M277.88,-72.59C290.73,-63.59 306.88,-52.29 321.03,-42.38\"/>\n<polygon fill=\"#4a4a4a\" stroke=\"#4a4a4a\" points=\"323.02,-45.27 329.2,-36.66 319,-39.53 323.02,-45.27\"/>\n</a>\n</g>\n</g>\n<!-- Team Experience&#45;&gt;Project Management Quality -->\n<g id=\"edge2\" class=\"edge\">\n<title>Team Experience-&gt;Project Management Quality</title>\n<g id=\"a_edge2\"><a xlink:title=\"1 → 5\">\n<path fill=\"none\" stroke=\"#4a4a4a\" d=\"M223.24,-73.29C204.2,-63.7 179.59,-51.31 158.69,-40.78\"/>\n<polygon fill=\"#4a4a4a\" stroke=\"#4a4a4a\" points=\"160.32,-37.69 149.81,-36.31 157.17,-43.94 160.32,-37.69\"/>\n</a>\n</g>\n</g>\n<!-- Team Experience&#45;&gt;Requirements -->\n<g id=\"edge3\" class=\"edge\">\n<title>Team Experience-&gt;Requirements</title>\n<g id=\"a_edge3\"><a xlink:title=\"1 → 4\">\n<path fill=\"none\" stroke=\"#4a4a4a\" d=\"M305.39,-76.49C355.21,-64.25 430.92,-45.65 482.65,-32.95\"/>\n<polygon fill=\"#4a4a4a\" stroke=\"#4a4a4a\" points=\"483.28,-36.4 492.16,-30.61 481.61,-29.6 483.28,-36.4\"/>\n</a>\n</g>\n</g>\n</g>\n</svg>"
     },
     "execution_count": 108,
     "metadata": {},
     "output_type": "execute_result"
    }
   ],
   "source": [
    "# Your answer comes here\n",
    "\n",
    "\n",
    "# Creating market \n",
    "Market = gum.LabelizedVariable('Market', 'Market', [\"Unfavorable\", \"Favorable\"])\n",
    "\n",
    "# Adding it to the network\n",
    "bayesian_assignment_net.add(Market)\n",
    "bayesian_assignment_net"
   ]
  },
  {
   "cell_type": "markdown",
   "metadata": {},
   "source": [
    "<span style=\"color:red; font-weight:bold;\">Question 6 <br> </span>\n",
    "<span style=\"color:red\">\n",
    "Fill the CPT for the market node.<br>\n",
    "Print the CPT to verify its values.<br>\n",
    "</span>"
   ]
  },
  {
   "cell_type": "code",
   "execution_count": 109,
   "metadata": {
    "ExecuteTime": {
     "end_time": "2023-12-03T21:10:24.412355800Z",
     "start_time": "2023-12-03T21:10:23.547194600Z"
    }
   },
   "outputs": [
    {
     "name": "stdout",
     "output_type": "stream",
     "text": [
      "\n",
      "  Market           |\n",
      "Unfavorab|Favorable|\n",
      "---------|---------|\n",
      " 0.5000  | 0.5000  |\n"
     ]
    }
   ],
   "source": [
    "# Your answer comes here\n",
    "bayesian_assignment_net.cpt('Market').fillWith([0.5, 0.5])\n",
    "print(bayesian_assignment_net.cpt('Market'))"
   ]
  },
  {
   "cell_type": "markdown",
   "metadata": {},
   "source": [
    "#### Outcome Layer\n",
    "\n",
    "##### Project Outcome (Failure:0,Success:1)\n",
    "Represents the final result of the project, whether it met its objectives, stayed within budget, and was completed on time.\n",
    "\n",
    "This is the culmination of all the other factors. The outcome is directly influenced by the intermediate factors and external conditions. Good project management, high stakeholder engagement, clear requirements, and favorable market conditions are hypothesized to increase the likelihood of project success."
   ]
  },
  {
   "cell_type": "markdown",
   "metadata": {},
   "source": [
    "#### Layer 2 Impact on Outcome\n",
    "\n",
    "##### Project Management Quality → Outcome:\n",
    "\n",
    "Good project management typically leads to better project outcomes by ensuring effective planning, resource allocation, and risk mitigation.\n",
    "##### Stakeholder Engagement → Outcome:\n",
    "\n",
    "High stakeholder engagement usually correlates with successful project outcomes, as it ensures alignment of project goals with stakeholder expectations and provides necessary support.\n",
    "##### Requirement Clarity → Outcome:\n",
    "\n",
    "Clear and well-defined requirements are essential for project success, as they guide the project team and reduce the likelihood of misunderstandings and scope creep."
   ]
  },
  {
   "cell_type": "markdown",
   "metadata": {},
   "source": [
    "#### Market Impact on Outcome\n",
    "##### Market Conditions → Outcome:\n",
    "Favorable market conditions can positively influence project success by providing a supportive external environment, while unfavorable conditions might introduce additional risks and challenges."
   ]
  },
  {
   "cell_type": "markdown",
   "metadata": {},
   "source": [
    "<span style=\"color:red; font-weight:bold;\">Question 7<br> </span>\n",
    "<span style=\"color:red\">\n",
    "Add the outcome node described above to your bayesian network.<br>\n",
    "Draw the arcs that connect the node to its 4 parents.<br>\n",
    "Print your network to verify its structure.\n",
    "</span>"
   ]
  },
  {
   "cell_type": "code",
   "execution_count": 110,
   "metadata": {
    "scrolled": true,
    "ExecuteTime": {
     "end_time": "2023-12-03T21:10:24.421878200Z",
     "start_time": "2023-12-03T21:10:23.551191200Z"
    }
   },
   "outputs": [
    {
     "data": {
      "text/plain": "(pyAgrum.BayesNet<double>@00000203C1710C20) BN{nodes: 9, arcs: 10, domainSize: 512, dim: 33, mem: 528o}",
      "text/html": "<svg xmlns=\"http://www.w3.org/2000/svg\" xmlns:xlink=\"http://www.w3.org/1999/xlink\" width=\"360pt\" height=\"97pt\" viewBox=\"0.00 0.00 360.00 96.53\">\n<g id=\"graph0\" class=\"graph\" transform=\"scale(0.513453 0.513453) rotate(0) translate(4 184)\">\n<title>G</title>\n<!-- Budget -->\n<g id=\"node1\" class=\"node\">\n<title>Budget</title>\n<g id=\"a_node1\"><a xlink:title=\"(2) Budget\">\n<ellipse fill=\"#404040\" stroke=\"black\" cx=\"498.59\" cy=\"-162\" rx=\"37.09\" ry=\"18\"/>\n<text text-anchor=\"middle\" x=\"498.59\" y=\"-156.57\" font-family=\"Times New Roman,serif\" font-size=\"14.00\" fill=\"white\">Budget</text>\n</a>\n</g>\n</g>\n<!-- Project Management Quality -->\n<g id=\"node8\" class=\"node\">\n<title>Project Management Quality</title>\n<g id=\"a_node8\"><a xlink:title=\"(5) Project Management Quality\">\n<ellipse fill=\"#404040\" stroke=\"black\" cx=\"436.59\" cy=\"-90\" rx=\"115.43\" ry=\"18\"/>\n<text text-anchor=\"middle\" x=\"436.59\" y=\"-84.58\" font-family=\"Times New Roman,serif\" font-size=\"14.00\" fill=\"white\">Project Management Quality</text>\n</a>\n</g>\n</g>\n<!-- Budget&#45;&gt;Project Management Quality -->\n<g id=\"edge9\" class=\"edge\">\n<title>Budget-&gt;Project Management Quality</title>\n<g id=\"a_edge9\"><a xlink:title=\"2 → 5\">\n<path fill=\"none\" stroke=\"#4a4a4a\" d=\"M484.52,-145.12C477.08,-136.72 467.77,-126.2 459.33,-116.67\"/>\n<polygon fill=\"#4a4a4a\" stroke=\"#4a4a4a\" points=\"462.16,-114.59 452.91,-109.43 456.92,-119.23 462.16,-114.59\"/>\n</a>\n</g>\n</g>\n<!-- Market -->\n<g id=\"node2\" class=\"node\">\n<title>Market</title>\n<g id=\"a_node2\"><a xlink:title=\"(7) Market\">\n<ellipse fill=\"#404040\" stroke=\"black\" cx=\"36.59\" cy=\"-90\" rx=\"36.59\" ry=\"18\"/>\n<text text-anchor=\"middle\" x=\"36.59\" y=\"-84.58\" font-family=\"Times New Roman,serif\" font-size=\"14.00\" fill=\"white\">Market</text>\n</a>\n</g>\n</g>\n<!-- Outcome -->\n<g id=\"node7\" class=\"node\">\n<title>Outcome</title>\n<g id=\"a_node7\"><a xlink:title=\"(8) Outcome\">\n<ellipse fill=\"#404040\" stroke=\"black\" cx=\"316.59\" cy=\"-18\" rx=\"45.08\" ry=\"18\"/>\n<text text-anchor=\"middle\" x=\"316.59\" y=\"-12.57\" font-family=\"Times New Roman,serif\" font-size=\"14.00\" fill=\"white\">Outcome</text>\n</a>\n</g>\n</g>\n<!-- Market&#45;&gt;Outcome -->\n<g id=\"edge10\" class=\"edge\">\n<title>Market-&gt;Outcome</title>\n<g id=\"a_edge10\"><a xlink:title=\"7 → 8\">\n<path fill=\"none\" stroke=\"#4a4a4a\" d=\"M64.62,-77.98C70.51,-75.85 76.72,-73.74 82.59,-72 144.57,-53.61 217.41,-38.04 265.16,-28.63\"/>\n<polygon fill=\"#4a4a4a\" stroke=\"#4a4a4a\" points=\"265.8,-32.07 274.95,-26.72 264.46,-25.2 265.8,-32.07\"/>\n</a>\n</g>\n</g>\n<!-- Project Size -->\n<g id=\"node3\" class=\"node\">\n<title>Project Size</title>\n<g id=\"a_node3\"><a xlink:title=\"(3) Project Size\">\n<ellipse fill=\"#404040\" stroke=\"black\" cx=\"197.59\" cy=\"-162\" rx=\"55.06\" ry=\"18\"/>\n<text text-anchor=\"middle\" x=\"197.59\" y=\"-156.57\" font-family=\"Times New Roman,serif\" font-size=\"14.00\" fill=\"white\">Project Size</text>\n</a>\n</g>\n</g>\n<!-- Stakeholder Enegagement -->\n<g id=\"node4\" class=\"node\">\n<title>Stakeholder Enegagement</title>\n<g id=\"a_node4\"><a xlink:title=\"(6) Stakeholder Enegagement\">\n<ellipse fill=\"#404040\" stroke=\"black\" cx=\"197.59\" cy=\"-90\" rx=\"105.95\" ry=\"18\"/>\n<text text-anchor=\"middle\" x=\"197.59\" y=\"-84.58\" font-family=\"Times New Roman,serif\" font-size=\"14.00\" fill=\"white\">Stakeholder Enegagement</text>\n</a>\n</g>\n</g>\n<!-- Project Size&#45;&gt;Stakeholder Enegagement -->\n<g id=\"edge7\" class=\"edge\">\n<title>Project Size-&gt;Stakeholder Enegagement</title>\n<g id=\"a_edge7\"><a xlink:title=\"3 → 6\">\n<path fill=\"none\" stroke=\"#4a4a4a\" d=\"M197.59,-143.7C197.59,-136.41 197.59,-127.73 197.59,-119.54\"/>\n<polygon fill=\"#4a4a4a\" stroke=\"#4a4a4a\" points=\"201.09,-119.62 197.59,-109.62 194.09,-119.62 201.09,-119.62\"/>\n</a>\n</g>\n</g>\n<!-- Stakeholder Enegagement&#45;&gt;Outcome -->\n<g id=\"edge4\" class=\"edge\">\n<title>Stakeholder Enegagement-&gt;Outcome</title>\n<g id=\"a_edge4\"><a xlink:title=\"6 → 8\">\n<path fill=\"none\" stroke=\"#4a4a4a\" d=\"M226.1,-72.23C243.04,-62.27 264.63,-49.57 282.47,-39.07\"/>\n<polygon fill=\"#4a4a4a\" stroke=\"#4a4a4a\" points=\"283.8,-42.35 290.64,-34.26 280.25,-36.32 283.8,-42.35\"/>\n</a>\n</g>\n</g>\n<!-- Technology -->\n<g id=\"node5\" class=\"node\">\n<title>Technology</title>\n<g id=\"a_node5\"><a xlink:title=\"(0) Technology\">\n<ellipse fill=\"#404040\" stroke=\"black\" cx=\"631.59\" cy=\"-162\" rx=\"55.06\" ry=\"18\"/>\n<text text-anchor=\"middle\" x=\"631.59\" y=\"-156.57\" font-family=\"Times New Roman,serif\" font-size=\"14.00\" fill=\"white\">Technology</text>\n</a>\n</g>\n</g>\n<!-- Requirements -->\n<g id=\"node9\" class=\"node\">\n<title>Requirements</title>\n<g id=\"a_node9\"><a xlink:title=\"(4) Requirements\">\n<ellipse fill=\"#404040\" stroke=\"black\" cx=\"631.59\" cy=\"-90\" rx=\"61.54\" ry=\"18\"/>\n<text text-anchor=\"middle\" x=\"631.59\" y=\"-84.58\" font-family=\"Times New Roman,serif\" font-size=\"14.00\" fill=\"white\">Requirements</text>\n</a>\n</g>\n</g>\n<!-- Technology&#45;&gt;Requirements -->\n<g id=\"edge1\" class=\"edge\">\n<title>Technology-&gt;Requirements</title>\n<g id=\"a_edge1\"><a xlink:title=\"0 → 4\">\n<path fill=\"none\" stroke=\"#4a4a4a\" d=\"M631.59,-143.7C631.59,-136.41 631.59,-127.73 631.59,-119.54\"/>\n<polygon fill=\"#4a4a4a\" stroke=\"#4a4a4a\" points=\"635.09,-119.62 631.59,-109.62 628.09,-119.62 635.09,-119.62\"/>\n</a>\n</g>\n</g>\n<!-- Team Experience -->\n<g id=\"node6\" class=\"node\">\n<title>Team Experience</title>\n<g id=\"a_node6\"><a xlink:title=\"(1) Team Experience\">\n<ellipse fill=\"#404040\" stroke=\"black\" cx=\"368.59\" cy=\"-162\" rx=\"75.02\" ry=\"18\"/>\n<text text-anchor=\"middle\" x=\"368.59\" y=\"-156.57\" font-family=\"Times New Roman,serif\" font-size=\"14.00\" fill=\"white\">Team Experience</text>\n</a>\n</g>\n</g>\n<!-- Team Experience&#45;&gt;Stakeholder Enegagement -->\n<g id=\"edge8\" class=\"edge\">\n<title>Team Experience-&gt;Stakeholder Enegagement</title>\n<g id=\"a_edge8\"><a xlink:title=\"1 → 6\">\n<path fill=\"none\" stroke=\"#4a4a4a\" d=\"M331.91,-145.98C307.22,-135.88 274.36,-122.42 247.32,-111.36\"/>\n<polygon fill=\"#4a4a4a\" stroke=\"#4a4a4a\" points=\"248.88,-108.21 238.3,-107.66 246.22,-114.69 248.88,-108.21\"/>\n</a>\n</g>\n</g>\n<!-- Team Experience&#45;&gt;Project Management Quality -->\n<g id=\"edge2\" class=\"edge\">\n<title>Team Experience-&gt;Project Management Quality</title>\n<g id=\"a_edge2\"><a xlink:title=\"1 → 5\">\n<path fill=\"none\" stroke=\"#4a4a4a\" d=\"M385.05,-144.05C393.12,-135.75 403,-125.58 411.94,-116.38\"/>\n<polygon fill=\"#4a4a4a\" stroke=\"#4a4a4a\" points=\"414.3,-118.97 418.76,-109.36 409.28,-114.09 414.3,-118.97\"/>\n</a>\n</g>\n</g>\n<!-- Team Experience&#45;&gt;Requirements -->\n<g id=\"edge5\" class=\"edge\">\n<title>Team Experience-&gt;Requirements</title>\n<g id=\"a_edge5\"><a xlink:title=\"1 → 4\">\n<path fill=\"none\" stroke=\"#4a4a4a\" d=\"M417.44,-148C462.55,-135.99 529.48,-118.18 576.48,-105.67\"/>\n<polygon fill=\"#4a4a4a\" stroke=\"#4a4a4a\" points=\"577.15,-109.11 585.92,-103.16 575.35,-102.35 577.15,-109.11\"/>\n</a>\n</g>\n</g>\n<!-- Project Management Quality&#45;&gt;Outcome -->\n<g id=\"edge3\" class=\"edge\">\n<title>Project Management Quality-&gt;Outcome</title>\n<g id=\"a_edge3\"><a xlink:title=\"5 → 8\">\n<path fill=\"none\" stroke=\"#4a4a4a\" d=\"M407.85,-72.23C390.85,-62.31 369.2,-49.68 351.25,-39.22\"/>\n<polygon fill=\"#4a4a4a\" stroke=\"#4a4a4a\" points=\"353.15,-36.28 342.75,-34.26 349.63,-42.32 353.15,-36.28\"/>\n</a>\n</g>\n</g>\n<!-- Requirements&#45;&gt;Outcome -->\n<g id=\"edge6\" class=\"edge\">\n<title>Requirements-&gt;Outcome</title>\n<g id=\"a_edge6\"><a xlink:title=\"4 → 8\">\n<path fill=\"none\" stroke=\"#4a4a4a\" d=\"M585.41,-77.79C577.16,-75.83 568.62,-73.83 560.59,-72 493.74,-56.74 416.35,-40.1 366.96,-29.62\"/>\n<polygon fill=\"#4a4a4a\" stroke=\"#4a4a4a\" points=\"367.94,-26.25 357.43,-27.6 366.49,-33.09 367.94,-26.25\"/>\n</a>\n</g>\n</g>\n</g>\n</svg>"
     },
     "execution_count": 110,
     "metadata": {},
     "output_type": "execute_result"
    }
   ],
   "source": [
    "# Your answer comes here\n",
    "\n",
    "# Crating outcome\n",
    "Outcome = gum.LabelizedVariable('Outcome', 'Outcome', [\"Failure\", \"Success\"])\n",
    "\n",
    "# Adding to the network\n",
    "bayesian_assignment_net.add(Outcome)\n",
    "\n",
    "# Linking the outcome to others\n",
    "bayesian_assignment_net.addArc('Requirements', 'Outcome')\n",
    "bayesian_assignment_net.addArc('Project Management Quality', 'Outcome')\n",
    "bayesian_assignment_net.addArc('Stakeholder Enegagement', 'Outcome')\n",
    "bayesian_assignment_net.addArc('Market', 'Outcome')\n",
    "\n",
    "bayesian_assignment_net"
   ]
  },
  {
   "cell_type": "markdown",
   "metadata": {},
   "source": [
    "<span style=\"color:red; font-weight:bold;\">Question 8 <br> </span>\n",
    "<span style=\"color:red\">\n",
    "Fill the CPT for the outcome node.<br>\n",
    "Print the CPT to verify its values.<br>\n",
    "</span>"
   ]
  },
  {
   "cell_type": "code",
   "execution_count": 111,
   "metadata": {
    "ExecuteTime": {
     "end_time": "2023-12-03T21:10:24.421878200Z",
     "start_time": "2023-12-03T21:10:23.690757200Z"
    }
   },
   "outputs": [
    {
     "name": "stdout",
     "output_type": "stream",
     "text": [
      "\n",
      "                           ||  Outcome          |\n",
      "Requir|Projec|Stakeh|Market||Failure  |Success  |\n",
      "------|------|------|------||---------|---------|\n",
      "Unclea|Poor  |Low   |Unfavo|| 0.9900  | 0.0100  |\n",
      "Clear |Poor  |Low   |Unfavo|| 0.5500  | 0.4500  |\n",
      "Unclea|Good  |Low   |Unfavo|| 0.7500  | 0.2500  |\n",
      "Clear |Good  |Low   |Unfavo|| 0.3500  | 0.6500  |\n",
      "Unclea|Poor  |High  |Unfavo|| 0.8500  | 0.1500  |\n",
      "Clear |Poor  |High  |Unfavo|| 0.5000  | 0.5000  |\n",
      "[...4 more line(s) ...]\n",
      "Unclea|Good  |Low   |Favora|| 0.6000  | 0.4000  |\n",
      "Clear |Good  |Low   |Favora|| 0.1500  | 0.8500  |\n",
      "Unclea|Poor  |High  |Favora|| 0.6400  | 0.3600  |\n",
      "Clear |Poor  |High  |Favora|| 0.2500  | 0.7500  |\n",
      "Unclea|Good  |High  |Favora|| 0.5200  | 0.4800  |\n",
      "Clear |Good  |High  |Favora|| 0.0100  | 0.9900  |\n"
     ]
    }
   ],
   "source": [
    "# Your answer comes here\n",
    "\n",
    "bayesian_assignment_net.cpt('Outcome')['Unfavorable', 'Low', 'Poor', 'Unclear', :] = [0.99, 0.01]\n",
    "bayesian_assignment_net.cpt('Outcome')['Unfavorable', 'Low', 'Good', 'Unclear', :] = [0.75, 0.25]\n",
    "bayesian_assignment_net.cpt('Outcome')['Unfavorable', 'High', 'Poor', 'Unclear', :] = [0.85, 0.15]\n",
    "bayesian_assignment_net.cpt('Outcome')['Unfavorable', 'High', 'Good', 'Unclear', :] = [0.59, 0.41]\n",
    "bayesian_assignment_net.cpt('Outcome')['Unfavorable', 'Low', 'Poor', 'Clear', :] = [0.55, 0.45]\n",
    "bayesian_assignment_net.cpt('Outcome')['Unfavorable', 'Low', 'Good', 'Clear', :] = [0.35, 0.65]\n",
    "bayesian_assignment_net.cpt('Outcome')['Unfavorable', 'High', 'Poor', 'Clear', :] = [0.50, 0.50]\n",
    "bayesian_assignment_net.cpt('Outcome')['Unfavorable', 'High', 'Good', 'Clear', :] = [0.10, 0.90]\n",
    "bayesian_assignment_net.cpt('Outcome')['Favorable', 'Low', 'Poor', 'Unclear', :] = [0.95, 0.05]\n",
    "bayesian_assignment_net.cpt('Outcome')['Favorable', 'Low', 'Good', 'Unclear', :] = [0.6, 0.4]\n",
    "bayesian_assignment_net.cpt('Outcome')['Favorable', 'High', 'Poor', 'Unclear', :] = [0.64, 0.36]\n",
    "bayesian_assignment_net.cpt('Outcome')['Favorable', 'High', 'Good', 'Unclear', :] = [0.52, 0.48]\n",
    "bayesian_assignment_net.cpt('Outcome')['Favorable', 'Low', 'Poor', 'Clear', :] = [0.50, 0.50]\n",
    "bayesian_assignment_net.cpt('Outcome')['Favorable', 'Low', 'Good', 'Clear', :] = [0.15, 0.85]\n",
    "bayesian_assignment_net.cpt('Outcome')['Favorable', 'High', 'Poor', 'Clear', :] = [0.25, 0.75]\n",
    "bayesian_assignment_net.cpt('Outcome')['Favorable', 'High', 'Good', 'Clear', :] = [0.01, 0.99]\n",
    "\n",
    "print(bayesian_assignment_net.cpt('Outcome'))"
   ]
  },
  {
   "cell_type": "markdown",
   "metadata": {},
   "source": [
    "<span style=\"color:red; font-weight:bold;\">Question 9 <br> </span>\n",
    "Let's return the probability of the project success given a favorable market and a good project management quality.\n",
    "\n",
    "<span style=\"color:red\">\n",
    "In other words, let's calculate $P(outcome|market,pm\\_quality) and P(\\neg outcome|market,pm\\_quality)$\n",
    "</span>"
   ]
  },
  {
   "cell_type": "code",
   "execution_count": 112,
   "metadata": {
    "ExecuteTime": {
     "end_time": "2023-12-03T21:10:24.421878200Z",
     "start_time": "2023-12-03T21:10:23.696629400Z"
    }
   },
   "outputs": [
    {
     "name": "stdout",
     "output_type": "stream",
     "text": [
      "P(\t Outcome\t| Market, Pm_quality): 0.7905\n",
      "P( [Not Outcome]| Market, Pm_Quality): 0.20950000000000002\n",
      "Or alternatively as CPT\n",
      "\n",
      "  Outcome          |\n",
      "Failure  |Success  |\n",
      "---------|---------|\n",
      " 0.2095  | 0.7905  |\n"
     ]
    }
   ],
   "source": [
    "\n",
    "# Create the LazyPropagation \n",
    "ie = gum.LazyPropagation(bayesian_assignment_net)\n",
    "ie.setEvidence({'Market': 1, 'Project Management Quality': 1})\n",
    "ie.addTarget(bayesian_assignment_net.idFromName('Outcome'))\n",
    "\n",
    "prob_success_given_evidence = ie.posterior(bayesian_assignment_net.idFromName('Outcome'))[1]  \n",
    "prob_failure_given_evidence = 1 - prob_success_given_evidence\n",
    "\n",
    "# Print the results\n",
    "print(f'P(\\t Outcome\\t| Market, Pm_quality): {prob_success_given_evidence}')\n",
    "print(f'P( [Not Outcome]| Market, Pm_Quality): {prob_failure_given_evidence}')\n",
    "print('Or alternatively as CPT')\n",
    "print(ie.posterior(bayesian_assignment_net.idFromName('Outcome')).normalizeAsCPT())"
   ]
  },
  {
   "cell_type": "code",
   "execution_count": 113,
   "metadata": {
    "scrolled": true,
    "ExecuteTime": {
     "end_time": "2023-12-03T21:10:24.422885500Z",
     "start_time": "2023-12-03T21:10:23.702239400Z"
    }
   },
   "outputs": [],
   "source": [
    "# Your answer comes here"
   ]
  },
  {
   "cell_type": "markdown",
   "metadata": {},
   "source": [
    "<span style=\"color:red; font-weight:bold;\">Question 10 <br> </span>\n",
    "What is the probability of having had clear requirements given that the project has suceeded.\n",
    "\n",
    "<span style=\"color:red\">\n",
    "In other words, let's calculate $P(requirements|outcome) and P(\\neg requirements|outcome)$\n",
    "</span>"
   ]
  },
  {
   "cell_type": "code",
   "execution_count": 114,
   "metadata": {
    "scrolled": true,
    "ExecuteTime": {
     "end_time": "2023-12-03T21:10:24.422885500Z",
     "start_time": "2023-12-03T21:10:23.706003700Z"
    }
   },
   "outputs": [
    {
     "name": "stdout",
     "output_type": "stream",
     "text": [
      "\n",
      "  Requirements     |\n",
      "Unclear  |Clear    |\n",
      "---------|---------|\n",
      " 0.1876  | 0.8124  |\n"
     ]
    }
   ],
   "source": [
    "# Your answer comes here\n",
    "\n",
    "# Create the LazyPropagation \n",
    "ie = gum.LazyPropagation(bayesian_assignment_net)\n",
    "ie.setEvidence({'Outcome': 1})\n",
    "ie.addTarget(bayesian_assignment_net.idFromName('Requirements'))\n",
    "\n",
    "prob_success_given_evidence = ie.posterior('Requirements').normalizeAsCPT()\n",
    "\n",
    "print(prob_success_given_evidence)\n"
   ]
  }
 ],
 "metadata": {
  "kernelspec": {
   "display_name": "Python 3 (ipykernel)",
   "language": "python",
   "name": "python3"
  },
  "language_info": {
   "codemirror_mode": {
    "name": "ipython",
    "version": 3
   },
   "file_extension": ".py",
   "mimetype": "text/x-python",
   "name": "python",
   "nbconvert_exporter": "python",
   "pygments_lexer": "ipython3",
   "version": "3.10.4"
  }
 },
 "nbformat": 4,
 "nbformat_minor": 4
}
